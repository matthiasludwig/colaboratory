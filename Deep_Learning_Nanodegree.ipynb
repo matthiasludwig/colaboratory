{
  "nbformat": 4,
  "nbformat_minor": 0,
  "metadata": {
    "colab": {
      "name": "Deep Learning Nanodegree.ipynb",
      "version": "0.3.2",
      "provenance": [],
      "collapsed_sections": [],
      "toc_visible": true
    },
    "kernelspec": {
      "name": "python3",
      "display_name": "Python 3"
    },
    "accelerator": "GPU"
  },
  "cells": [
    {
      "metadata": {
        "id": "ym9D8-P3jJCk",
        "colab_type": "text"
      },
      "cell_type": "markdown",
      "source": [
        "# Introductions"
      ]
    },
    {
      "metadata": {
        "id": "Ahm0DG1cyqdO",
        "colab_type": "text"
      },
      "cell_type": "markdown",
      "source": [
        "The Deep Learning Foundation Program is divided into **six chapters**, some of which including a project to complete:\n",
        "\n",
        "\n",
        "1.   Introductions\n",
        "2.   Neural Networks (**P1: Your first neural network**)\n",
        "3.   Convolutional Neural Networks (**P2: Dog Breed Classifier**)\n",
        "4.   Recurrent Neural Networks (**P3: Generate TV Scripts**)\n",
        "5.   Generative Adversarial Networks (**P4: Generate Faces**)\n",
        "6.   Deep Reinforcement Learning (**P5: Teach a Quadcopter to Fly**)\n",
        "\n",
        "**Machine Learning:**\n",
        "* Supervised (Feedback)\n",
        "* Unsupervised (No labels)\n",
        "* Reinforcement Learning (Feedback at the end)\n",
        "\n",
        "---\n",
        "\n",
        "\n",
        "## Anaconda\n",
        "Conda is a package manager that organizes dependencies in environments\n",
        "\n",
        "\n",
        "\n",
        "```\n",
        "conda create -n name packages=3       # Creates a new environment\n",
        "conda env list                        # Lists all environments\n",
        "source activate name                  # Activates an environment\n",
        "  conda install numpy pandas ...      # Installs packages inside the environment\n",
        "  conda list                          # Lists all packages installed in the environment\n",
        "  conda env export > environment.yaml # Exports all depencencies into a yaml file\n",
        "conda env create -f environment.yaml  # Creates a new environment from the yaml file\n",
        "conda env remove -n name              # Remove conda env\n",
        "```\n"
      ]
    },
    {
      "metadata": {
        "id": "M8b5SqkDBCsi",
        "colab_type": "text"
      },
      "cell_type": "markdown",
      "source": [
        "## Jupyter\n",
        "A notebook is a web appplication that allows you to combine explanatory text, math equations, code and visualizations all in one easily sharable document.\n",
        "It is an example of [literate programming](http://www.literateprogramming.com/)\n",
        "\n",
        "### How Jupyter works:\n",
        "\n",
        "![explanation of how jupyter notebooks work](https://jupyter.readthedocs.io/en/latest/_images/notebook_components.png)"
      ]
    },
    {
      "metadata": {
        "id": "tE-d5FOvBLu0",
        "colab_type": "text"
      },
      "cell_type": "markdown",
      "source": [
        "## Matrix Math and Numpy Refresher\n",
        "### Data Dimensions\n",
        "**Scalar:** Simplest shape | 0 dimsension\n",
        "**Vectors:** Row or Column vectors | 1 dimesion = length\n",
        "**Matrices:** 2d Vector | 2 dimensions\n",
        "**Tensors:** n-dimensional tensor\n",
        "\n",
        "Axy = x is the row and y is the column.\n",
        "\n",
        "### Numpy\n",
        "Written in C to perform fast mathematical operations."
      ]
    },
    {
      "metadata": {
        "id": "XMeaagt28Z-A",
        "colab_type": "code",
        "colab": {
          "base_uri": "https://localhost:8080/",
          "height": 69
        },
        "outputId": "865a60ba-d507-4639-d49d-0f875b87e5c2"
      },
      "cell_type": "code",
      "source": [
        "import numpy as np\n",
        "\n",
        "s = np.array(5)        # Scalar\n",
        "s.shape                # () since it is a scalar\n",
        "\n",
        "v = np.array([1,2,3])  # Vector\n",
        "v.shape                # (3,)\n",
        "v[1]                   # 2\n",
        "v[1:]                  # 2,3 | Access elements from the second one on\n",
        "\n",
        "m = np.array([[1,2,3], [4,5,6], [7,8,9]])\n",
        "m.shape                # (3,3)\n",
        "\n",
        "t = np.array([[[[1],[2]],[[3],[4]],[[5],[6]]],[[[7],[8]],[[9],[10]],[[11],[12]]],[[[13],[14]],[[15],[16]],[[17],[17]]]])\n",
        "t.shape                # (3,3,2,1)\n",
        "\n",
        "v.reshape(1,3)         # Change the shape\n",
        "v = v[:, None]         # More experienced reshaping\n",
        "v = v[None,:]\n",
        "v"
      ],
      "execution_count": 1,
      "outputs": [
        {
          "output_type": "execute_result",
          "data": {
            "text/plain": [
              "array([[[1],\n",
              "        [2],\n",
              "        [3]]])"
            ]
          },
          "metadata": {
            "tags": []
          },
          "execution_count": 1
        }
      ]
    },
    {
      "metadata": {
        "id": "GQ-MnqWR-33Q",
        "colab_type": "text"
      },
      "cell_type": "markdown",
      "source": [
        "### Element-wise Matrix Operations\n",
        "Treat the items in the matrix individually and perform the same operation on each one.\n",
        "Matrices have to have the same shape."
      ]
    },
    {
      "metadata": {
        "id": "j63fjn-u9Fdg",
        "colab_type": "code",
        "colab": {
          "base_uri": "https://localhost:8080/",
          "height": 52
        },
        "outputId": "bab5fc50-1cc7-404b-f50c-e44166d0fc79"
      },
      "cell_type": "code",
      "source": [
        "values = [1,2,3,4,5]\n",
        "values = np.array(values) + 5\n",
        "print(values)            # [6,7,8,9,10]\n",
        "\n",
        "values = np.multiply(values, 5)\n",
        "print(values)            # [30,35,40,50]"
      ],
      "execution_count": 3,
      "outputs": [
        {
          "output_type": "stream",
          "text": [
            "[ 6  7  8  9 10]\n",
            "[30 35 40 45 50]\n"
          ],
          "name": "stdout"
        }
      ]
    },
    {
      "metadata": {
        "id": "jWBGvQVEwFle",
        "colab_type": "text"
      },
      "cell_type": "markdown",
      "source": [
        "### Matrix Multiplication\n",
        "Matrices don't have to have the same shape.\n",
        "Rows of the first Matrix and the columns of the second matrix. (Taking the Dot Product multiple times)\n",
        "\n",
        "#### Import Reminders about Matrix Multiplication\n",
        "* Number of columns in the left matrix must be equal to the number of rows in the second matrix. (2x3 and 3x2) (RowsXColumns)\n",
        "* The Result will have the same number of rows as the left matrix and the same number of columns as the right matrix.\n",
        "* Order matters. A*B != B*A\n",
        "* The data in the left should be ordered in rows and in columns in the left\n",
        "\n",
        "#### Dot Product\n",
        "Multiply the corresponding elements of each vector. Then we add up all the results."
      ]
    },
    {
      "metadata": {
        "id": "vu6RHdibyg5K",
        "colab_type": "text"
      },
      "cell_type": "markdown",
      "source": [
        "### NumPy Matrix Multiplication\n",
        "\n",
        "**Element-wise** Multiplication: Using the * or multiply function:"
      ]
    },
    {
      "metadata": {
        "id": "MAYmkPD1zI5Q",
        "colab_type": "code",
        "colab": {
          "base_uri": "https://localhost:8080/",
          "height": 52
        },
        "outputId": "4dc4170a-42a8-40e6-f109-2fe5ee34615e"
      },
      "cell_type": "code",
      "source": [
        "import numpy as np\n",
        "\n",
        "multiple = np.array([[1,2,3],[4,5,6]])\n",
        "multiple\n",
        "\n",
        "new = multiple * 0.25\n",
        "new\n",
        "\n",
        "new * multiple\n",
        "\n",
        "np.multiply(multiple, new)\n"
      ],
      "execution_count": 3,
      "outputs": [
        {
          "output_type": "execute_result",
          "data": {
            "text/plain": [
              "array([[0.25, 1.  , 2.25],\n",
              "       [4.  , 6.25, 9.  ]])"
            ]
          },
          "metadata": {
            "tags": []
          },
          "execution_count": 3
        }
      ]
    },
    {
      "metadata": {
        "id": "gxXL22HE0xCa",
        "colab_type": "text"
      },
      "cell_type": "markdown",
      "source": [
        "Finding the **Matrix Product** using NumPy's matmul function:"
      ]
    },
    {
      "metadata": {
        "id": "7UmhIFVi03za",
        "colab_type": "code",
        "colab": {
          "base_uri": "https://localhost:8080/",
          "height": 34
        },
        "outputId": "204ff9de-1b4c-4116-e173-b87ac5c2cf45"
      },
      "cell_type": "code",
      "source": [
        "a = np.array([[1,2,3,4],[5,6,7,8]])\n",
        "a\n",
        "\n",
        "a.shape # (2,4)\n",
        "\n",
        "b = np.array([[1,2,3],[4,5,6],[7,8,9],[10,11,12]])\n",
        "b\n",
        "\n",
        "b.shape # (4,3)\n",
        "\n",
        "c = np.matmul(a,b)\n",
        "c\n",
        "\n",
        "c.shape # 2,3"
      ],
      "execution_count": 28,
      "outputs": [
        {
          "output_type": "execute_result",
          "data": {
            "text/plain": [
              "(2, 3)"
            ]
          },
          "metadata": {
            "tags": []
          },
          "execution_count": 28
        }
      ]
    },
    {
      "metadata": {
        "id": "guqggPPA2KLU",
        "colab_type": "text"
      },
      "cell_type": "markdown",
      "source": [
        "NumPy's **dot function** can be identical to matmul (if the matrices are 2-dimensional)"
      ]
    },
    {
      "metadata": {
        "id": "YNgNPNR92ZA6",
        "colab_type": "code",
        "colab": {
          "base_uri": "https://localhost:8080/",
          "height": 52
        },
        "outputId": "2ff419d2-188f-433f-8424-ded97334ed49"
      },
      "cell_type": "code",
      "source": [
        "a = np.array([[1,2],[3,4]])\n",
        "\n",
        "np.dot(a,a)\n",
        "a.dot(a)\n",
        "np.matmul(a,a)"
      ],
      "execution_count": 31,
      "outputs": [
        {
          "output_type": "execute_result",
          "data": {
            "text/plain": [
              "array([[ 7, 10],\n",
              "       [15, 22]])"
            ]
          },
          "metadata": {
            "tags": []
          },
          "execution_count": 31
        }
      ]
    },
    {
      "metadata": {
        "id": "nDmenn7-5rsS",
        "colab_type": "text"
      },
      "cell_type": "markdown",
      "source": [
        "### Transpose\n",
        "\n",
        "If the original Matrix was **not** a square the new transpose will have the dimensions swapped.\n",
        "Each feature is either in a row or a column.\n",
        "\n",
        "The option if you should transpose depends on the situation(!)\n",
        "\n",
        "**The only time you can safely use a tranpose if both data is arranged as rows**"
      ]
    },
    {
      "metadata": {
        "id": "pT3CyPSx7BOG",
        "colab_type": "code",
        "colab": {
          "base_uri": "https://localhost:8080/",
          "height": 86
        },
        "outputId": "519ba9a9-52ef-48f5-d182-f38c343ad8c4"
      },
      "cell_type": "code",
      "source": [
        "m = np.array([[1,2,3,4],[5,6,7,8],[9,10,11,12]])\n",
        "m\n",
        "\n",
        "m.T # Transpose of m"
      ],
      "execution_count": 33,
      "outputs": [
        {
          "output_type": "execute_result",
          "data": {
            "text/plain": [
              "array([[ 1,  5,  9],\n",
              "       [ 2,  6, 10],\n",
              "       [ 3,  7, 11],\n",
              "       [ 4,  8, 12]])"
            ]
          },
          "metadata": {
            "tags": []
          },
          "execution_count": 33
        }
      ]
    },
    {
      "metadata": {
        "id": "svSYT5JKA07m",
        "colab_type": "text"
      },
      "cell_type": "markdown",
      "source": [
        "# Neural Networks"
      ]
    },
    {
      "metadata": {
        "id": "yb6Q8vXOCq8K",
        "colab_type": "text"
      },
      "cell_type": "markdown",
      "source": [
        "## Lesson 1: Introduction to Neural Networks\n",
        "\n",
        "First idea is to compare Neural Networks to Linear Regression.\n",
        "\n",
        "W = Weights\n",
        "b = Bias\n",
        "x = Input\n",
        "y = label\n",
        "ÿ = Prediction\n",
        "\n",
        "### Perceptron\n",
        "\n",
        "**Comparison:** The Perceptron is the 2\\*Test + 1\\*Grades -18. Smaller Nodes are Inputs. Arrows are the Weights/Bias.\n",
        "\n",
        "![Image Perceptron](https://)\n",
        "\n",
        "#### Perceptron as Logical Operators\n",
        "\n",
        "**AND:** Only true if both INs are 1\n",
        "\n",
        "**OR:** If any of it's INs are 1\n",
        "\n",
        "**NOT:** Flips one of the Inputs\n",
        "\n",
        "**NAND:** Not and and\n",
        "\n",
        "The Perceptron Steps (Only works for linear function):\n"
      ]
    },
    {
      "metadata": {
        "id": "mhTfPfMlpc-S",
        "colab_type": "code",
        "colab": {}
      },
      "cell_type": "code",
      "source": [
        "def perceptronStep(X, y, W, b, learn_rate = 0.01):\n",
        "    # Fill in code\n",
        "    for i in range(len(X)):\n",
        "        pred = prediction(X[i], W, b)\n",
        "        if y[i] - pred == 1:\n",
        "            W[0] += X[i][0] * learn_rate\n",
        "            W[1] += X[i][1] * learn_rate\n",
        "            b += learn_rate\n",
        "        if y[i] - pred == -1:\n",
        "            W[0] -= X[i][0] * learn_rate\n",
        "            W[1] -= X[i][1] * learn_rate\n",
        "            b -= learn_rate\n",
        "    return W, b"
      ],
      "execution_count": 0,
      "outputs": []
    },
    {
      "metadata": {
        "id": "tRu6T9Ptp6xq",
        "colab_type": "text"
      },
      "cell_type": "markdown",
      "source": [
        "### Error Functions\n",
        "\n",
        "* Minimizing the Error functions => Avoid local minimum. (Gradient Descent)\n",
        "* Error functions needs to be differentiable and continuous.\n",
        "\n",
        "**Goal:** Finding the way to minimize the Loss the fastest. The challenge is not to get stuck in a local minimum.\n",
        "Correctly classified points should carry a small Error. Not correctly classified points should carry a high penalty.\n",
        "\n",
        "**Prediction:** Discrete would be: Yes/no. Continious would be 0-100% likelyhood of something:\n",
        "* **Sigmoid:** Change the Activation function from Step function to sigmoid. 1/(1+e^-x)\n",
        "* **Softmax:** Classification Problems. The probabilities across all options have to add to 1. e^Zi / e^Zn\n",
        "* **One-Hot Encoding:** Inputvariables. One variable for each class. Each class has a column with either 0 or 1. So the value for each element is for example [0,0,1]"
      ]
    },
    {
      "metadata": {
        "id": "Sf1_z6Sl2qu2",
        "colab_type": "text"
      },
      "cell_type": "markdown",
      "source": [
        "### Maximum Probability\n",
        "\n",
        "All Probabilities of each points multiplied. Gives the Probabilities that these points are the respective colors. The goal then becomes to maximize the likelyhood.\n",
        "* Increasing the probability => Deceasing the error\n",
        "* Going from products to sums: log. Becasue log(ab) = log(a) + log(b). All negative numbers => -ln(x)"
      ]
    },
    {
      "metadata": {
        "id": "s2XsTXpZ2t3A",
        "colab_type": "text"
      },
      "cell_type": "markdown",
      "source": [
        "### Cross-Entropy\n",
        "\n",
        "=> -ln(x).\n",
        "\n",
        "Good model gives a small Cross Entropy, A bad model gives a high Cross Entropy.\n",
        "\n",
        "Cross entropy says if a bunch of events and a bunch of probabilities, how likely is it that those events happen based on the probabilities?\n",
        "\n",
        "* Very likely: Small CE\n",
        "* Very unlikely: Big CE\n",
        "\n",
        "All probabilities of all Ys adds up to 1.\n",
        "\n",
        "**CE:** Gives how similiar two vectors are."
      ]
    },
    {
      "metadata": {
        "id": "I4uJZ0kE2CvG",
        "colab_type": "code",
        "colab": {
          "base_uri": "https://localhost:8080/",
          "height": 34
        },
        "outputId": "6c718294-a8c8-494d-e5dc-8ec3745cfc5c"
      },
      "cell_type": "code",
      "source": [
        "import numpy as np\n",
        "\n",
        "L = [1,0,1,1]\n",
        "P = [0.4,0.6,0.1,0.5]\n",
        "\n",
        "# Write a function that takes as input two lists Y, P,\n",
        "# and returns the float corresponding to their cross-entropy.\n",
        "def cross_entropy(Y, P):\n",
        "    \n",
        "    result = 0\n",
        "    \n",
        "    for y,p in zip(Y,P):\n",
        "        if y == 0:\n",
        "            result += np.log(1 - p)\n",
        "        else:\n",
        "            result += np.log(p)\n",
        "    \n",
        "    return result * (-1)\n",
        "  \n",
        "print(cross_entropy(L,P))"
      ],
      "execution_count": 1,
      "outputs": [
        {
          "output_type": "stream",
          "text": [
            "4.828313737302301\n"
          ],
          "name": "stdout"
        }
      ]
    },
    {
      "metadata": {
        "id": "twa_vpQp2bxy",
        "colab_type": "text"
      },
      "cell_type": "markdown",
      "source": [
        "### Multi-Class Cross Entropy\n",
        "\n",
        "**CE:** -Ei Ej yij ln(pij)\n",
        "\n",
        "A higher CE correlates to a lower Probability of this event happening (and vice versa)"
      ]
    },
    {
      "metadata": {
        "id": "VAar5B9P3hMq",
        "colab_type": "text"
      },
      "cell_type": "markdown",
      "source": [
        "### Gradient Descent (Step)\n",
        "\n",
        "From the Error function through Gradient Descent a smaller Error function is searched for.\n",
        "\n",
        "Negative of the Gradient of the Error function leads us to the fastest way *\"down\"*. (Times a small learning rate)\n",
        "\n",
        "The **Derivative of the Sigmoid function** is: s(x) * (1-s(x))\n",
        "\n",
        "The **Derivative of the Error function** is: -(y - ÿ)(x1,...,xn,1)\n",
        "\n",
        "#### Step\n",
        "\n",
        "w'i <- wi + alpha(y-ÿ)xi (where alpha is the learning rate **and** 1/m * alpha)\n",
        "\n",
        "The update of the bias is similiar.\n",
        "\n",
        "\n",
        "#### Pseudo Code\n",
        "\n",
        "1. Start with random weights\n",
        "2. For every point\n",
        "\n",
        "  2.1 For i = i...n\n",
        "  \n",
        "    2.1.1 Update w'i <- wi - alpha(ÿ-y)xi\n",
        "    \n",
        "    2.2.2 Update b' <- b - alpha(ÿ-y)\n",
        "3. Repeat until the error is small\n",
        "\n",
        "(How many times = epochs)"
      ]
    },
    {
      "metadata": {
        "id": "3z7Q45NvDJp0",
        "colab_type": "code",
        "colab": {}
      },
      "cell_type": "code",
      "source": [
        "# Activation (sigmoid) function\n",
        "def sigmoid(x):\n",
        "    return 1 / (1 + np.exp(-x))\n",
        "\n",
        "def output_formula(features, weights, bias):\n",
        "    return sigmoid(np.dot(features, weights) + bias)\n",
        "\n",
        "def error_formula(y, output):\n",
        "    return - y*np.log(output) - (1 - y) * np.log(1-output)\n",
        "\n",
        "def update_weights(x, y, weights, bias, learnrate):\n",
        "    output = output_formula(x, weights, bias)\n",
        "    d_error = -(y - output)\n",
        "    weights -= learnrate * d_error * x\n",
        "    bias -= learnrate * d_error\n",
        "    return weights, bias"
      ],
      "execution_count": 0,
      "outputs": []
    },
    {
      "metadata": {
        "id": "wRXWZOU4HMhC",
        "colab_type": "text"
      },
      "cell_type": "markdown",
      "source": [
        "### Neural Network Architecture\n",
        "\n",
        "**Non-linear Models:** The line seperating two point groups will not be linear anymore this is where Neural Networks come into play\n",
        "\n",
        "=> Combining two linear models. Two probabilies via the sigmoid function. Adding two linear models to obtain a third model.\n",
        "\n",
        "* Input Layer (containts the inputs x1, x2,..., xn)\n",
        "* Hidden Layer\n",
        "* Output Layer (non-linear space)\n",
        "\n",
        "**Multi-class problems** have more Output Layers\n",
        "\n",
        "**More Hidden Layers:** Deep(er) Neural Network.\n",
        "\n"
      ]
    },
    {
      "metadata": {
        "id": "RpVaQDWmb6-d",
        "colab_type": "text"
      },
      "cell_type": "markdown",
      "source": [
        "### Feedforward\n",
        "\n",
        "This is the process of neural networks use to turn the input into an output.\n",
        "Through the weights the different inputs get a stronger emphasis.\n",
        "\n",
        "Input vector -> Apply a sequence of linear functions and sigmoid functions to get a highly non-linear output layer."
      ]
    },
    {
      "metadata": {
        "id": "YBX5q9wLdEi4",
        "colab_type": "text"
      },
      "cell_type": "markdown",
      "source": [
        "### Backpropagation\n",
        "\n",
        "E(W) = 1/m E yi ln(ÿi) + (1 - yi)ln(1 - ÿi)\n",
        "\n",
        "* Doing a feedforward operation\n",
        "* Comparing the output to the desired output (y - ÿ)\n",
        "* Calculating the Error\n",
        "* Running the feedforward operation backwards to spread the error to each of the weights\n",
        "* Use this to update the weights and get a better model\n",
        "* Repeat this process\n",
        "\n"
      ]
    },
    {
      "metadata": {
        "id": "NxmBDCO5hWXG",
        "colab_type": "text"
      },
      "cell_type": "markdown",
      "source": [
        "## Lesson 2: Implementing Gradient Descent"
      ]
    },
    {
      "metadata": {
        "id": "CmLp-Tx35x97",
        "colab_type": "text"
      },
      "cell_type": "markdown",
      "source": [
        "In the last chapter we used the log-loss function. There are many other error functions used for neural networks. One is called the mean squared error: It is the mean of the squares of the differences between the predictions and the labels.\n",
        "\n",
        "**SSE:** E = 1/2 EE (yj - ÿj)^2\n",
        "\n",
        "**Caveats:** We can end up in a local minima. That happens if the weights are initialized with the wrong values.\n",
        "\n",
        "The **derivative of the Error** with respect to wi is: - (y - ÿ)f'(h)xi"
      ]
    },
    {
      "metadata": {
        "id": "fA4kOF9It1Xm",
        "colab_type": "code",
        "colab": {
          "base_uri": "https://localhost:8080/",
          "height": 34
        },
        "outputId": "12975a8e-b4e8-4d62-f6f4-f4fc867eb010"
      },
      "cell_type": "code",
      "source": [
        "import numpy as np\n",
        "\n",
        "# Defining the sigmoid function for activations\n",
        "def sigmoid(x):\n",
        "    return 1/(1+np.exp(-x))\n",
        "\n",
        "# Derivative of the sigmoid function\n",
        "def sigmoid_prime(x):\n",
        "    return sigmoid(x) * (1 - sigmoid(x))\n",
        "\n",
        "# Input data\n",
        "x = np.array([0.1, 0.3])\n",
        "# Target\n",
        "y = 0.2\n",
        "# Input to output weights\n",
        "weights = np.array([-0.8, 0.5])\n",
        "\n",
        "# The learning rate, eta in the weight step equation\n",
        "learnrate = 0.5\n",
        "\n",
        "# the linear combination performed by the node (h in f(h) and f'(h))\n",
        "h = x[0]*weights[0] + x[1]*weights[1]\n",
        "# or h = np.dot(x, weights)\n",
        "\n",
        "# The neural network output (y-hat)\n",
        "nn_output = sigmoid(h)\n",
        "\n",
        "# output error (y - y-hat)\n",
        "error = y - nn_output\n",
        "\n",
        "# output gradient (f'(h))\n",
        "output_grad = sigmoid_prime(h)\n",
        "\n",
        "# error term (lowercase delta)\n",
        "error_term = error * output_grad\n",
        "\n",
        "# Gradient descent step \n",
        "del_w = [ learnrate * error_term * x[0],\n",
        "          learnrate * error_term * x[1]]\n",
        "# or del_w = learnrate * error_term * x\n",
        "\n",
        "print(del_w)"
      ],
      "execution_count": 2,
      "outputs": [
        {
          "output_type": "stream",
          "text": [
            "[-0.003963803079006883, -0.011891409237020648]\n"
          ],
          "name": "stdout"
        }
      ]
    },
    {
      "metadata": {
        "id": "B_cGkjazvy-u",
        "colab_type": "text"
      },
      "cell_type": "markdown",
      "source": [
        "Here's the general algorithm for updating the weights with gradient descent:\n",
        "\n",
        "Set the weight step to zero: Δwi=0\\Delta w_i = 0Δwi​=0\n",
        "\n",
        "**For each record in the training data:**\n",
        "\n",
        "* Make a forward pass through the network, calculating the output y^=f(∑iwixi)\\hat y = f(\\sum_i w_i x_i)y^​=f(∑i​wi​xi​)\n",
        "* Calculate the error term for the output unit, δ=(y−y^)∗f′(∑iwixi)\\delta = (y - \\hat y) * f'(\\sum_i w_i x_i)δ=(y−y^​)∗f′(∑i​wi​xi​)\n",
        "* Update the weight step Δwi=Δwi+δxi\\Delta w_i = \\Delta w_i + \\delta x_iΔwi​=Δwi​+δxi​\n",
        "* Update the weights wi=wi+ηΔwi/mw_i = w_i + \\eta \\Delta w_i / mwi​=wi​+ηΔwi​/m where η\\etaη is the learning rate and mmm is the number of records. Here we're averaging the weight steps to help reduce any large variations in the training data.\n",
        "\n",
        "Repeat for e epochs.\n",
        "\n",
        "**Example with Epochs:**\n"
      ]
    },
    {
      "metadata": {
        "id": "hr1cB50D0UZj",
        "colab_type": "code",
        "colab": {}
      },
      "cell_type": "code",
      "source": [
        "import numpy as np\n",
        "from data_prep import features, targets, features_test, targets_test\n",
        "\n",
        "\n",
        "def sigmoid(x):\n",
        "    \"\"\"\n",
        "    Calculate sigmoid\n",
        "    \"\"\"\n",
        "    return 1 / (1 + np.exp(-x))\n",
        "\n",
        "# TODO: We haven't provided the sigmoid_prime function like we did in\n",
        "#       the previous lesson to encourage you to come up with a more\n",
        "#       efficient solution. If you need a hint, check out the comments\n",
        "#       in solution.py from the previous lecture.\n",
        "\n",
        "# Use to same seed to make debugging easier\n",
        "np.random.seed(42)\n",
        "\n",
        "n_records, n_features = features.shape\n",
        "last_loss = None\n",
        "\n",
        "# Initialize weights\n",
        "weights = np.random.normal(scale=1 / n_features**.5, size=n_features)\n",
        "\n",
        "# Neural Network hyperparameters\n",
        "epochs = 1000\n",
        "learnrate = 0.5\n",
        "\n",
        "for e in range(epochs):\n",
        "    del_w = np.zeros(weights.shape)\n",
        "    for x, y in zip(features.values, targets):\n",
        "        # Loop through all records, x is the input, y is the target\n",
        "\n",
        "        # Note: We haven't included the h variable from the previous\n",
        "        #       lesson. You can add it if you want, or you can calculate\n",
        "        #       the h together with the output\n",
        "\n",
        "        # TODO: Calculate the output\n",
        "        h = np.dot(x, weights)\n",
        "        \n",
        "        output = sigmoid(h)\n",
        "\n",
        "        # TODO: Calculate the error\n",
        "        error = y - output\n",
        "\n",
        "        # TODO: Calculate the error term\n",
        "        #output_grad = output * (1 - output)\n",
        "        \n",
        "        error_term = error * output * (1 - output)\n",
        "\n",
        "        # TODO: Calculate the change in weights for this sample\n",
        "        #       and add it to the total weight change\n",
        "        del_w += error_term * x\n",
        "\n",
        "    # TODO: Update weights using the learning rate and the average change in weights\n",
        "    weights += learnrate * del_w / n_records\n",
        "\n",
        "    # Printing out the mean square error on the training set\n",
        "    if e % (epochs / 10) == 0:\n",
        "        out = sigmoid(np.dot(features, weights))\n",
        "        loss = np.mean((out - targets) ** 2)\n",
        "        if last_loss and last_loss < loss:\n",
        "            print(\"Train loss: \", loss, \"  WARNING - Loss Increasing\")\n",
        "        else:\n",
        "            print(\"Train loss: \", loss)\n",
        "        last_loss = loss\n",
        "\n",
        "\n",
        "# Calculate accuracy on test data\n",
        "tes_out = sigmoid(np.dot(features_test, weights))\n",
        "predictions = tes_out > 0.5\n",
        "accuracy = np.mean(predictions == targets_test)\n",
        "print(\"Prediction accuracy: {:.3f}\".format(accuracy))"
      ],
      "execution_count": 0,
      "outputs": []
    },
    {
      "metadata": {
        "id": "naiGag7S10mw",
        "colab_type": "text"
      },
      "cell_type": "markdown",
      "source": [
        "### Multilayer Preceptrons\n",
        "\n",
        "With hidden units, the weights between them will require two incides: wij, where i denotes input units and j are the hidden units\n",
        "\n",
        "#### Making a column vector\n",
        "\n",
        "It's possible to get the transpose of an array like so arr.T but for a 1D array, the transpose will return a row vector. Instead use arr[:,None] to create a column vector:"
      ]
    },
    {
      "metadata": {
        "id": "utxxEpMm56O2",
        "colab_type": "code",
        "colab": {
          "base_uri": "https://localhost:8080/",
          "height": 104
        },
        "outputId": "f02e92ef-be94-4e98-92b9-95151e6af3b7"
      },
      "cell_type": "code",
      "source": [
        "features = np.array([0.49671415, -0.1382643 , 0.64768854])\n",
        "\n",
        "print(features)\n",
        "# array([ 0.49671415, -0.1382643 ,  0.64768854])\n",
        "\n",
        "print(features.T)\n",
        "# array([ 0.49671415, -0.1382643 ,  0.64768854])\n",
        "\n",
        "print(features[:, None])\n",
        "# array([[ 0.49671415],\n",
        "#       [-0.1382643 ],\n",
        "#       [ 0.64768854]])"
      ],
      "execution_count": 6,
      "outputs": [
        {
          "output_type": "stream",
          "text": [
            "[ 0.49671415 -0.1382643   0.64768854]\n",
            "[ 0.49671415 -0.1382643   0.64768854]\n",
            "[[ 0.49671415]\n",
            " [-0.1382643 ]\n",
            " [ 0.64768854]]\n"
          ],
          "name": "stdout"
        }
      ]
    },
    {
      "metadata": {
        "id": "X2lCWzD86701",
        "colab_type": "text"
      },
      "cell_type": "markdown",
      "source": [
        "#### Backpropagation\n",
        "\n",
        "Using the chain rule to find the error with respect to the weights connecting the input layer to the hidden layer (for a two layer network)."
      ]
    },
    {
      "metadata": {
        "id": "WH9KRveU_a77",
        "colab_type": "code",
        "colab": {
          "base_uri": "https://localhost:8080/",
          "height": 121
        },
        "outputId": "d4231c30-2d07-46c3-8647-17682c13ce3a"
      },
      "cell_type": "code",
      "source": [
        "import numpy as np\n",
        "\n",
        "\n",
        "def sigmoid(x):\n",
        "    \"\"\"\n",
        "    Calculate sigmoid\n",
        "    \"\"\"\n",
        "    return 1 / (1 + np.exp(-x))\n",
        "\n",
        "\n",
        "x = np.array([0.5, 0.1, -0.2])\n",
        "target = 0.6\n",
        "learnrate = 0.5\n",
        "\n",
        "weights_input_hidden = np.array([[0.5, -0.6],\n",
        "                                 [0.1, -0.2],\n",
        "                                 [0.1, 0.7]])\n",
        "\n",
        "weights_hidden_output = np.array([0.1, -0.3])\n",
        "\n",
        "## Forward pass\n",
        "hidden_layer_input = np.dot(x, weights_input_hidden)\n",
        "hidden_layer_output = sigmoid(hidden_layer_input)\n",
        "\n",
        "output_layer_in = np.dot(hidden_layer_output, weights_hidden_output)\n",
        "output = sigmoid(output_layer_in)\n",
        "\n",
        "## Backwards pass\n",
        "## TODO: Calculate output error\n",
        "error = target - output\n",
        "\n",
        "# TODO: Calculate error term for output layer\n",
        "output_error_term = error * output * (1 - output)\n",
        "\n",
        "# TODO: Calculate error term for hidden layer\n",
        "hidden_error_term = np.dot(output_error_term, weights_hidden_output) * hidden_layer_output * (1 - hidden_layer_output)\n",
        "\n",
        "# TODO: Calculate change in weights for hidden layer to output layer\n",
        "delta_w_h_o = learnrate * output_error_term * hidden_layer_output\n",
        "\n",
        "# TODO: Calculate change in weights for input layer to hidden layer\n",
        "delta_w_i_h = learnrate * hidden_error_term * x[:, None]\n",
        "\n",
        "print('Change in weights for hidden layer to output layer:')\n",
        "print(delta_w_h_o)\n",
        "print('Change in weights for input layer to hidden layer:')\n",
        "print(delta_w_i_h)\n"
      ],
      "execution_count": 1,
      "outputs": [
        {
          "output_type": "stream",
          "text": [
            "Change in weights for hidden layer to output layer:\n",
            "[0.00804047 0.00555918]\n",
            "Change in weights for input layer to hidden layer:\n",
            "[[ 1.77005547e-04 -5.11178506e-04]\n",
            " [ 3.54011093e-05 -1.02235701e-04]\n",
            " [-7.08022187e-05  2.04471402e-04]]\n"
          ],
          "name": "stdout"
        }
      ]
    },
    {
      "metadata": {
        "id": "pYMPMva5BpDo",
        "colab_type": "text"
      },
      "cell_type": "markdown",
      "source": [
        "#### Implementing Backpropagation"
      ]
    },
    {
      "metadata": {
        "id": "Y9z6AT5GBsuL",
        "colab_type": "code",
        "colab": {
          "base_uri": "https://localhost:8080/",
          "height": 373
        },
        "outputId": "03032ef5-7bdb-43ad-f62b-f086e0713470"
      },
      "cell_type": "code",
      "source": [
        "import numpy as np\n",
        "from data_prep import features, targets, features_test, targets_test\n",
        "\n",
        "np.random.seed(21)\n",
        "\n",
        "def sigmoid(x):\n",
        "    \"\"\"\n",
        "    Calculate sigmoid\n",
        "    \"\"\"\n",
        "    return 1 / (1 + np.exp(-x))\n",
        "\n",
        "\n",
        "# Hyperparameters\n",
        "n_hidden = 2  # number of hidden units\n",
        "epochs = 900\n",
        "learnrate = 0.005\n",
        "\n",
        "n_records, n_features = features.shape\n",
        "last_loss = None\n",
        "# Initialize weights\n",
        "weights_input_hidden = np.random.normal(scale=1 / n_features ** .5,\n",
        "                                        size=(n_features, n_hidden))\n",
        "weights_hidden_output = np.random.normal(scale=1 / n_features ** .5,\n",
        "                                         size=n_hidden)\n",
        "\n",
        "for e in range(epochs):\n",
        "    del_w_input_hidden = np.zeros(weights_input_hidden.shape)\n",
        "    del_w_hidden_output = np.zeros(weights_hidden_output.shape)\n",
        "    for x, y in zip(features.values, targets):\n",
        "        ## Forward pass ##\n",
        "        # TODO: Calculate the output\n",
        "        hidden_input = np.dot(x, weights_input_hidden)\n",
        "        hidden_output = sigmoid(hidden_input)\n",
        "        \n",
        "        input_for_output = np.dot(hidden_output, weights_hidden_output)\n",
        "        \n",
        "        output = sigmoid(input_for_output)\n",
        "\n",
        "        ## Backward pass ##\n",
        "        # TODO: Calculate the network's prediction error\n",
        "        error = y - output\n",
        "\n",
        "        # TODO: Calculate error term for the output unit\n",
        "        output_error_term = error * output * (1 - output)\n",
        "\n",
        "        ## propagate errors to hidden layer\n",
        "\n",
        "        # TODO: Calculate the hidden layer's contribution to the error\n",
        "        hidden_error = np.dot(output_error_term, weights_hidden_output)\n",
        "        \n",
        "        # TODO: Calculate the error term for the hidden layer\n",
        "        hidden_error_term = hidden_error * hidden_output * (1 - hidden_output)\n",
        "        \n",
        "        # TODO: Update the change in weights\n",
        "        del_w_hidden_output += learnrate * output_error_term * hidden_output\n",
        "        del_w_input_hidden += learnrate * hidden_error_term * x[:, None]\n",
        "\n",
        "    # TODO: Update weights\n",
        "    weights_input_hidden += del_w_input_hidden\n",
        "    weights_hidden_output += del_w_hidden_output\n",
        "\n",
        "    # Printing out the mean square error on the training set\n",
        "    if e % (epochs / 10) == 0:\n",
        "        hidden_output = sigmoid(np.dot(x, weights_input_hidden))\n",
        "        out = sigmoid(np.dot(hidden_output,\n",
        "                             weights_hidden_output))\n",
        "        loss = np.mean((out - targets) ** 2)\n",
        "\n",
        "        if last_loss and last_loss < loss:\n",
        "            print(\"Train loss: \", loss, \"  WARNING - Loss Increasing\")\n",
        "        else:\n",
        "            print(\"Train loss: \", loss)\n",
        "        last_loss = loss\n",
        "\n",
        "# Calculate accuracy on test data\n",
        "hidden = sigmoid(np.dot(features_test, weights_input_hidden))\n",
        "out = sigmoid(np.dot(hidden, weights_hidden_output))\n",
        "predictions = out > 0.5\n",
        "accuracy = np.mean(predictions == targets_test)\n",
        "print(\"Prediction accuracy: {:.3f}\".format(accuracy))"
      ],
      "execution_count": 9,
      "outputs": [
        {
          "output_type": "error",
          "ename": "ModuleNotFoundError",
          "evalue": "ignored",
          "traceback": [
            "\u001b[0;31m---------------------------------------------------------------------------\u001b[0m",
            "\u001b[0;31mModuleNotFoundError\u001b[0m                       Traceback (most recent call last)",
            "\u001b[0;32m<ipython-input-9-50c4f398dc71>\u001b[0m in \u001b[0;36m<module>\u001b[0;34m()\u001b[0m\n\u001b[1;32m      1\u001b[0m \u001b[0;32mimport\u001b[0m \u001b[0mnumpy\u001b[0m \u001b[0;32mas\u001b[0m \u001b[0mnp\u001b[0m\u001b[0;34m\u001b[0m\u001b[0m\n\u001b[0;32m----> 2\u001b[0;31m \u001b[0;32mfrom\u001b[0m \u001b[0mdata_prep\u001b[0m \u001b[0;32mimport\u001b[0m \u001b[0mfeatures\u001b[0m\u001b[0;34m,\u001b[0m \u001b[0mtargets\u001b[0m\u001b[0;34m,\u001b[0m \u001b[0mfeatures_test\u001b[0m\u001b[0;34m,\u001b[0m \u001b[0mtargets_test\u001b[0m\u001b[0;34m\u001b[0m\u001b[0m\n\u001b[0m\u001b[1;32m      3\u001b[0m \u001b[0;34m\u001b[0m\u001b[0m\n\u001b[1;32m      4\u001b[0m \u001b[0mnp\u001b[0m\u001b[0;34m.\u001b[0m\u001b[0mrandom\u001b[0m\u001b[0;34m.\u001b[0m\u001b[0mseed\u001b[0m\u001b[0;34m(\u001b[0m\u001b[0;36m21\u001b[0m\u001b[0;34m)\u001b[0m\u001b[0;34m\u001b[0m\u001b[0m\n\u001b[1;32m      5\u001b[0m \u001b[0;34m\u001b[0m\u001b[0m\n",
            "\u001b[0;31mModuleNotFoundError\u001b[0m: No module named 'data_prep'",
            "",
            "\u001b[0;31m---------------------------------------------------------------------------\u001b[0;32m\nNOTE: If your import is failing due to a missing package, you can\nmanually install dependencies using either !pip or !apt.\n\nTo view examples of installing some common dependencies, click the\n\"Open Examples\" button below.\n\u001b[0;31m---------------------------------------------------------------------------\u001b[0m\n"
          ]
        }
      ]
    },
    {
      "metadata": {
        "id": "U_hxrg9NB9T8",
        "colab_type": "text"
      },
      "cell_type": "markdown",
      "source": [
        "## Lesson 3: Training Neural Networks\n",
        "\n",
        "**Training set:** Model is trained with that without looking at the Testing set.\n",
        "\n",
        "**Validation set:** Set of data that is re-introduced at the end of each Epoch to measure the validation loss.\n",
        "\n",
        "**Testing set:** Testing the Model at the end (Re- Introduced)\n",
        "\n",
        "---\n",
        "\n",
        "**Overfitting:** Fit the data well, but it can not generalize. Error due to variance.\n",
        "\n",
        "**Underfitting:** Trying to kill godzilla with a flyswatter. Error due to bias.\n",
        "\n",
        "Both problems also correlate with a too simple/too complicated neural network architecture.\n",
        "We err on the side of an overly complicated model and then apply techniques to prevent overfitting.\n",
        "\n",
        "#### Early Stopping\n",
        "\n",
        "Underfitting: Training and Test errors are big\n",
        "Overfitting: Training Error is tiny and Testing Error Large\n",
        "\n",
        "--> Model Complexity Graph\n",
        "Testing Error increases with more Epochs\n",
        "Training Error decreases with the Epochs\n",
        "We need the point where the **Testing Error increases again** (Early Stopping)"
      ]
    },
    {
      "metadata": {
        "id": "uR09B3BoIxCQ",
        "colab_type": "text"
      },
      "cell_type": "markdown",
      "source": [
        "#### Regularization\n",
        "\n",
        "When we apply sigmoid to 10x1 and 10x2 the function becomes steeper => Gradient Descent becomes harder.\n",
        "\n",
        "##### Punish large coefficients:\n",
        "**L1**: MSE + lamda * w1,...,wn (absolute values)\n",
        "* Good for features selection\n",
        "* Sparse Vectors. Small number of weights.\n",
        "\n",
        "**L2**: MSE + lamda * w1,...,wn (squared)\n",
        "* Normally better for Training Models\n",
        "* Does not favor small vectors"
      ]
    },
    {
      "metadata": {
        "id": "-mcqOyTIK61L",
        "colab_type": "text"
      },
      "cell_type": "markdown",
      "source": [
        "### Dropout\n",
        "\n",
        "One part of the network has large weights and dominates the training.\n",
        "**Sometimes during training some nodes are turned off.**\n",
        "Probability that each node will be dropped."
      ]
    },
    {
      "metadata": {
        "id": "dtOsW_6CMBNG",
        "colab_type": "text"
      },
      "cell_type": "markdown",
      "source": [
        "### Vanishing Gradient\n",
        "\n",
        "**Hyperbolic Tangent Function:** e^x - e^x / e^x + e^x\n",
        "\n",
        "**Rectified Linear Unit (ReLU):** If Positive return x. If negative return 0."
      ]
    },
    {
      "metadata": {
        "id": "b3tqj2erM-oF",
        "colab_type": "text"
      },
      "cell_type": "markdown",
      "source": [
        "### Batch vs. Stochastic Gradient Descent\n",
        "\n",
        "Number of steps in the gradient descent = Number of epochs.\n",
        "Epoch whole forward and backward pass for the data.\n",
        "\n",
        "**Stochastic Gradient Descent:** Small subset of the data. Batches of the whole data."
      ]
    },
    {
      "metadata": {
        "id": "nagicM9tOwWp",
        "colab_type": "text"
      },
      "cell_type": "markdown",
      "source": [
        "### Learning Rate Decay\n",
        "\n",
        "Best: If steep: Long steps. If plaing: small steps.\n",
        "\n",
        "**Random Restart**: Gradient Descent from different locations.\n",
        "\n",
        "**Momentum**: Average of the last # steps. Beta between 0-1. Step(n) + b*Step(n-1) + ..."
      ]
    },
    {
      "metadata": {
        "id": "8Tuzf828KQI_",
        "colab_type": "text"
      },
      "cell_type": "markdown",
      "source": [
        "## Lesson 6: Sentiment Analysis\n",
        "\n"
      ]
    },
    {
      "metadata": {
        "id": "l_cVM54HIwQ_",
        "colab_type": "code",
        "colab": {}
      },
      "cell_type": "code",
      "source": [
        "import time\n",
        "import sys\n",
        "import numpy as np\n",
        "\n",
        "# Encapsulate our neural network in a class\n",
        "class SentimentNetwork:\n",
        "    def __init__(self, reviews,labels,hidden_nodes = 10, learning_rate = 0.1):\n",
        "        \"\"\"Create a SentimenNetwork with the given settings\n",
        "        Args:\n",
        "            reviews(list) - List of reviews used for training\n",
        "            labels(list) - List of POSITIVE/NEGATIVE labels associated with the given reviews\n",
        "            hidden_nodes(int) - Number of nodes to create in the hidden layer\n",
        "            learning_rate(float) - Learning rate to use while training\n",
        "        \n",
        "        \"\"\"\n",
        "        # Assign a seed to our random number generator to ensure we get\n",
        "        # reproducable results during development \n",
        "        np.random.seed(1)\n",
        "\n",
        "        # process the reviews and their associated labels so that everything\n",
        "        # is ready for training\n",
        "        self.pre_process_data(reviews, labels)\n",
        "        \n",
        "        # Build the network to have the number of hidden nodes and the learning rate that\n",
        "        # were passed into this initializer. Make the same number of input nodes as\n",
        "        # there are vocabulary words and create a single output node.\n",
        "        self.init_network(len(self.review_vocab),hidden_nodes, 1, learning_rate)\n",
        "\n",
        "    def pre_process_data(self, reviews, labels):\n",
        "        \n",
        "        # populate review_vocab with all of the words in the given reviews\n",
        "        review_vocab = set()\n",
        "        for review in reviews:\n",
        "            for word in review.split(\" \"):\n",
        "                review_vocab.add(word)\n",
        "\n",
        "        # Convert the vocabulary set to a list so we can access words via indices\n",
        "        self.review_vocab = list(review_vocab)\n",
        "        \n",
        "        # populate label_vocab with all of the words in the given labels.\n",
        "        label_vocab = set()\n",
        "        for label in labels:\n",
        "            label_vocab.add(label)\n",
        "        \n",
        "        # Convert the label vocabulary set to a list so we can access labels via indices\n",
        "        self.label_vocab = list(label_vocab)\n",
        "        \n",
        "        # Store the sizes of the review and label vocabularies.\n",
        "        self.review_vocab_size = len(self.review_vocab)\n",
        "        self.label_vocab_size = len(self.label_vocab)\n",
        "        \n",
        "        # Create a dictionary of words in the vocabulary mapped to index positions\n",
        "        self.word2index = {}\n",
        "        for i, word in enumerate(self.review_vocab):\n",
        "            self.word2index[word] = i\n",
        "        \n",
        "        # Create a dictionary of labels mapped to index positions\n",
        "        self.label2index = {}\n",
        "        for i, label in enumerate(self.label_vocab):\n",
        "            self.label2index[label] = i\n",
        "        \n",
        "    def init_network(self, input_nodes, hidden_nodes, output_nodes, learning_rate):\n",
        "        # Set number of nodes in input, hidden and output layers.\n",
        "        self.input_nodes = input_nodes\n",
        "        self.hidden_nodes = hidden_nodes\n",
        "        self.output_nodes = output_nodes\n",
        "\n",
        "        # Store the learning rate\n",
        "        self.learning_rate = learning_rate\n",
        "\n",
        "        # Initialize weights\n",
        "\n",
        "        # These are the weights between the input layer and the hidden layer.\n",
        "        self.weights_0_1 = np.zeros((self.input_nodes,self.hidden_nodes))\n",
        "    \n",
        "        # These are the weights between the hidden layer and the output layer.\n",
        "        self.weights_1_2 = np.random.normal(0.0, self.output_nodes**-0.5, \n",
        "                                                (self.hidden_nodes, self.output_nodes))\n",
        "        \n",
        "        # The input layer, a two-dimensional matrix with shape 1 x input_nodes\n",
        "        self.layer_0 = np.zeros((1,input_nodes))\n",
        "    \n",
        "    def update_input_layer(self,review):\n",
        "\n",
        "        # clear out previous state, reset the layer to be all 0s\n",
        "        self.layer_0 *= 0\n",
        "        \n",
        "        for word in review.split(\" \"):\n",
        "            # NOTE: This if-check was not in the version of this method created in Project 2,\n",
        "            #       and it appears in Andrew's Project 3 solution without explanation. \n",
        "            #       It simply ensures the word is actually a key in word2index before\n",
        "            #       accessing it, which is important because accessing an invalid key\n",
        "            #       with raise an exception in Python. This allows us to ignore unknown\n",
        "            #       words encountered in new reviews.\n",
        "            if(word in self.word2index.keys()):\n",
        "                self.layer_0[0][self.word2index[word]] += 1\n",
        "                \n",
        "    def get_target_for_label(self,label):\n",
        "        if(label == 'POSITIVE'):\n",
        "            return 1\n",
        "        else:\n",
        "            return 0\n",
        "        \n",
        "    def sigmoid(self,x):\n",
        "        return 1 / (1 + np.exp(-x))\n",
        "    \n",
        "    def sigmoid_output_2_derivative(self,output):\n",
        "        return output * (1 - output)\n",
        "    \n",
        "    def train(self, training_reviews, training_labels):\n",
        "        \n",
        "        # make sure out we have a matching number of reviews and labels\n",
        "        assert(len(training_reviews) == len(training_labels))\n",
        "        \n",
        "        # Keep track of correct predictions to display accuracy during training \n",
        "        correct_so_far = 0\n",
        "\n",
        "        # Remember when we started for printing time statistics\n",
        "        start = time.time()\n",
        "        \n",
        "        # loop through all the given reviews and run a forward and backward pass,\n",
        "        # updating weights for every item\n",
        "        for i in range(len(training_reviews)):\n",
        "            \n",
        "            # Get the next review and its correct label\n",
        "            review = training_reviews[i]\n",
        "            label = training_labels[i]\n",
        "            \n",
        "            #### Implement the forward pass here ####\n",
        "            ### Forward pass ###\n",
        "\n",
        "            # Input Layer\n",
        "            self.update_input_layer(review)\n",
        "\n",
        "            # Hidden layer\n",
        "            layer_1 = self.layer_0.dot(self.weights_0_1)\n",
        "\n",
        "            # Output layer\n",
        "            layer_2 = self.sigmoid(layer_1.dot(self.weights_1_2))\n",
        "            \n",
        "            #### Implement the backward pass here ####\n",
        "            ### Backward pass ###\n",
        "\n",
        "            # Output error\n",
        "            layer_2_error = layer_2 - self.get_target_for_label(label) # Output layer error is the difference between desired target and actual output.\n",
        "            layer_2_delta = layer_2_error * self.sigmoid_output_2_derivative(layer_2)\n",
        "\n",
        "            # Backpropagated error\n",
        "            layer_1_error = layer_2_delta.dot(self.weights_1_2.T) # errors propagated to the hidden layer\n",
        "            layer_1_delta = layer_1_error # hidden layer gradients - no nonlinearity so it's the same as the error\n",
        "\n",
        "            # Update the weights\n",
        "            self.weights_1_2 -= layer_1.T.dot(layer_2_delta) * self.learning_rate # update hidden-to-output weights with gradient descent step\n",
        "            self.weights_0_1 -= self.layer_0.T.dot(layer_1_delta) * self.learning_rate # update input-to-hidden weights with gradient descent step\n",
        "\n",
        "            # Keep track of correct predictions.\n",
        "            if(layer_2 >= 0.5 and label == 'POSITIVE'):\n",
        "                correct_so_far += 1\n",
        "            elif(layer_2 < 0.5 and label == 'NEGATIVE'):\n",
        "                correct_so_far += 1\n",
        "            \n",
        "            # For debug purposes, print out our prediction accuracy and speed \n",
        "            # throughout the training process. \n",
        "            elapsed_time = float(time.time() - start)\n",
        "            reviews_per_second = i / elapsed_time if elapsed_time > 0 else 0\n",
        "            \n",
        "            sys.stdout.write(\"\\rProgress:\" + str(100 * i/float(len(training_reviews)))[:4] \\\n",
        "                             + \"% Speed(reviews/sec):\" + str(reviews_per_second)[0:5] \\\n",
        "                             + \" #Correct:\" + str(correct_so_far) + \" #Trained:\" + str(i+1) \\\n",
        "                             + \" Training Accuracy:\" + str(correct_so_far * 100 / float(i+1))[:4] + \"%\")\n",
        "            if(i % 2500 == 0):\n",
        "                print(\"\")\n",
        "    \n",
        "    def test(self, testing_reviews, testing_labels):\n",
        "        \"\"\"\n",
        "        Attempts to predict the labels for the given testing_reviews,\n",
        "        and uses the test_labels to calculate the accuracy of those predictions.\n",
        "        \"\"\"\n",
        "        \n",
        "        # keep track of how many correct predictions we make\n",
        "        correct = 0\n",
        "\n",
        "        # we'll time how many predictions per second we make\n",
        "        start = time.time()\n",
        "\n",
        "        # Loop through each of the given reviews and call run to predict\n",
        "        # its label. \n",
        "        for i in range(len(testing_reviews)):\n",
        "            pred = self.run(testing_reviews[i])\n",
        "            if(pred == testing_labels[i]):\n",
        "                correct += 1\n",
        "            \n",
        "            # For debug purposes, print out our prediction accuracy and speed \n",
        "            # throughout the prediction process. \n",
        "\n",
        "            elapsed_time = float(time.time() - start)\n",
        "            reviews_per_second = i / elapsed_time if elapsed_time > 0 else 0\n",
        "            \n",
        "            sys.stdout.write(\"\\rProgress:\" + str(100 * i/float(len(testing_reviews)))[:4] \\\n",
        "                             + \"% Speed(reviews/sec):\" + str(reviews_per_second)[0:5] \\\n",
        "                             + \" #Correct:\" + str(correct) + \" #Tested:\" + str(i+1) \\\n",
        "                             + \" Testing Accuracy:\" + str(correct * 100 / float(i+1))[:4] + \"%\")\n",
        "    \n",
        "    def run(self, review):\n",
        "        \"\"\"\n",
        "        Returns a POSITIVE or NEGATIVE prediction for the given review.\n",
        "        \"\"\"\n",
        "        # Run a forward pass through the network, like in the \"train\" function.\n",
        "        \n",
        "        # Input Layer\n",
        "        self.update_input_layer(review.lower())\n",
        "\n",
        "        # Hidden layer\n",
        "        layer_1 = self.layer_0.dot(self.weights_0_1)\n",
        "\n",
        "        # Output layer\n",
        "        layer_2 = self.sigmoid(layer_1.dot(self.weights_1_2))\n",
        "        \n",
        "        # Return POSITIVE for values above greater-than-or-equal-to 0.5 in the output layer;\n",
        "        # return NEGATIVE for other values\n",
        "        if(layer_2[0] >= 0.5):\n",
        "            return \"POSITIVE\"\n",
        "        else:\n",
        "            return \"NEGATIVE\""
      ],
      "execution_count": 0,
      "outputs": []
    },
    {
      "metadata": {
        "id": "lVHy6qDns8Rs",
        "colab_type": "text"
      },
      "cell_type": "markdown",
      "source": [
        "## Lesson 7: Keras\n",
        "\n",
        "Examples of packages for deep learning:\n",
        "\n",
        "* Keras\n",
        "* TensorFlow\n",
        "* Caffe\n",
        "* Theano\n",
        "* Scikit-learn\n",
        "* PyTorch\n",
        "* ..."
      ]
    },
    {
      "metadata": {
        "id": "h1OVnjb8tnTk",
        "colab_type": "text"
      },
      "cell_type": "markdown",
      "source": [
        "### Creating a Sequential Model in Keras"
      ]
    },
    {
      "metadata": {
        "id": "W_IldXVBtmR0",
        "colab_type": "code",
        "colab": {
          "base_uri": "https://localhost:8080/",
          "height": 104
        },
        "outputId": "e7aaab4e-78b1-40a0-b6b6-27b2ec87ee57"
      },
      "cell_type": "code",
      "source": [
        "import numpy as np\n",
        "\n",
        "from keras.models import Sequential\n",
        "from keras.layers.core import Dense, Activation\n",
        "\n",
        "# Layers\n",
        "## Fully connected layers\n",
        "## max pool layers\n",
        "## activation layers\n",
        "## and more\n",
        "\n",
        "# X has shape (num_rows, num_cols) where the training data is stored as row vectors\n",
        "X = np.array([[0, 0], [0, 1], [1, 0], [1, 1]], dtype=np.float32)\n",
        "\n",
        "# y must have an output vector for each input vector\n",
        "y = np.array([[0], [0], [0], [1]], dtype=np.float32)\n",
        "\n",
        "# Create the Sequential model\n",
        "model = Sequential()\n",
        "# The keras.models.Sequential class is a wrapper for the neural network model\n",
        "# that treats the network as a sequence of layers\n",
        "\n",
        "# 1st layer - Add an input layer of 32 nodes with the same input shape as X\n",
        "model.add(Dense(32, input_dim=X.shape[1]))\n",
        "\n",
        "# Add a softmax activation layer\n",
        "model.add(Activation('softmax'))\n",
        "\n",
        "# 2nd layer - Add a fully connected output layer\n",
        "model.add(Dense(1))\n",
        "\n",
        "#Add a sigmoid activation layer\n",
        "model.add(Activation('sigmoid'))\n",
        "\n",
        "X"
      ],
      "execution_count": 3,
      "outputs": [
        {
          "output_type": "stream",
          "text": [
            "Using TensorFlow backend.\n"
          ],
          "name": "stderr"
        },
        {
          "output_type": "execute_result",
          "data": {
            "text/plain": [
              "array([[0., 0.],\n",
              "       [0., 1.],\n",
              "       [1., 0.],\n",
              "       [1., 1.]], dtype=float32)"
            ]
          },
          "metadata": {
            "tags": []
          },
          "execution_count": 3
        }
      ]
    },
    {
      "metadata": {
        "id": "zXP72mPLu-jR",
        "colab_type": "text"
      },
      "cell_type": "markdown",
      "source": [
        "* Keras requires the input shape to be specified for the first layer. It will automatically infer the shape of all other layers\n",
        "* Activation is added after the layers\n",
        "* Compiling the Keras model calls the backend (tensorflow, theano, etc.) and binds the optimizer, loss function and other paramters required before the model can be run on any input data.\n",
        "* We specify the loss function to be *categorical_crossentropy*\n",
        "* and specify *adam* as the optimizer\n",
        "* also we specify what metrics we want to evaluate the model with"
      ]
    },
    {
      "metadata": {
        "id": "TaKhaBzgv0zl",
        "colab_type": "code",
        "colab": {}
      },
      "cell_type": "code",
      "source": [
        "model.compile(loss=\"binary_crossentropy\", optimizer=\"adam\", metrics = [\"accuracy\"])\n",
        "\n",
        "# See the resulting model architecture with the following command\n",
        "model.summary()\n",
        "\n",
        "# Train with the fit() method\n",
        "\n",
        "model.fit(X, y, epochs=1000, verbose=0)\n",
        "\n",
        "# Evaluate the model\n",
        "\n",
        "model.evaluate()"
      ],
      "execution_count": 0,
      "outputs": []
    },
    {
      "metadata": {
        "id": "7bExrx9X3DcK",
        "colab_type": "text"
      },
      "cell_type": "markdown",
      "source": [
        "### Keras Optimizers\n",
        "\n",
        "**SGD - Stochastic Gradient Descent:** It uses the following paramters:\n",
        "* Learning rate.\n",
        "* Momentum\n",
        "* Nesterov Momentum (This slows down the gradient when it's close to the solution)\n",
        "\n",
        "**Adam:** Adaptive Moment Estimation uses a more complicated exponential decay that consists of not just considering the average (first moment), but also the variance (second moment) of the previous steps.\n",
        "\n",
        "**RMSProp:** RMSProp (RMS stands for Roo Mean Square Error) decreases the learning rate by dividing it by an exponentially decaying average of squared gradients.\n",
        "\n",
        "[Further explanation of Keras Optimizers](http://ruder.io/optimizing-gradient-descent/index.html#rmsprop)\n",
        "\n",
        "[Keras Documentation about Optimizers](https://keras.io/optimizers/)"
      ]
    },
    {
      "metadata": {
        "id": "JPauE_rn46um",
        "colab_type": "text"
      },
      "cell_type": "markdown",
      "source": [
        "### IMDB Data in Keras"
      ]
    },
    {
      "metadata": {
        "id": "xcEO0dUS4W90",
        "colab_type": "code",
        "colab": {
          "base_uri": "https://localhost:8080/",
          "height": 104
        },
        "outputId": "c0efff70-8c9b-4470-e540-89462ac485c8"
      },
      "cell_type": "code",
      "source": [
        "# Imports\n",
        "import numpy as np\n",
        "import keras\n",
        "from keras.datasets import imdb\n",
        "from keras.models import Sequential\n",
        "from keras.layers import Dense, Dropout, Activation\n",
        "from keras.preprocessing.text import Tokenizer\n",
        "import matplotlib.pyplot as plt\n",
        "%matplotlib inline\n",
        "\n",
        "np.random.seed(42)\n",
        "\n",
        "# Loading the data\n",
        "(x_train, y_train), (x_test, y_test) = imdb.load_data(num_words=1000)\n",
        "\n",
        "print(x_train.shape)\n",
        "print(x_test.shape)"
      ],
      "execution_count": 4,
      "outputs": [
        {
          "output_type": "stream",
          "text": [
            "Using TensorFlow backend.\n"
          ],
          "name": "stderr"
        },
        {
          "output_type": "stream",
          "text": [
            "Downloading data from https://s3.amazonaws.com/text-datasets/imdb.npz\n",
            "17465344/17464789 [==============================] - 4s 0us/step\n",
            "(25000,)\n",
            "(25000,)\n"
          ],
          "name": "stdout"
        }
      ]
    },
    {
      "metadata": {
        "id": "1220nLwD5m3i",
        "colab_type": "code",
        "colab": {
          "base_uri": "https://localhost:8080/",
          "height": 72
        },
        "outputId": "ce1477d8-0aa7-4371-d6a4-1405cb540422"
      },
      "cell_type": "code",
      "source": [
        "print(x_train[0])\n",
        "print(x_test[0])"
      ],
      "execution_count": 5,
      "outputs": [
        {
          "output_type": "stream",
          "text": [
            "[1, 14, 22, 16, 43, 530, 973, 2, 2, 65, 458, 2, 66, 2, 4, 173, 36, 256, 5, 25, 100, 43, 838, 112, 50, 670, 2, 9, 35, 480, 284, 5, 150, 4, 172, 112, 167, 2, 336, 385, 39, 4, 172, 2, 2, 17, 546, 38, 13, 447, 4, 192, 50, 16, 6, 147, 2, 19, 14, 22, 4, 2, 2, 469, 4, 22, 71, 87, 12, 16, 43, 530, 38, 76, 15, 13, 2, 4, 22, 17, 515, 17, 12, 16, 626, 18, 2, 5, 62, 386, 12, 8, 316, 8, 106, 5, 4, 2, 2, 16, 480, 66, 2, 33, 4, 130, 12, 16, 38, 619, 5, 25, 124, 51, 36, 135, 48, 25, 2, 33, 6, 22, 12, 215, 28, 77, 52, 5, 14, 407, 16, 82, 2, 8, 4, 107, 117, 2, 15, 256, 4, 2, 7, 2, 5, 723, 36, 71, 43, 530, 476, 26, 400, 317, 46, 7, 4, 2, 2, 13, 104, 88, 4, 381, 15, 297, 98, 32, 2, 56, 26, 141, 6, 194, 2, 18, 4, 226, 22, 21, 134, 476, 26, 480, 5, 144, 30, 2, 18, 51, 36, 28, 224, 92, 25, 104, 4, 226, 65, 16, 38, 2, 88, 12, 16, 283, 5, 16, 2, 113, 103, 32, 15, 16, 2, 19, 178, 32]\n",
            "[1, 591, 202, 14, 31, 6, 717, 10, 10, 2, 2, 5, 4, 360, 7, 4, 177, 2, 394, 354, 4, 123, 9, 2, 2, 2, 10, 10, 13, 92, 124, 89, 488, 2, 100, 28, 2, 14, 31, 23, 27, 2, 29, 220, 468, 8, 124, 14, 286, 170, 8, 157, 46, 5, 27, 239, 16, 179, 2, 38, 32, 25, 2, 451, 202, 14, 6, 717]\n"
          ],
          "name": "stdout"
        }
      ]
    },
    {
      "metadata": {
        "id": "ypg-wpBr51Jf",
        "colab_type": "code",
        "colab": {
          "base_uri": "https://localhost:8080/",
          "height": 746
        },
        "outputId": "7dec0b64-3fb6-4654-ad2e-47b2ea641b60"
      },
      "cell_type": "code",
      "source": [
        "# One-hot encoding the output into vector mode, each of length 1000\n",
        "tokenizer = Tokenizer(num_words=1000)\n",
        "x_train = tokenizer.sequences_to_matrix(x_train, mode='binary')\n",
        "x_test = tokenizer.sequences_to_matrix(x_test, mode='binary')\n",
        "print(x_train[0])"
      ],
      "execution_count": 6,
      "outputs": [
        {
          "output_type": "stream",
          "text": [
            "[0. 1. 1. 0. 1. 1. 1. 1. 1. 1. 0. 0. 1. 1. 1. 1. 1. 1. 1. 1. 0. 1. 1. 0.\n",
            " 0. 1. 1. 0. 1. 0. 1. 0. 1. 1. 0. 1. 1. 0. 1. 1. 0. 0. 0. 1. 0. 0. 1. 0.\n",
            " 1. 0. 1. 1. 1. 0. 0. 0. 1. 0. 0. 0. 0. 0. 1. 0. 0. 1. 1. 0. 0. 0. 0. 1.\n",
            " 0. 0. 0. 0. 1. 1. 0. 0. 0. 0. 1. 0. 0. 0. 0. 1. 1. 0. 0. 0. 1. 0. 0. 0.\n",
            " 0. 0. 1. 0. 1. 0. 0. 1. 1. 0. 1. 1. 0. 0. 0. 0. 1. 1. 0. 0. 0. 1. 0. 0.\n",
            " 0. 0. 0. 0. 1. 0. 0. 0. 0. 0. 1. 0. 0. 0. 1. 1. 0. 0. 0. 0. 0. 1. 0. 0.\n",
            " 1. 0. 0. 1. 0. 0. 1. 0. 0. 0. 0. 0. 0. 0. 0. 0. 0. 0. 0. 0. 0. 0. 0. 1.\n",
            " 0. 0. 0. 0. 1. 1. 0. 0. 0. 0. 1. 0. 0. 0. 0. 0. 0. 0. 0. 0. 0. 0. 0. 0.\n",
            " 1. 0. 1. 0. 0. 0. 0. 0. 0. 0. 0. 0. 0. 0. 0. 0. 0. 0. 0. 0. 0. 0. 0. 1.\n",
            " 0. 0. 0. 0. 0. 0. 0. 0. 1. 0. 1. 0. 0. 0. 0. 0. 0. 0. 0. 0. 0. 0. 0. 0.\n",
            " 0. 0. 0. 0. 0. 0. 0. 0. 0. 0. 0. 0. 0. 0. 0. 0. 1. 0. 0. 0. 0. 0. 0. 0.\n",
            " 0. 0. 0. 0. 0. 0. 0. 0. 0. 0. 0. 0. 0. 0. 0. 0. 0. 0. 0. 1. 1. 0. 0. 0.\n",
            " 0. 0. 0. 0. 0. 0. 0. 0. 0. 1. 0. 0. 0. 0. 0. 0. 0. 0. 0. 0. 0. 0. 0. 0.\n",
            " 0. 0. 0. 0. 1. 1. 0. 0. 0. 0. 0. 0. 0. 0. 0. 0. 0. 0. 0. 0. 0. 0. 0. 0.\n",
            " 1. 0. 0. 0. 0. 0. 0. 0. 0. 0. 0. 0. 0. 0. 0. 0. 0. 0. 0. 0. 0. 0. 0. 0.\n",
            " 0. 0. 0. 0. 0. 0. 0. 0. 0. 0. 0. 0. 0. 0. 0. 0. 0. 0. 0. 0. 0. 1. 0. 0.\n",
            " 0. 1. 1. 0. 0. 0. 0. 0. 0. 0. 0. 0. 0. 0. 0. 0. 1. 0. 0. 0. 0. 0. 0. 1.\n",
            " 0. 0. 0. 0. 0. 0. 0. 0. 0. 0. 0. 0. 0. 0. 0. 0. 0. 0. 0. 0. 0. 0. 0. 0.\n",
            " 0. 0. 0. 0. 0. 0. 0. 0. 0. 0. 0. 0. 0. 0. 0. 1. 0. 0. 0. 0. 0. 0. 0. 0.\n",
            " 0. 0. 1. 0. 0. 0. 0. 0. 0. 0. 0. 0. 0. 1. 0. 0. 0. 0. 0. 0. 1. 0. 0. 0.\n",
            " 1. 0. 0. 0. 0. 0. 0. 0. 0. 0. 0. 0. 0. 0. 0. 0. 0. 0. 0. 0. 0. 0. 0. 0.\n",
            " 0. 0. 0. 0. 0. 0. 0. 0. 0. 0. 0. 1. 0. 0. 0. 0. 0. 0. 0. 0. 0. 0. 0. 0.\n",
            " 0. 0. 1. 0. 0. 0. 0. 0. 0. 0. 0. 0. 0. 0. 0. 0. 0. 0. 1. 0. 0. 0. 0. 0.\n",
            " 0. 0. 0. 0. 0. 0. 0. 0. 0. 0. 0. 0. 0. 0. 0. 0. 0. 0. 0. 0. 0. 0. 0. 0.\n",
            " 0. 0. 0. 0. 0. 0. 0. 0. 0. 0. 0. 0. 0. 0. 0. 0. 0. 0. 0. 0. 0. 0. 0. 0.\n",
            " 0. 0. 0. 0. 0. 0. 0. 0. 0. 0. 0. 0. 0. 0. 0. 0. 0. 0. 0. 1. 0. 0. 0. 0.\n",
            " 0. 0. 1. 0. 0. 0. 0. 0. 0. 0. 0. 0. 0. 0. 0. 0. 0. 0. 0. 0. 0. 0. 0. 0.\n",
            " 0. 0. 0. 0. 0. 0. 0. 0. 0. 0. 0. 0. 0. 0. 0. 0. 0. 0. 0. 0. 0. 0. 1. 0.\n",
            " 0. 0. 0. 0. 0. 0. 0. 0. 0. 0. 0. 0. 0. 0. 0. 0. 0. 0. 0. 0. 0. 0. 0. 0.\n",
            " 0. 0. 0. 0. 0. 0. 0. 0. 0. 0. 0. 0. 0. 0. 0. 0. 0. 0. 0. 0. 0. 0. 0. 0.\n",
            " 0. 0. 0. 1. 0. 0. 0. 0. 0. 0. 0. 0. 0. 0. 0. 0. 0. 0. 0. 0. 0. 0. 0. 0.\n",
            " 0. 0. 0. 0. 0. 0. 0. 0. 0. 0. 0. 0. 0. 0. 0. 0. 0. 0. 0. 0. 0. 0. 0. 0.\n",
            " 0. 0. 0. 0. 0. 0. 0. 0. 0. 0. 0. 0. 0. 0. 0. 0. 0. 0. 0. 0. 0. 0. 0. 0.\n",
            " 0. 0. 0. 0. 0. 0. 0. 0. 0. 0. 0. 0. 0. 0. 0. 0. 0. 0. 0. 0. 0. 0. 0. 0.\n",
            " 0. 0. 0. 0. 0. 0. 0. 0. 0. 0. 0. 0. 0. 0. 0. 0. 0. 0. 0. 0. 0. 0. 1. 0.\n",
            " 0. 0. 0. 0. 0. 0. 0. 0. 0. 0. 0. 0. 0. 0. 0. 0. 0. 0. 0. 0. 0. 0. 0. 0.\n",
            " 0. 0. 0. 0. 0. 0. 0. 0. 0. 0. 0. 0. 0. 0. 0. 0. 0. 0. 0. 0. 0. 0. 0. 0.\n",
            " 0. 0. 0. 0. 0. 0. 0. 0. 0. 0. 0. 0. 0. 0. 0. 0. 0. 0. 0. 0. 0. 0. 0. 0.\n",
            " 0. 0. 0. 0. 0. 0. 0. 0. 0. 0. 0. 0. 0. 0. 0. 0. 0. 0. 0. 0. 0. 0. 0. 0.\n",
            " 0. 0. 0. 0. 0. 0. 0. 0. 0. 0. 0. 0. 0. 0. 0. 0. 0. 0. 0. 0. 0. 0. 0. 0.\n",
            " 0. 0. 0. 0. 0. 0. 0. 0. 0. 0. 0. 0. 0. 1. 0. 0. 0. 0. 0. 0. 0. 0. 0. 0.\n",
            " 0. 0. 0. 0. 0. 0. 0. 0. 0. 0. 0. 0. 0. 0. 0. 0.]\n"
          ],
          "name": "stdout"
        }
      ]
    },
    {
      "metadata": {
        "id": "KtO8E48j6Ddu",
        "colab_type": "code",
        "colab": {
          "base_uri": "https://localhost:8080/",
          "height": 52
        },
        "outputId": "8199aedf-ead5-49ad-f5a5-6de88a1071f1"
      },
      "cell_type": "code",
      "source": [
        "# One-hot encoding the output\n",
        "num_classes = 2\n",
        "y_train = keras.utils.to_categorical(y_train, num_classes)\n",
        "y_test = keras.utils.to_categorical(y_test, num_classes)\n",
        "print(y_train.shape)\n",
        "print(y_test.shape)"
      ],
      "execution_count": 7,
      "outputs": [
        {
          "output_type": "stream",
          "text": [
            "(25000, 2)\n",
            "(25000, 2)\n"
          ],
          "name": "stdout"
        }
      ]
    },
    {
      "metadata": {
        "id": "jHnx8xKl6Pam",
        "colab_type": "code",
        "colab": {
          "base_uri": "https://localhost:8080/",
          "height": 278
        },
        "outputId": "624b6bfc-0bd7-4dfe-cb4a-4921e92bb5f8"
      },
      "cell_type": "code",
      "source": [
        "# Build the model architecture\n",
        "model = Sequential()\n",
        "\n",
        "model.add(Dense(8, input_dim=x_train.shape[1]))\n",
        "model.add(Activation('sigmoid'))\n",
        "model.add(Dropout(0.2))\n",
        "model.add(Dense(2))\n",
        "# TODO: Compile the model using a loss function and an optimizer.\n",
        "model.compile(loss=\"categorical_crossentropy\", optimizer=\"SGD\", metrics = [\"accuracy\"])\n",
        "\n",
        "model.summary()"
      ],
      "execution_count": 8,
      "outputs": [
        {
          "output_type": "stream",
          "text": [
            "_________________________________________________________________\n",
            "Layer (type)                 Output Shape              Param #   \n",
            "=================================================================\n",
            "dense_1 (Dense)              (None, 8)                 8008      \n",
            "_________________________________________________________________\n",
            "activation_1 (Activation)    (None, 8)                 0         \n",
            "_________________________________________________________________\n",
            "dropout_1 (Dropout)          (None, 8)                 0         \n",
            "_________________________________________________________________\n",
            "dense_2 (Dense)              (None, 2)                 18        \n",
            "=================================================================\n",
            "Total params: 8,026\n",
            "Trainable params: 8,026\n",
            "Non-trainable params: 0\n",
            "_________________________________________________________________\n"
          ],
          "name": "stdout"
        }
      ]
    },
    {
      "metadata": {
        "id": "2uVX7djx7m3m",
        "colab_type": "code",
        "colab": {
          "base_uri": "https://localhost:8080/",
          "height": 399
        },
        "outputId": "543954ac-2628-406f-fa2c-fe570b71b509"
      },
      "cell_type": "code",
      "source": [
        "# Training and evaluating\n",
        "model.fit(x_train, y_train, batch_size=32, epochs=10, validation_data=(x_test,y_test), verbose=2)"
      ],
      "execution_count": 6,
      "outputs": [
        {
          "output_type": "stream",
          "text": [
            "Train on 25000 samples, validate on 25000 samples\n",
            "Epoch 1/10\n",
            " - 5s - loss: 0.7260 - acc: 0.4333 - val_loss: 0.6570 - val_acc: 0.3014\n",
            "Epoch 2/10\n",
            " - 5s - loss: 0.6421 - acc: 0.3476 - val_loss: 0.6156 - val_acc: 0.3400\n",
            "Epoch 3/10\n",
            " - 5s - loss: 0.8323 - acc: 0.4374 - val_loss: 0.8058 - val_acc: 0.5000\n",
            "Epoch 4/10\n",
            " - 5s - loss: 0.7665 - acc: 0.5000 - val_loss: 0.7368 - val_acc: 0.5000\n",
            "Epoch 5/10\n",
            " - 5s - loss: 0.7263 - acc: 0.5000 - val_loss: 0.7138 - val_acc: 0.5000\n",
            "Epoch 6/10\n",
            " - 5s - loss: 0.7101 - acc: 0.5000 - val_loss: 0.7035 - val_acc: 0.5000\n",
            "Epoch 7/10\n",
            " - 5s - loss: 0.7024 - acc: 0.5000 - val_loss: 0.6984 - val_acc: 0.5000\n",
            "Epoch 8/10\n",
            " - 5s - loss: 0.6985 - acc: 0.5000 - val_loss: 0.6956 - val_acc: 0.5000\n",
            "Epoch 9/10\n",
            " - 5s - loss: 0.6965 - acc: 0.4987 - val_loss: 0.6940 - val_acc: 0.5000\n",
            "Epoch 10/10\n",
            " - 5s - loss: 0.6955 - acc: 0.5000 - val_loss: 0.6931 - val_acc: 0.5000\n"
          ],
          "name": "stdout"
        },
        {
          "output_type": "execute_result",
          "data": {
            "text/plain": [
              "<keras.callbacks.History at 0x7f5bc9970e80>"
            ]
          },
          "metadata": {
            "tags": []
          },
          "execution_count": 6
        }
      ]
    },
    {
      "metadata": {
        "id": "MSlywDozFBgf",
        "colab_type": "text"
      },
      "cell_type": "markdown",
      "source": [
        "## Lesson 8: TensorFlow\n",
        "\n",
        "Keras is good for building neural networks quickly, but it abstracts a lot of detail.\n",
        "TensorFlow is great for understanding how neural networks operate on a lower level."
      ]
    },
    {
      "metadata": {
        "id": "NgJdrYcTFnKf",
        "colab_type": "code",
        "colab": {
          "base_uri": "https://localhost:8080/",
          "height": 34
        },
        "outputId": "50833969-81c2-4109-c58f-a1b43663943d"
      },
      "cell_type": "code",
      "source": [
        "import tensorflow as tf\n",
        "\n",
        "hello_constant = tf.constant('Hello World!')\n",
        "\n",
        "with tf.Session() as sess:\n",
        "  output = sess.run(hello_constant)\n",
        "  print(output)"
      ],
      "execution_count": 7,
      "outputs": [
        {
          "output_type": "stream",
          "text": [
            "b'Hello World!'\n"
          ],
          "name": "stdout"
        }
      ]
    },
    {
      "metadata": {
        "id": "Swqg76-wFyke",
        "colab_type": "code",
        "colab": {}
      },
      "cell_type": "code",
      "source": [
        "# A is a 0-dimensional int32 tensor\n",
        "A = tf.constant(1234)\n",
        "# B is a 1-dimensional int32 tensor\n",
        "B = tf.constant([123,456,789])\n",
        "# C is a 2-dimensional int32 tensor\n",
        "C = tf.constant([[123,456,789], [222,333,444]])"
      ],
      "execution_count": 0,
      "outputs": []
    },
    {
      "metadata": {
        "id": "zT8_xUhEGMtK",
        "colab_type": "text"
      },
      "cell_type": "markdown",
      "source": [
        "### Session\n",
        "\n",
        "The Tensorflow Session is an environment for running a graph. The session is in charge of allocating the operations to GPU(s) and/or CPU(s), including remote machines\n",
        "\n",
        "#### tf.placeholder()\n",
        "\n",
        "tf.placeholder() returns a tensor that gets its value from data passed to the tf.session.run() function, allowing you to set the input right before the session runs."
      ]
    },
    {
      "metadata": {
        "id": "xo9V9a08Go3K",
        "colab_type": "code",
        "colab": {
          "base_uri": "https://localhost:8080/",
          "height": 34
        },
        "outputId": "9cd9d68d-1c10-4835-ee03-a2e22b565d9d"
      },
      "cell_type": "code",
      "source": [
        "x = tf.placeholder(tf.string)\n",
        "\n",
        "with tf.Session() as sess:\n",
        "  output = sess.run(x, feed_dict={x: \"Hello World\"})\n",
        "  print(output)"
      ],
      "execution_count": 14,
      "outputs": [
        {
          "output_type": "stream",
          "text": [
            "Hello World\n"
          ],
          "name": "stdout"
        }
      ]
    },
    {
      "metadata": {
        "id": "dztv-r5gIjTX",
        "colab_type": "code",
        "colab": {
          "base_uri": "https://localhost:8080/",
          "height": 52
        },
        "outputId": "4c86e80e-ce39-478c-d96c-6a7d083cdc63"
      },
      "cell_type": "code",
      "source": [
        "x = tf.placeholder(tf.string)\n",
        "y = tf.placeholder(tf.int32)\n",
        "z = tf.placeholder(tf.float32)\n",
        "\n",
        "with tf.Session() as sess:\n",
        "    output = sess.run(x, feed_dict={x: 'Test String', y: 123, z: 45.67})\n",
        "    print(output)\n",
        "    print(y)"
      ],
      "execution_count": 15,
      "outputs": [
        {
          "output_type": "stream",
          "text": [
            "Test String\n",
            "Tensor(\"Placeholder_2:0\", dtype=int32)\n"
          ],
          "name": "stdout"
        }
      ]
    },
    {
      "metadata": {
        "id": "bezYOxILIybQ",
        "colab_type": "code",
        "colab": {
          "base_uri": "https://localhost:8080/",
          "height": 34
        },
        "outputId": "8d21b605-275d-4425-ee99-98566bde488b"
      },
      "cell_type": "code",
      "source": [
        "# Addition\n",
        "x = tf.add(5, 2)\n",
        "# Subtraction\n",
        "y = tf.subtract(10, 4)\n",
        "# Multiplication\n",
        "z = tf.multiply(2, 5)\n",
        "\n",
        "# Casting\n",
        "tf.cast(tf.constant(2.0), tf.int32)"
      ],
      "execution_count": 46,
      "outputs": [
        {
          "output_type": "execute_result",
          "data": {
            "text/plain": [
              "<tf.Tensor 'Cast:0' shape=() dtype=int32>"
            ]
          },
          "metadata": {
            "tags": []
          },
          "execution_count": 46
        }
      ]
    },
    {
      "metadata": {
        "id": "hHlNS0kgK_zR",
        "colab_type": "text"
      },
      "cell_type": "markdown",
      "source": [
        "#### Linear functions in TensorFlow\n",
        "\n",
        "The goal of training a NN is to modify weights and biases to best predict labls. Therfore we use tf.Variable\n",
        "\n",
        "tf.Variable is a tensor with an initial value that can be modified, much like a normal Python variable.This tensor stores its state in the session, so you must initialize the state of the tensor manually with tf.gloabl_variables_initializer()"
      ]
    },
    {
      "metadata": {
        "id": "Lgktg7DlSNzd",
        "colab_type": "code",
        "colab": {}
      },
      "cell_type": "code",
      "source": [
        "# Initialization\n",
        "x = tf.Variable(5)\n",
        "init = tf.global_variables_initializer()\n",
        "with tf.Session() as sess:\n",
        "  sess.run(init)"
      ],
      "execution_count": 0,
      "outputs": []
    },
    {
      "metadata": {
        "id": "n5AAF6oFSZuL",
        "colab_type": "code",
        "colab": {}
      },
      "cell_type": "code",
      "source": [
        "# Initializing the weights with random numbers from a normal distribution is good practice\n",
        "# -> tf.truncated_normal()\n",
        "\n",
        "n_features = 120\n",
        "n_labels = 5\n",
        "weights = tf.Variable(tf.truncated_normal((n_features, n_labels)))"
      ],
      "execution_count": 0,
      "outputs": []
    },
    {
      "metadata": {
        "id": "zPATQj3FSy44",
        "colab_type": "code",
        "colab": {}
      },
      "cell_type": "code",
      "source": [
        "# tf.zeros()\n",
        "\n",
        "bias = tf.Variable(tf.zeros(n_labels))"
      ],
      "execution_count": 0,
      "outputs": []
    },
    {
      "metadata": {
        "id": "PvqqN_6BS6l9",
        "colab_type": "code",
        "colab": {
          "base_uri": "https://localhost:8080/",
          "height": 558
        },
        "outputId": "bff3b42d-d845-406c-d9fb-c52dbabbdff5"
      },
      "cell_type": "code",
      "source": [
        "import tensorflow as tf\n",
        "\n",
        "def get_weights(n_features, n_labels):\n",
        "    \"\"\"\n",
        "    Return TensorFlow weights\n",
        "    :param n_features: Number of features\n",
        "    :param n_labels: Number of labels\n",
        "    :return: TensorFlow weights\n",
        "    \"\"\"\n",
        "    # TODO: Return weights\n",
        "    weights = tf.Variable(tf.truncated_normal((n_features, n_labels)))\n",
        "    \n",
        "    return weights\n",
        "\n",
        "\n",
        "def get_biases(n_labels):\n",
        "    \"\"\"\n",
        "    Return TensorFlow bias\n",
        "    :param n_labels: Number of labels\n",
        "    :return: TensorFlow bias\n",
        "    \"\"\"\n",
        "    # TODO: Return biases\n",
        "    bias = tf.Variable(tf.zeros(n_labels))\n",
        "    \n",
        "    return bias\n",
        "\n",
        "\n",
        "def linear(input, w, b):\n",
        "    \"\"\"\n",
        "    Return linear function in TensorFlow\n",
        "    :param input: TensorFlow input\n",
        "    :param w: TensorFlow weights\n",
        "    :param b: TensorFlow biases\n",
        "    :return: TensorFlow linear function\n",
        "    \"\"\"\n",
        "    # TODO: Linear Function (xW + b)\n",
        "    return tf.add(tf.matmul(input,w),b)\n",
        "\n",
        "################################################################################\n",
        "\n",
        "from tensorflow.examples.tutorials.mnist import input_data\n",
        "\n",
        "def mnist_features_labels(n_labels):\n",
        "    \"\"\"\n",
        "    Gets the first <n> labels from the MNIST dataset\n",
        "    :param n_labels: Number of labels to use\n",
        "    :return: Tuple of feature list and label list\n",
        "    \"\"\"\n",
        "    mnist_features = []\n",
        "    mnist_labels = []\n",
        "\n",
        "    mnist = input_data.read_data_sets('/datasets/ud730/mnist', one_hot=True)\n",
        "\n",
        "    # In order to make quizzes run faster, we're only looking at 10000 images\n",
        "    for mnist_feature, mnist_label in zip(*mnist.train.next_batch(10000)):\n",
        "\n",
        "        # Add features and labels if it's for the first <n>th labels\n",
        "        if mnist_label[:n_labels].any():\n",
        "            mnist_features.append(mnist_feature)\n",
        "            mnist_labels.append(mnist_label[:n_labels])\n",
        "\n",
        "    return mnist_features, mnist_labels\n",
        "\n",
        "\n",
        "# Number of features (28*28 image is 784 features)\n",
        "n_features = 784\n",
        "# Number of labels\n",
        "n_labels = 3\n",
        "\n",
        "# Features and Labels\n",
        "features = tf.placeholder(tf.float32)\n",
        "labels = tf.placeholder(tf.float32)\n",
        "\n",
        "# Weights and Biases\n",
        "w = get_weights(n_features, n_labels)\n",
        "b = get_biases(n_labels)\n",
        "\n",
        "# Linear Function xW + b\n",
        "logits = linear(features, w, b)\n",
        "\n",
        "# Training data\n",
        "train_features, train_labels = mnist_features_labels(n_labels)\n",
        "\n",
        "with tf.Session() as session:\n",
        "    # TODO: Initialize session variables\n",
        "    session.run(tf.global_variables_initializer())\n",
        "    # Softmax\n",
        "    prediction = tf.nn.softmax(logits)\n",
        "\n",
        "    # Cross entropy\n",
        "    # This quantifies how far off the predictions were.\n",
        "    # You'll learn more about this in future lessons.\n",
        "    cross_entropy = -tf.reduce_sum(labels * tf.log(prediction), reduction_indices=1)\n",
        "\n",
        "    # Training loss\n",
        "    # You'll learn more about this in future lessons.\n",
        "    loss = tf.reduce_mean(cross_entropy)\n",
        "\n",
        "    # Rate at which the weights are changed\n",
        "    # You'll learn more about this in future lessons.\n",
        "    learning_rate = 0.08\n",
        "\n",
        "    # Gradient Descent\n",
        "    # This is the method used to train the model\n",
        "    # You'll learn more about this in future lessons.\n",
        "    optimizer = tf.train.GradientDescentOptimizer(learning_rate).minimize(loss)\n",
        "\n",
        "    # Run optimizer and get loss\n",
        "    _, l = session.run(\n",
        "        [optimizer, loss],\n",
        "        feed_dict={features: train_features, labels: train_labels})\n",
        "\n",
        "# Print loss\n",
        "print('Loss: {}'.format(l))\n"
      ],
      "execution_count": 9,
      "outputs": [
        {
          "output_type": "stream",
          "text": [
            "WARNING:tensorflow:From <ipython-input-9-548475c1dfa2>:52: read_data_sets (from tensorflow.contrib.learn.python.learn.datasets.mnist) is deprecated and will be removed in a future version.\n",
            "Instructions for updating:\n",
            "Please use alternatives such as official/mnist/dataset.py from tensorflow/models.\n",
            "WARNING:tensorflow:From /usr/local/lib/python3.6/dist-packages/tensorflow/contrib/learn/python/learn/datasets/mnist.py:260: maybe_download (from tensorflow.contrib.learn.python.learn.datasets.base) is deprecated and will be removed in a future version.\n",
            "Instructions for updating:\n",
            "Please write your own downloading logic.\n",
            "WARNING:tensorflow:From /usr/local/lib/python3.6/dist-packages/tensorflow/contrib/learn/python/learn/datasets/base.py:252: _internal_retry.<locals>.wrap.<locals>.wrapped_fn (from tensorflow.contrib.learn.python.learn.datasets.base) is deprecated and will be removed in a future version.\n",
            "Instructions for updating:\n",
            "Please use urllib or similar directly.\n",
            "Successfully downloaded train-images-idx3-ubyte.gz 9912422 bytes.\n",
            "WARNING:tensorflow:From /usr/local/lib/python3.6/dist-packages/tensorflow/contrib/learn/python/learn/datasets/mnist.py:262: extract_images (from tensorflow.contrib.learn.python.learn.datasets.mnist) is deprecated and will be removed in a future version.\n",
            "Instructions for updating:\n",
            "Please use tf.data to implement this functionality.\n",
            "Extracting /datasets/ud730/mnist/train-images-idx3-ubyte.gz\n",
            "Successfully downloaded train-labels-idx1-ubyte.gz 28881 bytes.\n",
            "WARNING:tensorflow:From /usr/local/lib/python3.6/dist-packages/tensorflow/contrib/learn/python/learn/datasets/mnist.py:267: extract_labels (from tensorflow.contrib.learn.python.learn.datasets.mnist) is deprecated and will be removed in a future version.\n",
            "Instructions for updating:\n",
            "Please use tf.data to implement this functionality.\n",
            "Extracting /datasets/ud730/mnist/train-labels-idx1-ubyte.gz\n",
            "WARNING:tensorflow:From /usr/local/lib/python3.6/dist-packages/tensorflow/contrib/learn/python/learn/datasets/mnist.py:110: dense_to_one_hot (from tensorflow.contrib.learn.python.learn.datasets.mnist) is deprecated and will be removed in a future version.\n",
            "Instructions for updating:\n",
            "Please use tf.one_hot on tensors.\n",
            "Successfully downloaded t10k-images-idx3-ubyte.gz 1648877 bytes.\n",
            "Extracting /datasets/ud730/mnist/t10k-images-idx3-ubyte.gz\n",
            "Successfully downloaded t10k-labels-idx1-ubyte.gz 4542 bytes.\n",
            "Extracting /datasets/ud730/mnist/t10k-labels-idx1-ubyte.gz\n",
            "WARNING:tensorflow:From /usr/local/lib/python3.6/dist-packages/tensorflow/contrib/learn/python/learn/datasets/mnist.py:290: DataSet.__init__ (from tensorflow.contrib.learn.python.learn.datasets.mnist) is deprecated and will be removed in a future version.\n",
            "Instructions for updating:\n",
            "Please use alternatives such as official/mnist/dataset.py from tensorflow/models.\n",
            "Loss: 5.868113994598389\n"
          ],
          "name": "stdout"
        }
      ]
    },
    {
      "metadata": {
        "id": "2PBzB5vBVWDA",
        "colab_type": "text"
      },
      "cell_type": "markdown",
      "source": [
        "### TensorFlow Softmax\n",
        "\n",
        "The softmax function squashes it's inputs, typically called logits or logit scores, to be between 0 and 1 and also normalizes the outputs such that they all sum to 1."
      ]
    },
    {
      "metadata": {
        "id": "3r5EasiIV6Al",
        "colab_type": "code",
        "colab": {
          "base_uri": "https://localhost:8080/",
          "height": 34
        },
        "outputId": "53d7ab08-1bfc-49a4-a2fc-2edfd46f0645"
      },
      "cell_type": "code",
      "source": [
        "import tensorflow as tf\n",
        "\n",
        "\n",
        "def run():\n",
        "    output = None\n",
        "    logit_data = [2.0, 1.0, 0.1]\n",
        "    logits = tf.placeholder(tf.float32)\n",
        "    \n",
        "    # TODO: Calculate the softmax of the logits\n",
        "    softmax = tf.nn.softmax(logits)\n",
        "    \n",
        "    with tf.Session() as sess:\n",
        "        # TODO: Feed in the logit data\n",
        "        output = sess.run(softmax, feed_dict={logits: logit_data})\n",
        "\n",
        "    return output\n",
        "  \n",
        "run()"
      ],
      "execution_count": 19,
      "outputs": [
        {
          "output_type": "execute_result",
          "data": {
            "text/plain": [
              "array([0.6590012 , 0.24243298, 0.09856589], dtype=float32)"
            ]
          },
          "metadata": {
            "tags": []
          },
          "execution_count": 19
        }
      ]
    },
    {
      "metadata": {
        "id": "hDkPKKplWCnq",
        "colab_type": "text"
      },
      "cell_type": "markdown",
      "source": [
        "### Cross Entropy in TensorFlow\n",
        "\n",
        "tf.reduce_sum() function takes an array of numbers and sums them together\n",
        "tf.log() is the natural log"
      ]
    },
    {
      "metadata": {
        "id": "o9WpsCtTWBHE",
        "colab_type": "code",
        "colab": {
          "base_uri": "https://localhost:8080/",
          "height": 34
        },
        "outputId": "06938b9c-ea40-43dd-ed65-4aba3dd7b76c"
      },
      "cell_type": "code",
      "source": [
        "# Solution is available in the other \"solution.py\" tab\n",
        "import tensorflow as tf\n",
        "\n",
        "softmax_data = [0.7, 0.2, 0.1]\n",
        "one_hot_data = [1.0, 0.0, 0.0]\n",
        "\n",
        "softmax = tf.placeholder(tf.float32)\n",
        "one_hot = tf.placeholder(tf.float32)\n",
        "\n",
        "# TODO: Print cross entropy from session\n",
        "cross_entropy = - tf.reduce_sum(tf.multiply(one_hot, tf.log(softmax)))\n",
        "with tf.Session() as session:\n",
        "    result = session.run(cross_entropy, feed_dict={softmax: softmax_data, one_hot: one_hot_data})\n",
        "    \n",
        "    print(result)"
      ],
      "execution_count": 20,
      "outputs": [
        {
          "output_type": "stream",
          "text": [
            "0.35667497\n"
          ],
          "name": "stdout"
        }
      ]
    },
    {
      "metadata": {
        "id": "FBLIGO6xXe75",
        "colab_type": "text"
      },
      "cell_type": "markdown",
      "source": [
        "### Mini-batching\n",
        "\n",
        "Mini-batching is a technique for training on subsets of the dataset instead of all the data at one time.\n",
        "\n",
        "Mini-batching is computationally inefficient, since you can't calculate the loss simultaneously across all samples.\n",
        "\n",
        "Combined with SGD => Randomly shuffle the data at the start of each epoch, then create the mini-batches. For each mini-batch, you train the network weights with gradient descent."
      ]
    },
    {
      "metadata": {
        "id": "G4bjagNveBzu",
        "colab_type": "code",
        "colab": {}
      },
      "cell_type": "code",
      "source": [
        "import math\n",
        "\n",
        "def batches(batch_size, features, labels):\n",
        "    \"\"\"\n",
        "    Create batches of features and labels\n",
        "    :param batch_size: The batch size\n",
        "    :param features: List of features\n",
        "    :param labels: List of labels\n",
        "    :return: Batches of (Features, Labels)\n",
        "    \"\"\"\n",
        "    assert len(features) == len(labels)\n",
        "    # TODO: Implement batching\n",
        "    output_batches = []\n",
        "    \n",
        "    sample_size = len(features)\n",
        "    for start_i in range(0, sample_size, batch_size):\n",
        "        end_i = start_i + batch_size\n",
        "        batch = [features[start_i:end_i], labels[start_i:end_i]]\n",
        "        output_batches.append(batch)\n",
        "        \n",
        "    return output_batches"
      ],
      "execution_count": 0,
      "outputs": []
    },
    {
      "metadata": {
        "id": "iXUSDYav54u0",
        "colab_type": "code",
        "colab": {
          "base_uri": "https://localhost:8080/",
          "height": 104
        },
        "outputId": "bfe66f0f-d747-445f-e896-36b7870c221d"
      },
      "cell_type": "code",
      "source": [
        "from tensorflow.examples.tutorials.mnist import input_data\n",
        "import tensorflow as tf\n",
        "import numpy as np\n",
        "\n",
        "learning_rate = 0.001\n",
        "n_input = 784  # MNIST data input (img shape: 28*28)\n",
        "n_classes = 10  # MNIST total classes (0-9 digits)\n",
        "\n",
        "# Import MNIST data\n",
        "mnist = input_data.read_data_sets('/datasets/ud730/mnist', one_hot=True)\n",
        "\n",
        "# The features are already scaled and the data is shuffled\n",
        "train_features = mnist.train.images\n",
        "test_features = mnist.test.images\n",
        "\n",
        "train_labels = mnist.train.labels.astype(np.float32)\n",
        "test_labels = mnist.test.labels.astype(np.float32)\n",
        "\n",
        "# Features and Labels\n",
        "features = tf.placeholder(tf.float32, [None, n_input])\n",
        "labels = tf.placeholder(tf.float32, [None, n_classes])\n",
        "\n",
        "# Weights & bias\n",
        "weights = tf.Variable(tf.random_normal([n_input, n_classes]))\n",
        "bias = tf.Variable(tf.random_normal([n_classes]))\n",
        "\n",
        "# Logits - xW + b\n",
        "logits = tf.add(tf.matmul(features, weights), bias)\n",
        "\n",
        "# Define loss and optimizer\n",
        "cost = tf.reduce_mean(tf.nn.softmax_cross_entropy_with_logits(logits=logits, labels=labels))\n",
        "optimizer = tf.train.GradientDescentOptimizer(learning_rate=learning_rate).minimize(cost)\n",
        "\n",
        "# Calculate accuracy\n",
        "correct_prediction = tf.equal(tf.argmax(logits, 1), tf.argmax(labels, 1))\n",
        "accuracy = tf.reduce_mean(tf.cast(correct_prediction, tf.float32))\n",
        "\n",
        "epochs = 100\n",
        "\n",
        "# TODO: Set batch size\n",
        "batch_size = 128\n",
        "assert batch_size is not None, 'You must set the batch size'\n",
        "\n",
        "init = tf.global_variables_initializer()\n",
        "\n",
        "with tf.Session() as sess:\n",
        "    sess.run(init)\n",
        "    \n",
        "    for epoch_i in range(epochs):\n",
        "      # TODO: Train optimizer on all batches\n",
        "      for batch_features, batch_labels in batches(batch_size, train_features, train_labels):\n",
        "          sess.run(optimizer, feed_dict={features: batch_features, labels: batch_labels})\n",
        "\n",
        "      # Calculate accuracy for test dataset\n",
        "    test_accuracy = sess.run(\n",
        "        accuracy,\n",
        "        feed_dict={features: test_features, labels: test_labels})\n",
        "\n",
        "print('Test Accuracy: {}'.format(test_accuracy))\n"
      ],
      "execution_count": 12,
      "outputs": [
        {
          "output_type": "stream",
          "text": [
            "Extracting /datasets/ud730/mnist/train-images-idx3-ubyte.gz\n",
            "Extracting /datasets/ud730/mnist/train-labels-idx1-ubyte.gz\n",
            "Extracting /datasets/ud730/mnist/t10k-images-idx3-ubyte.gz\n",
            "Extracting /datasets/ud730/mnist/t10k-labels-idx1-ubyte.gz\n",
            "Test Accuracy: 0.7246000170707703\n"
          ],
          "name": "stdout"
        }
      ]
    },
    {
      "metadata": {
        "id": "vN2TvpJK6Fuw",
        "colab_type": "text"
      },
      "cell_type": "markdown",
      "source": [
        "### Epochs\n",
        "\n",
        "An epoch is a single forward and backward pass of the whole dataset.\n",
        "\n",
        "**Added epochs in code above**"
      ]
    },
    {
      "metadata": {
        "id": "0ow84lnl_9zg",
        "colab_type": "code",
        "colab": {
          "base_uri": "https://localhost:8080/",
          "height": 34
        },
        "outputId": "2e65e195-b825-4efd-d7a5-03c36af200df"
      },
      "cell_type": "code",
      "source": [
        "# Normalize\n",
        "\n",
        "# Problem 1 - Implement Min-Max scaling for grayscale image data\n",
        "def normalize_grayscale(image_data):\n",
        "    \"\"\"\n",
        "    Normalize the image data with Min-Max scaling to a range of [0.1, 0.9]\n",
        "    :param image_data: The image data to be normalized\n",
        "    :return: Normalized image data\n",
        "    \"\"\"\n",
        "    # TODO: Implement Min-Max scaling for grayscale image data\n",
        "    a = 0.1\n",
        "    b = 0.9\n",
        "    \n",
        "    minimum = image_data.min()\n",
        "    maximum = image_data.max()\n",
        "    \n",
        "    result = np.array([])\n",
        "        \n",
        "    for i in range(len(image_data)):\n",
        "        result = np.append(result, (a - (((image_data[i] - minimum) * (a - b)) / (maximum - minimum))))\n",
        "        \n",
        "    return result\n",
        "\n",
        "### DON'T MODIFY ANYTHING BELOW ###\n",
        "# Test Cases\n",
        "np.testing.assert_array_almost_equal(\n",
        "    normalize_grayscale(np.array([0, 1, 2, 3, 4, 5, 6, 7, 8, 9, 10, 255])),\n",
        "    [0.1, 0.103137254902, 0.106274509804, 0.109411764706, 0.112549019608, 0.11568627451, 0.118823529412, 0.121960784314,\n",
        "     0.125098039216, 0.128235294118, 0.13137254902, 0.9],\n",
        "    decimal=3)\n",
        "np.testing.assert_array_almost_equal(\n",
        "    normalize_grayscale(np.array([0, 1, 10, 20, 30, 40, 233, 244, 254,255])),\n",
        "    [0.1, 0.103137254902, 0.13137254902, 0.162745098039, 0.194117647059, 0.225490196078, 0.830980392157, 0.865490196078,\n",
        "     0.896862745098, 0.9])\n",
        "\n",
        "print('Tests Passed!')"
      ],
      "execution_count": 28,
      "outputs": [
        {
          "output_type": "stream",
          "text": [
            "Tests Passed!\n"
          ],
          "name": "stdout"
        }
      ]
    },
    {
      "metadata": {
        "id": "te0wZwOWELYx",
        "colab_type": "text"
      },
      "cell_type": "markdown",
      "source": [
        "### Deeper Neural Networks with Tensorflow\n",
        "\n",
        "Non-linear function in the hidden layer to solve non-linear problems.\n",
        "\n",
        "ReLU: tf.nn.relu()"
      ]
    },
    {
      "metadata": {
        "id": "5NonbWl2GI1k",
        "colab_type": "code",
        "colab": {
          "base_uri": "https://localhost:8080/",
          "height": 69
        },
        "outputId": "91aa48ba-e3c1-4e68-cc4f-d29c3914256b"
      },
      "cell_type": "code",
      "source": [
        "# Solution is available in the other \"solution.py\" tab\n",
        "import tensorflow as tf\n",
        "\n",
        "hidden_layer_weights = [\n",
        "    [0.1, 0.2, 0.4],\n",
        "    [0.4, 0.6, 0.6],\n",
        "    [0.5, 0.9, 0.1],\n",
        "    [0.8, 0.2, 0.8]]\n",
        "out_weights = [\n",
        "    [0.1, 0.6],\n",
        "    [0.2, 0.1],\n",
        "    [0.7, 0.9]]\n",
        "\n",
        "# Weights and biases\n",
        "weights = [\n",
        "    tf.Variable(hidden_layer_weights),\n",
        "    tf.Variable(out_weights)]\n",
        "biases = [\n",
        "    tf.Variable(tf.zeros(3)),\n",
        "    tf.Variable(tf.zeros(2))]\n",
        "\n",
        "# Input\n",
        "features = tf.Variable([[1.0, 2.0, 3.0, 4.0], [-1.0, -2.0, -3.0, -4.0], [11.0, 12.0, 13.0, 14.0]])\n",
        "\n",
        "# TODO: Create Model\n",
        "init = tf.global_variables_initializer()\n",
        "\n",
        "hidden_layer = tf.add(tf.matmul(features, weights[0]), biases[0])\n",
        "hidden_layer = tf.nn.relu(hidden_layer)\n",
        "\n",
        "output = tf.add(tf.matmul(hidden_layer, weights[1]), biases[1])\n",
        "\n",
        "with tf.Session() as sess:\n",
        "    sess.run(init)\n",
        "    print(sess.run(output))"
      ],
      "execution_count": 30,
      "outputs": [
        {
          "output_type": "stream",
          "text": [
            "[[ 5.11      8.440001]\n",
            " [ 0.        0.      ]\n",
            " [24.01     38.24    ]]\n"
          ],
          "name": "stdout"
        }
      ]
    },
    {
      "metadata": {
        "id": "a5Xj-g51GqzY",
        "colab_type": "text"
      },
      "cell_type": "markdown",
      "source": [
        "### Deep Neural Network in TensorFlow"
      ]
    },
    {
      "metadata": {
        "id": "ifL6C5VOGbOb",
        "colab_type": "code",
        "colab": {
          "base_uri": "https://localhost:8080/",
          "height": 156
        },
        "outputId": "e37e18a8-1eb9-4327-ff61-59c5c5dfda42"
      },
      "cell_type": "code",
      "source": [
        "from tensorflow.examples.tutorials.mnist import input_data\n",
        "mnist = input_data.read_data_sets(\".\", one_hot=True, reshape=False)"
      ],
      "execution_count": 31,
      "outputs": [
        {
          "output_type": "stream",
          "text": [
            "Successfully downloaded train-images-idx3-ubyte.gz 9912422 bytes.\n",
            "Extracting ./train-images-idx3-ubyte.gz\n",
            "Successfully downloaded train-labels-idx1-ubyte.gz 28881 bytes.\n",
            "Extracting ./train-labels-idx1-ubyte.gz\n",
            "Successfully downloaded t10k-images-idx3-ubyte.gz 1648877 bytes.\n",
            "Extracting ./t10k-images-idx3-ubyte.gz\n",
            "Successfully downloaded t10k-labels-idx1-ubyte.gz 4542 bytes.\n",
            "Extracting ./t10k-labels-idx1-ubyte.gz\n"
          ],
          "name": "stdout"
        }
      ]
    },
    {
      "metadata": {
        "id": "KKijVxAmGzgj",
        "colab_type": "code",
        "colab": {}
      },
      "cell_type": "code",
      "source": [
        "import tensorflow as tf\n",
        "\n",
        "learning_rate = 0.001\n",
        "training_epochs = 20\n",
        "batch_size = 128\n",
        "display_step = 1\n",
        "\n",
        "n_input = 784\n",
        "n_classes = 10\n",
        "\n",
        "n_hidden_layer = 256\n",
        "\n",
        "weights = {\n",
        "    'hidden_layer': tf.Variable(tf.random_normal([n_input, n_hidden_layer])),\n",
        "    'out': tf.Variable(tf.random_normal([n_hidden_layer, n_classes]))\n",
        "}\n",
        "biases = {\n",
        "    'hidden_layer': tf.Variable(tf.random_normal([n_hidden_layer])),\n",
        "    'out': tf.Variable(tf.random_normal([n_classes]))\n",
        "}"
      ],
      "execution_count": 0,
      "outputs": []
    },
    {
      "metadata": {
        "id": "lqTdeF6pHevt",
        "colab_type": "code",
        "colab": {}
      },
      "cell_type": "code",
      "source": [
        "# tf Graph input\n",
        "x = tf.placeholder(\"float\", [None, 28, 28, 1])\n",
        "y = tf.placeholder(\"float\", [None, n_classes])\n",
        "\n",
        "x_flat = tf.reshape(x, [-1, n_input])"
      ],
      "execution_count": 0,
      "outputs": []
    },
    {
      "metadata": {
        "id": "83vQl_KWIIoo",
        "colab_type": "code",
        "colab": {}
      },
      "cell_type": "code",
      "source": [
        "# Hidden layer with RELU activation\n",
        "layer_1 = tf.add(tf.matmul(x_flat, weights['hidden_layer']), biases['hidden_layer'])\n",
        "layer_1 = tf.nn.relu(layer_1)\n",
        "# Output layer with linear activation\n",
        "logits = tf.add(tf.matmul(layer_1, weights['out']), biases['out'])"
      ],
      "execution_count": 0,
      "outputs": []
    },
    {
      "metadata": {
        "id": "Oseu8SL_IOAS",
        "colab_type": "code",
        "colab": {}
      },
      "cell_type": "code",
      "source": [
        "cost = tf.reduce_mean(tf.nn.softmax_cross_entropy_with_logits(logits=logits, labels=y))\n",
        "optimizer = tf.train.GradientDescentOptimizer(learning_rate=learning_rate).minimize(cost)"
      ],
      "execution_count": 0,
      "outputs": []
    },
    {
      "metadata": {
        "id": "yt4wWLsRIV3_",
        "colab_type": "code",
        "colab": {}
      },
      "cell_type": "code",
      "source": [
        "# Initializing the variables\n",
        "init = tf.global_variables_initializer()\n",
        "\n",
        "\n",
        "# Launch the graph\n",
        "with tf.Session() as sess:\n",
        "    sess.run(init)\n",
        "    # Training cycle\n",
        "    for epoch in range(training_epochs):\n",
        "        total_batch = int(mnist.train.num_examples/batch_size)\n",
        "        # Loop over all batches\n",
        "        for i in range(total_batch):\n",
        "            batch_x, batch_y = mnist.train.next_batch(batch_size)\n",
        "            # Run optimization op (backprop) and cost op (to get loss value)\n",
        "            sess.run(optimizer, feed_dict={x: batch_x, y: batch_y})"
      ],
      "execution_count": 0,
      "outputs": []
    },
    {
      "metadata": {
        "id": "5E-J3BLkIn1v",
        "colab_type": "text"
      },
      "cell_type": "markdown",
      "source": [
        "### Save and Restor TensorFlow Models"
      ]
    },
    {
      "metadata": {
        "id": "EuT9DRUvIwnJ",
        "colab_type": "code",
        "colab": {
          "base_uri": "https://localhost:8080/",
          "height": 104
        },
        "outputId": "b25dcd0e-5ae3-40c3-a10e-5afd11bb3a95"
      },
      "cell_type": "code",
      "source": [
        "import tensorflow as tf\n",
        "\n",
        "# The file path to save the data\n",
        "save_file = './model.ckpt'\n",
        "\n",
        "# Two Tensor Variables: weights and bias\n",
        "weights = tf.Variable(tf.truncated_normal([2, 3]))\n",
        "bias = tf.Variable(tf.truncated_normal([3]))\n",
        "\n",
        "# Class used to save and/or restore Tensor Variables\n",
        "saver = tf.train.Saver()\n",
        "\n",
        "with tf.Session() as sess:\n",
        "    # Initialize all the Variables\n",
        "    sess.run(tf.global_variables_initializer())\n",
        "\n",
        "    # Show the values of weights and bias\n",
        "    print('Weights:')\n",
        "    print(sess.run(weights))\n",
        "    print('Bias:')\n",
        "    print(sess.run(bias))\n",
        "\n",
        "    # Save the model\n",
        "    saver.save(sess, save_file)"
      ],
      "execution_count": 42,
      "outputs": [
        {
          "output_type": "stream",
          "text": [
            "Weights:\n",
            "[[-0.22731961  0.81917626  0.21826631]\n",
            " [ 0.9458838   1.2711861  -0.43904358]]\n",
            "Bias:\n",
            "[-1.230412  -1.6085608 -1.645819 ]\n"
          ],
          "name": "stdout"
        }
      ]
    },
    {
      "metadata": {
        "id": "fIUtwGtLI3wn",
        "colab_type": "code",
        "colab": {}
      },
      "cell_type": "code",
      "source": [
        "# Remove the previous weights and bias\n",
        "tf.reset_default_graph()\n",
        "\n",
        "# Two Variables: weights and bias\n",
        "weights = tf.Variable(tf.truncated_normal([2, 3]))\n",
        "bias = tf.Variable(tf.truncated_normal([3]))\n",
        "\n",
        "# Class used to save and/or restore Tensor Variables\n",
        "saver = tf.train.Saver()\n",
        "\n",
        "with tf.Session() as sess:\n",
        "    # Load the weights and bias\n",
        "    saver.restore(sess, save_file)\n",
        "\n",
        "    # Show the values of weights and bias\n",
        "    print('Weight:')\n",
        "    print(sess.run(weights))\n",
        "    print('Bias:')\n",
        "    print(sess.run(bias))\n"
      ],
      "execution_count": 0,
      "outputs": []
    },
    {
      "metadata": {
        "id": "sVZQEnZuKeDf",
        "colab_type": "text"
      },
      "cell_type": "markdown",
      "source": [
        "### TensorFlow Dropout"
      ]
    },
    {
      "metadata": {
        "id": "_7NSgU7HJBqh",
        "colab_type": "code",
        "colab": {
          "base_uri": "https://localhost:8080/",
          "height": 69
        },
        "outputId": "95c66069-e723-4bf8-e8ac-4cca0d1537c1"
      },
      "cell_type": "code",
      "source": [
        "# Solution is available in the other \"solution.py\" tab\n",
        "import tensorflow as tf\n",
        "\n",
        "hidden_layer_weights = [\n",
        "    [0.1, 0.2, 0.4],\n",
        "    [0.4, 0.6, 0.6],\n",
        "    [0.5, 0.9, 0.1],\n",
        "    [0.8, 0.2, 0.8]]\n",
        "out_weights = [\n",
        "    [0.1, 0.6],\n",
        "    [0.2, 0.1],\n",
        "    [0.7, 0.9]]\n",
        "\n",
        "# Weights and biases\n",
        "weights = [\n",
        "    tf.Variable(hidden_layer_weights),\n",
        "    tf.Variable(out_weights)]\n",
        "biases = [\n",
        "    tf.Variable(tf.zeros(3)),\n",
        "    tf.Variable(tf.zeros(2))]\n",
        "\n",
        "# Input\n",
        "features = tf.Variable([[0.0, 2.0, 3.0, 4.0], [0.1, 0.2, 0.3, 0.4], [11.0, 12.0, 13.0, 14.0]])\n",
        "\n",
        "# TODO: Create Model with Dropout\n",
        "keep_prob = tf.placeholder(tf.float32)\n",
        "\n",
        "hidden_layer = tf.add(tf.matmul(features, weights[0]), biases[0])\n",
        "hidden_layer = tf.nn.relu(hidden_layer)\n",
        "hidden_layer = tf.nn.dropout(hidden_layer, keep_prob)\n",
        "\n",
        "output_layer = tf.add(tf.matmul(hidden_layer, weights[1]), biases[1])\n",
        "\n",
        "with tf.Session() as sess:\n",
        "  sess.run(tf.global_variables_initializer())\n",
        "  \n",
        "  output = sess.run(output_layer, feed_dict={keep_prob: 0.5})\n",
        "  print(output)\n",
        "\n",
        "# TODO: Print logits from a session\n"
      ],
      "execution_count": 45,
      "outputs": [
        {
          "output_type": "stream",
          "text": [
            "[[ 1.8800001   0.94000006]\n",
            " [ 0.112       0.67200005]\n",
            " [33.74       43.38      ]]\n"
          ],
          "name": "stdout"
        }
      ]
    },
    {
      "metadata": {
        "id": "HUlzN-soNHyo",
        "colab_type": "text"
      },
      "cell_type": "markdown",
      "source": [
        "# Convolutional Neural Networks\n",
        "\n",
        "## Lesson 2: Convolutional Neural Networks\n",
        "\n",
        "RNN are used more than CNNs\n",
        "\n",
        "**categorical_crossentropy as loss function:** The loss will be\n",
        "* Lower: When label and prediction agree\n",
        "* Higher: When label and prediction disagree\n",
        "\n",
        "**MLP:**\n",
        "* Only use fully connected layers\n",
        "* Only accept vectors\n",
        "\n",
        "**CNNs:**\n",
        "* Sparsely connected layers\n",
        "* Accept matrices as input\n",
        "\n",
        "Multiply each node with the weights, add i all up and add the bias (and activation function) => **Filter.**\n",
        "\n",
        "For color images the FIlter is 3D. (RGB)\n",
        "\n",
        "**Stride:** How are to move around the image.\n",
        "\n",
        "**Padding:** What to do at the edges of the image? Padding the Image with zeros.\n",
        "\n",
        "*   Valid: Loose information on the edges\n",
        "*   Same: Padding is applied\n",
        "\n",
        "\n",
        "\n"
      ]
    },
    {
      "metadata": {
        "id": "oB6Lgh71Tu-6",
        "colab_type": "code",
        "colab": {}
      },
      "cell_type": "code",
      "source": [
        "from keras.layers import Conv2D\n",
        "\n",
        "# Create a convolutional layer:\n",
        "filters = 1\n",
        "kernel_size = 2\n",
        "\n",
        "Conv2D(filters, kernel_size, strides, padding='same', activiation='relu', input_shape)\n",
        "\n",
        "## mandatory fields\n",
        "# filters: number of filters\n",
        "# kernel_size: Number specifying both the height and the width of the (square) convolution window\n",
        "# input_shape: If the first layer, it must specify the height, width and depth of the input\n",
        "\n",
        "## optional fields\n",
        "# strides: strides of the convolution\n",
        "# padding: valid or same\n",
        "# activation: typically relu\n",
        "\n",
        "Conv2D(filters=16, kernel_size=2, strides=2, activation='relu', input_shape=(200, 200, 1))"
      ],
      "execution_count": 0,
      "outputs": []
    },
    {
      "metadata": {
        "id": "ke3Vo93yUPNp",
        "colab_type": "code",
        "colab": {
          "base_uri": "https://localhost:8080/",
          "height": 173
        },
        "outputId": "45019435-2394-4299-b0f9-20f3c1df0e31"
      },
      "cell_type": "code",
      "source": [
        "# Dimensionality\n",
        "\n",
        "from keras.models import Sequential\n",
        "from keras.layers import Conv2D\n",
        "\n",
        "model = Sequential()\n",
        "model.add(Conv2D(filters=16, kernel_size=2, strides=2, padding='valid', activation='relu', input_shape=(200, 200, 1)))\n",
        "model.summary()"
      ],
      "execution_count": 14,
      "outputs": [
        {
          "output_type": "stream",
          "text": [
            "_________________________________________________________________\n",
            "Layer (type)                 Output Shape              Param #   \n",
            "=================================================================\n",
            "conv2d_1 (Conv2D)            (None, 100, 100, 16)      80        \n",
            "=================================================================\n",
            "Total params: 80\n",
            "Trainable params: 80\n",
            "Non-trainable params: 0\n",
            "_________________________________________________________________\n"
          ],
          "name": "stdout"
        }
      ]
    },
    {
      "metadata": {
        "id": "EGmLnVAuV0aU",
        "colab_type": "text"
      },
      "cell_type": "markdown",
      "source": [
        "### Number of Parameters in a CNN\n",
        "\n",
        "* **K** - # of filters\n",
        "* **F** - height and width of the CNN filters\n",
        "* **D_in** - the depth of the previous layer\n",
        "\n",
        "K*F*F*D_in + K\n",
        "\n",
        "### Shape of a Convolutional Layer\n",
        "\n",
        "* **S** - stride of the convolution\n",
        "* **H_in** - the height of the previous layer\n",
        "* **W_in** - the width of the previous layer\n",
        "\n",
        "If padding is **same**:\n",
        "\n",
        "* height: ceil(float(H_in) / float(S))\n",
        "* width: ceil(float(W_in) / float(S))\n",
        "\n",
        "if padding is **valid**:\n",
        "\n",
        "* height: ceil(float(H_in - F + 1 / float(S)))\n",
        "* widt: ceil(float(W_in - F + 1 / float(S)))"
      ]
    },
    {
      "metadata": {
        "id": "n9sYAgGmVNrZ",
        "colab_type": "code",
        "colab": {
          "base_uri": "https://localhost:8080/",
          "height": 173
        },
        "outputId": "fff79351-dc80-4ca9-8f32-c1a30a73a9aa"
      },
      "cell_type": "code",
      "source": [
        "from keras.models import Sequential\n",
        "from keras.layers import Conv2D\n",
        "\n",
        "model = Sequential()\n",
        "model.add(Conv2D(filters=32, kernel_size=3, strides=2, padding='same', \n",
        "    activation='relu', input_shape=(128, 128, 3)))\n",
        "model.summary()"
      ],
      "execution_count": 18,
      "outputs": [
        {
          "output_type": "stream",
          "text": [
            "_________________________________________________________________\n",
            "Layer (type)                 Output Shape              Param #   \n",
            "=================================================================\n",
            "conv2d_2 (Conv2D)            (None, 64, 64, 32)        896       \n",
            "=================================================================\n",
            "Total params: 896\n",
            "Trainable params: 896\n",
            "Non-trainable params: 0\n",
            "_________________________________________________________________\n"
          ],
          "name": "stdout"
        }
      ]
    },
    {
      "metadata": {
        "id": "RSEagT_xXVtA",
        "colab_type": "text"
      },
      "cell_type": "markdown",
      "source": [
        "## Pooling Layers\n",
        "\n",
        "Type of layer for CNNs\n",
        "\n",
        "Dimensionality of the convolutional layer can lead to overfitting => reduce dimensionality. Reduce width and height.\n",
        "\n",
        "* max pooling layer: Take a stack of features maps as input. Run a convolution across the convolutional layer. \n",
        "* gloval average pooling layer: computes the average value of eath feature map in a convolution => More drastic reduction"
      ]
    },
    {
      "metadata": {
        "id": "OUTjpBh1W7nj",
        "colab_type": "code",
        "colab": {}
      },
      "cell_type": "code",
      "source": [
        "from keras.layers import MaxPooling2D\n",
        "\n",
        "MaxPooling2D(pool_size, strides,padding)\n",
        "\n",
        "## Mandatory arguments\n",
        "# pool_size - Number specifiying the height and width of the pooling window\n",
        "## Optional arguments\n",
        "# strides - vertical and horizontal stride\n",
        "# padding\n"
      ],
      "execution_count": 0,
      "outputs": []
    },
    {
      "metadata": {
        "id": "sPyt4_9_cGuf",
        "colab_type": "code",
        "colab": {
          "base_uri": "https://localhost:8080/",
          "height": 173
        },
        "outputId": "cc049bdc-ddae-43d0-a5a1-f09223018bef"
      },
      "cell_type": "code",
      "source": [
        "from keras.models import Sequential\n",
        "from keras.layers import MaxPooling2D\n",
        "\n",
        "model = Sequential()\n",
        "model.add(MaxPooling2D(pool_size=2, strides=2, input_shape=(100, 100, 15)))\n",
        "model.summary()"
      ],
      "execution_count": 15,
      "outputs": [
        {
          "output_type": "stream",
          "text": [
            "_________________________________________________________________\n",
            "Layer (type)                 Output Shape              Param #   \n",
            "=================================================================\n",
            "max_pooling2d_1 (MaxPooling2 (None, 50, 50, 15)        0         \n",
            "=================================================================\n",
            "Total params: 0\n",
            "Trainable params: 0\n",
            "Non-trainable params: 0\n",
            "_________________________________________________________________\n"
          ],
          "name": "stdout"
        }
      ]
    },
    {
      "metadata": {
        "id": "wxylSApGcWCY",
        "colab_type": "code",
        "colab": {
          "base_uri": "https://localhost:8080/",
          "height": 451
        },
        "outputId": "faba90a6-e9d3-4ae7-d8d9-60830cc92955"
      },
      "cell_type": "code",
      "source": [
        "from keras.models import Sequential\n",
        "from keras.layers import Conv2D, MaxPooling2D, Flatten, Dense\n",
        "\n",
        "model = Sequential()\n",
        "model.add(Conv2D(filters=16, kernel_size=2, padding='same', activation='relu', input_shape=(32, 32, 3)))\n",
        "model.add(MaxPooling2D(pool_size=2))\n",
        "model.add(Conv2D(filters=32, kernel_size=2, padding='same', activation='relu'))\n",
        "model.add(MaxPooling2D(pool_size=2))\n",
        "model.add(Conv2D(filters=32, kernel_size=2, padding='same', activation='relu'))\n",
        "model.add(MaxPooling2D(pool_size=2))\n",
        "model.add(Flatten())\n",
        "model.add(Dense(500, activation='relu'))\n",
        "model.add(Dense(10, activation='softmax'))\n",
        "\n",
        "model.summary()"
      ],
      "execution_count": 16,
      "outputs": [
        {
          "output_type": "stream",
          "text": [
            "_________________________________________________________________\n",
            "Layer (type)                 Output Shape              Param #   \n",
            "=================================================================\n",
            "conv2d_2 (Conv2D)            (None, 32, 32, 16)        208       \n",
            "_________________________________________________________________\n",
            "max_pooling2d_2 (MaxPooling2 (None, 16, 16, 16)        0         \n",
            "_________________________________________________________________\n",
            "conv2d_3 (Conv2D)            (None, 16, 16, 32)        2080      \n",
            "_________________________________________________________________\n",
            "max_pooling2d_3 (MaxPooling2 (None, 8, 8, 32)          0         \n",
            "_________________________________________________________________\n",
            "conv2d_4 (Conv2D)            (None, 8, 8, 32)          4128      \n",
            "_________________________________________________________________\n",
            "max_pooling2d_4 (MaxPooling2 (None, 4, 4, 32)          0         \n",
            "_________________________________________________________________\n",
            "flatten_1 (Flatten)          (None, 512)               0         \n",
            "_________________________________________________________________\n",
            "dense_1 (Dense)              (None, 500)               256500    \n",
            "_________________________________________________________________\n",
            "dense_2 (Dense)              (None, 10)                5010      \n",
            "=================================================================\n",
            "Total params: 267,926\n",
            "Trainable params: 267,926\n",
            "Non-trainable params: 0\n",
            "_________________________________________________________________\n"
          ],
          "name": "stdout"
        }
      ]
    },
    {
      "metadata": {
        "id": "GVUTLKQ5mrjI",
        "colab_type": "text"
      },
      "cell_type": "markdown",
      "source": [
        "### Data Augmentation in Keras\n",
        "\n",
        "We want to learn an invariant image:\n",
        "* Scale Invariance\n",
        "* Rotation Invariance\n",
        "* Translation Invariance\n",
        "\n",
        "Add images to the training set by doing some rotation, translation on the training set."
      ]
    },
    {
      "metadata": {
        "id": "E574zFVspRhW",
        "colab_type": "code",
        "colab": {}
      },
      "cell_type": "code",
      "source": [
        "from keras.preprocessing.image import ImageDataGenerator\n",
        "\n",
        "# create and configure augmented image generator\n",
        "datagen_train = ImageDataGenerator(\n",
        "    width_shift_range=0.1,  # randomly shift images horizontally (10% of total width)\n",
        "    height_shift_range=0.1,  # randomly shift images vertically (10% of total height)\n",
        "    horizontal_flip=True) # randomly flip images horizontally\n",
        "\n",
        "# fit augmented image generator on data\n",
        "datagen_train.fit(x_train)"
      ],
      "execution_count": 0,
      "outputs": []
    },
    {
      "metadata": {
        "id": "PauQp1ADo32b",
        "colab_type": "code",
        "colab": {}
      },
      "cell_type": "code",
      "source": [
        "model.fit_generator(datagen_train.flow(x_train, y_train, batch_size=batch_size),\n",
        "                    steps_per_epoch=x_train.shape[0] // batch_size,\n",
        "                    epochs=epochs, verbose=2, callbacks=[checkpointer],\n",
        "                    validation_data=(x_valid, y_valid),\n",
        "                    validation_steps=x_valid.shape[0] // batch_size)"
      ],
      "execution_count": 0,
      "outputs": []
    },
    {
      "metadata": {
        "id": "0-lrdKjHptLM",
        "colab_type": "code",
        "colab": {}
      },
      "cell_type": "code",
      "source": [
        "# steps_per_epoch = x_train.shape[0] / batch_size\n",
        "where x_train.shape[0] corresponds to the number of unique samples in the training dataset x_train.\n",
        "By setting steps_per_epoch to this value, we ensure that the model sees x_train.shape[0] augmented images in each epoch."
      ],
      "execution_count": 0,
      "outputs": []
    },
    {
      "metadata": {
        "id": "p0NoEuiZpsPP",
        "colab_type": "text"
      },
      "cell_type": "markdown",
      "source": [
        "**AlexNet:** Pioneered the use of the ReLU activation function as well as dropout\n",
        "\n",
        "**VGG:** VGG16 and VGG 19 with the total layers as the numbers\n",
        "\n",
        "**ResNet:** Like VGG. 3 convolutional layer.\n",
        "\n",
        "Too many layers => Vanishing gradient problem."
      ]
    },
    {
      "metadata": {
        "id": "D0Tym9cwrwaF",
        "colab_type": "text"
      },
      "cell_type": "markdown",
      "source": [
        "### Visualizing CNNs\n",
        "\n",
        "Deep Dreams: Using a input picture with a filter that recognizes something else."
      ]
    },
    {
      "metadata": {
        "id": "udysXmVguI-V",
        "colab_type": "text"
      },
      "cell_type": "markdown",
      "source": [
        "### Transfer Learning\n",
        "\n",
        "Using a CNN from a training set with new images.\n",
        "\n",
        "The filters later in the architecture are more specific to the training network. It depends on both on size of the new data and the similiarity of the new data set to the original data set.\n",
        "\n",
        "**The four main cases:**\n",
        "1. new data set is small, new data is similiar to original training data\n",
        "2. new data set is small, new data is different from original training data\n",
        "3. new data set is large, new data is simimiliar to original training data\n",
        "4. new data set is large, new data is different from original training data\n",
        "\n",
        "#### Demonstration Network\n",
        "\n",
        "What the CNN does:\n",
        "\n",
        "1. first layer detects edges of the image\n",
        "2. the second layer will detect shapes\n",
        "3. the third convolutional layer detects higher level features\n",
        "\n",
        "##### Case 1: Small Data set, Similiar Data\n",
        "\n",
        "* slice off the end of the neural network\n",
        "* add a new fully connected layer that matches the number of classes in the new data set\n",
        "* randomize the weights of the new fully connected layer; freeze all the weights from the pre-trained network\n",
        "* train the network to update the weights of the new fully connected layer\n",
        "\n",
        "##### Case 2: Small Data set, Similiar Data\n",
        "\n",
        "* slice off most of the pre-trained layers near the beginning of the network\n",
        "* add to the reminaing pre-trained layers a new fully connected layer that matches the number of classes in the new dataset\n",
        "* randomize the weights of the new fully connected layer; freeze all the weights from the pre-trained network\n",
        "* train the network to update the weights of the new fully connected layer\n",
        "\n",
        "##### Case 3: Large Data set, Similiar Data\n",
        "\n",
        "* remove the last fully connected layer and replace with a layer matching the number of classes in the new data set\n",
        "* randomly initialize the weights in the new fully connected layer\n",
        "* initialize the rest of the weights using the pre-trained weights\n",
        "* re-train the entire neural network\n",
        "\n",
        "##### Case 4: Large Data set, Different Data\n",
        "\n",
        "* remove the last fully connected layer and replace with a layer matching the number of classes int he new data set\n",
        "* retrain the network from scratch with randomly initialized weights\n",
        "* alternatively, you could use the same strategy as the \"large and similiar\" data case\n"
      ]
    },
    {
      "metadata": {
        "id": "hTt2aDCYypIZ",
        "colab_type": "text"
      },
      "cell_type": "markdown",
      "source": [
        "### Transfer Learning in Keras\n",
        "\n",
        "Using VGG-16 for the dog breeder classification."
      ]
    },
    {
      "metadata": {
        "id": "-zIBWRydThBV",
        "colab_type": "text"
      },
      "cell_type": "markdown",
      "source": [
        "## Lesson 3: CNNs in Tensorflow"
      ]
    },
    {
      "metadata": {
        "id": "b_FK-FIgTlZM",
        "colab_type": "code",
        "colab": {}
      },
      "cell_type": "code",
      "source": [
        "import tensorflow as tf\n",
        "\n",
        "# TensorFlow provices:\n",
        "## tf.nn.conv2d(), tf.nn.bias_add() and tf.nn.relu() to create convolutional layers\n",
        "\n",
        "# output depth\n",
        "k_output = 64\n",
        "\n",
        "# image dimensions\n",
        "image_width = 10\n",
        "image_height = 10\n",
        "color_channels = 3\n",
        "\n",
        "# convolution filter dimensions\n",
        "filter_size_width = 5\n",
        "filter_size_height = 5\n",
        "\n",
        "# input/image\n",
        "input = tf.placeholder(\n",
        "  tf.float32,\n",
        "  shape=[None, image_height, image_width, color_channels])\n",
        "\n",
        "# weight and bias\n",
        "weight = tf.Variable(tf.truncated_normal(\n",
        "  [filter_size_height, filter_size_width, color_channels, k_output]))\n",
        "bias = tf.Variable(tf.zeros(k_output))\n",
        "\n",
        "# apply convolution\n",
        "conv_layer = tf.nn.conv2d(input, weight, strides=[1, 2, 2, 1], padding='SAME')\n",
        "## TensorFlow uses a stride vor each input dimension [batch, input_height, input_width, input_channels]\n",
        "\n",
        "# add bias\n",
        "conv_layer = tf.nn.bias_add(conv_layer, bias)\n",
        "# apply activation function\n",
        "conv_layer = tf.nn.relu(conv_layer)"
      ],
      "execution_count": 0,
      "outputs": []
    },
    {
      "metadata": {
        "id": "VJeOOixBcci6",
        "colab_type": "code",
        "colab": {}
      },
      "cell_type": "code",
      "source": [
        "\"\"\"\n",
        "Setup the strides, padding and filter weight/bias such that\n",
        "the output shape is (1, 2, 2, 3).\n",
        "\"\"\"\n",
        "import tensorflow as tf\n",
        "import numpy as np\n",
        "\n",
        "# `tf.nn.conv2d` requires the input be 4D (batch_size, height, width, depth)\n",
        "# (1, 4, 4, 1)\n",
        "x = np.array([\n",
        "    [0, 1, 0.5, 10],\n",
        "    [2, 2.5, 1, -8],\n",
        "    [4, 0, 5, 6],\n",
        "    [15, 1, 2, 3]], dtype=np.float32).reshape((1, 4, 4, 1))\n",
        "X = tf.constant(x)\n",
        "\n",
        "\n",
        "def conv2d(input):\n",
        "    # Filter (weights and bias)\n",
        "    # The shape of the filter weight is (height, width, input_depth, output_depth)\n",
        "    # The shape of the filter bias is (output_depth,)\n",
        "    # TODO: Define the filter weights `F_W` and filter bias `F_b`.\n",
        "    # NOTE: Remember to wrap them in `tf.Variable`, they are trainable parameters after all.\n",
        "    F_W = tf.Variable(tf.truncated_normal(\n",
        "        [1, 1, 1, 3]))\n",
        "    F_b = tf.Variable(tf.zeros(3))\n",
        "    # TODO: Set the stride for each dimension (batch_size, height, width, depth)\n",
        "    strides = [1, 2, 2, 1]\n",
        "    # TODO: set the padding, either 'VALID' or 'SAME'.\n",
        "    padding = 'SAME'\n",
        "    # https://www.tensorflow.org/versions/r0.11/api_docs/python/nn.html#conv2d\n",
        "    # `tf.nn.conv2d` does not include the bias computation so we have to add it ourselves after.\n",
        "    return tf.nn.conv2d(input, F_W, strides, padding) + F_b\n",
        "\n",
        "out = conv2d(X)"
      ],
      "execution_count": 0,
      "outputs": []
    },
    {
      "metadata": {
        "id": "dkob6_sxfDvf",
        "colab_type": "text"
      },
      "cell_type": "markdown",
      "source": [
        "#### Calculation of new height/width\n",
        "\n",
        "**SAME** Padding, the output height and width are computed as:\n",
        "\n",
        "* out_height = ceil(float(in_height) / float(strides[1]))\n",
        "* out_width = ceil(float(in_width) / float(strides[2]))\n",
        "\n",
        "**VALID** Padding, the output height and width are computed as:\n",
        "\n",
        "* out_height = ceil(float(in_height - filter_height + 1) / float(strides[1]))\n",
        "* out_width = ceil(float(in_width - filter_width + 1) / float(strides[2]))"
      ]
    },
    {
      "metadata": {
        "id": "tg-9Eh49f_xn",
        "colab_type": "text"
      },
      "cell_type": "markdown",
      "source": [
        "#### Max Pooling Layers in TensorFlow"
      ]
    },
    {
      "metadata": {
        "id": "a1AAQkuxgCK9",
        "colab_type": "code",
        "colab": {}
      },
      "cell_type": "code",
      "source": [
        "conv_layer = tf.cnn.conv2d(input, weight, strides=[1,2,2,1], padding='SAME')\n",
        "conv_layer = tf.bias_add(conv_layer, bias)\n",
        "conv_layer = tf.nn.relu(conv_layer)\n",
        "\n",
        "# apply max pooling\n",
        "conv_layer = tf.nn.max_pool(\n",
        "  conv_layer,\n",
        "  ksize=[1,2,2,1],\n",
        "  strides=[1,2,2,1],\n",
        "  padding='SAME')"
      ],
      "execution_count": 0,
      "outputs": []
    },
    {
      "metadata": {
        "id": "ckMbDJ9ghCpc",
        "colab_type": "text"
      },
      "cell_type": "markdown",
      "source": [
        "### CNNs in TensorFlow"
      ]
    },
    {
      "metadata": {
        "id": "zfPhItlEggS4",
        "colab_type": "code",
        "colab": {
          "base_uri": "https://localhost:8080/",
          "height": 541
        },
        "outputId": "e1cb83db-edf5-4b77-f9a5-9baf1996b179"
      },
      "cell_type": "code",
      "source": [
        "from tensorflow.examples.tutorials.mnist import input_data\n",
        "mnist = input_data.read_data_sets(\".\", one_hot=True, reshape=False)\n",
        "\n",
        "import tensorflow as tf\n",
        "\n",
        "# parameters\n",
        "learning_rate = 0.00001\n",
        "epochs = 10\n",
        "batch_size = 10\n",
        "\n",
        "# number of samples to calculate validation and accuracy\n",
        "# Decrease this if you are running out of memory\n",
        "\n",
        "test_valid_size = 256\n",
        "\n",
        "# network paramters\n",
        "n_classes = 10 # MNIST total classes (0-9 digits)\n",
        "dropout = 0.75 # dropout (probability to keep units)\n",
        "\n",
        "weights = {\n",
        "    'wc1': tf.Variable(tf.random_normal([5, 5, 1, 32])),\n",
        "    'wc2': tf.Variable(tf.random_normal([5, 5, 32, 64])),\n",
        "    'wd1': tf.Variable(tf.random_normal([7*7*64, 1024])),\n",
        "    'out': tf.Variable(tf.random_normal([1024, n_classes]))\n",
        "}\n",
        "\n",
        "biases = {\n",
        "    'bc1': tf.Variable(tf.random_normal([32])),\n",
        "    'bc2': tf.Variable(tf.random_normal([64])),\n",
        "    'bd1': tf.Variable(tf.random_normal([1024])),\n",
        "    'out': tf.Variable(tf.random_normal([n_classes]))\n",
        "}\n",
        "\n",
        "def conv2d(x, W, b, strides=1):\n",
        "    x = tf.nn.conv2d(x, W, strides=[1, strides, strides, 1], padding='SAME')\n",
        "    x = tf.nn.bias_add(x, b)\n",
        "    return tf.nn.relu(x)\n",
        "  \n",
        "def maxpool2d(x, k=2):\n",
        "    return tf.nn.max_pool(\n",
        "        x,\n",
        "        ksize=[1, k, k, 1],\n",
        "        strides=[1, k, k, 1],\n",
        "        padding='SAME')\n",
        "  \n",
        "def conv_net(x, weights, biases, dropout):\n",
        "    # Layer 1 - 28*28*1 to 14*14*32\n",
        "    conv1 = conv2d(x, weights['wc1'], biases['bc1'])\n",
        "    conv1 = maxpool2d(conv1, k=2)\n",
        "\n",
        "    # Layer 2 - 14*14*32 to 7*7*64\n",
        "    conv2 = conv2d(conv1, weights['wc2'], biases['bc2'])\n",
        "    conv2 = maxpool2d(conv2, k=2)\n",
        "\n",
        "    # Fully connected layer - 7*7*64 to 1024\n",
        "    fc1 = tf.reshape(conv2, [-1, weights['wd1'].get_shape().as_list()[0]])\n",
        "    fc1 = tf.add(tf.matmul(fc1, weights['wd1']), biases['bd1'])\n",
        "    fc1 = tf.nn.relu(fc1)\n",
        "    fc1 = tf.nn.dropout(fc1, dropout)\n",
        "\n",
        "    # Output Layer - class prediction - 1024 to 10\n",
        "    out = tf.add(tf.matmul(fc1, weights['out']), biases['out'])\n",
        "    return out"
      ],
      "execution_count": 7,
      "outputs": [
        {
          "output_type": "stream",
          "text": [
            "WARNING:tensorflow:From <ipython-input-7-9fc4db133a21>:2: read_data_sets (from tensorflow.contrib.learn.python.learn.datasets.mnist) is deprecated and will be removed in a future version.\n",
            "Instructions for updating:\n",
            "Please use alternatives such as official/mnist/dataset.py from tensorflow/models.\n",
            "WARNING:tensorflow:From /usr/local/lib/python3.6/dist-packages/tensorflow/contrib/learn/python/learn/datasets/mnist.py:260: maybe_download (from tensorflow.contrib.learn.python.learn.datasets.base) is deprecated and will be removed in a future version.\n",
            "Instructions for updating:\n",
            "Please write your own downloading logic.\n",
            "WARNING:tensorflow:From /usr/local/lib/python3.6/dist-packages/tensorflow/contrib/learn/python/learn/datasets/base.py:252: _internal_retry.<locals>.wrap.<locals>.wrapped_fn (from tensorflow.contrib.learn.python.learn.datasets.base) is deprecated and will be removed in a future version.\n",
            "Instructions for updating:\n",
            "Please use urllib or similar directly.\n",
            "Successfully downloaded train-images-idx3-ubyte.gz 9912422 bytes.\n",
            "WARNING:tensorflow:From /usr/local/lib/python3.6/dist-packages/tensorflow/contrib/learn/python/learn/datasets/mnist.py:262: extract_images (from tensorflow.contrib.learn.python.learn.datasets.mnist) is deprecated and will be removed in a future version.\n",
            "Instructions for updating:\n",
            "Please use tf.data to implement this functionality.\n",
            "Extracting ./train-images-idx3-ubyte.gz\n",
            "Successfully downloaded train-labels-idx1-ubyte.gz 28881 bytes.\n",
            "WARNING:tensorflow:From /usr/local/lib/python3.6/dist-packages/tensorflow/contrib/learn/python/learn/datasets/mnist.py:267: extract_labels (from tensorflow.contrib.learn.python.learn.datasets.mnist) is deprecated and will be removed in a future version.\n",
            "Instructions for updating:\n",
            "Please use tf.data to implement this functionality.\n",
            "Extracting ./train-labels-idx1-ubyte.gz\n",
            "WARNING:tensorflow:From /usr/local/lib/python3.6/dist-packages/tensorflow/contrib/learn/python/learn/datasets/mnist.py:110: dense_to_one_hot (from tensorflow.contrib.learn.python.learn.datasets.mnist) is deprecated and will be removed in a future version.\n",
            "Instructions for updating:\n",
            "Please use tf.one_hot on tensors.\n",
            "Successfully downloaded t10k-images-idx3-ubyte.gz 1648877 bytes.\n",
            "Extracting ./t10k-images-idx3-ubyte.gz\n",
            "Successfully downloaded t10k-labels-idx1-ubyte.gz 4542 bytes.\n",
            "Extracting ./t10k-labels-idx1-ubyte.gz\n",
            "WARNING:tensorflow:From /usr/local/lib/python3.6/dist-packages/tensorflow/contrib/learn/python/learn/datasets/mnist.py:290: DataSet.__init__ (from tensorflow.contrib.learn.python.learn.datasets.mnist) is deprecated and will be removed in a future version.\n",
            "Instructions for updating:\n",
            "Please use alternatives such as official/mnist/dataset.py from tensorflow/models.\n"
          ],
          "name": "stdout"
        }
      ]
    },
    {
      "metadata": {
        "id": "IL6il63_iXa4",
        "colab_type": "code",
        "colab": {
          "base_uri": "https://localhost:8080/",
          "height": 1076
        },
        "outputId": "83a2705f-e8a9-4958-ae61-d8120b28e6d1"
      },
      "cell_type": "code",
      "source": [
        "# tf Graph input\n",
        "x = tf.placeholder(tf.float32, [None, 28, 28, 1])\n",
        "y = tf.placeholder(tf.float32, [None, n_classes])\n",
        "keep_prob = tf.placeholder(tf.float32)\n",
        "\n",
        "# Model\n",
        "logits = conv_net(x, weights, biases, keep_prob)\n",
        "\n",
        "# Define loss and optimizer\n",
        "cost = tf.reduce_mean(\\\n",
        "    tf.nn.softmax_cross_entropy_with_logits(logits=logits, labels=y))\n",
        "optimizer = tf.train.GradientDescentOptimizer(learning_rate=learning_rate)\\\n",
        "    .minimize(cost)\n",
        "\n",
        "# Accuracy\n",
        "correct_pred = tf.equal(tf.argmax(logits, 1), tf.argmax(y, 1))\n",
        "accuracy = tf.reduce_mean(tf.cast(correct_pred, tf.float32))\n",
        "\n",
        "# Initializing the variables\n",
        "init = tf. global_variables_initializer()\n",
        "\n",
        "# Launch the graph\n",
        "with tf.Session() as sess:\n",
        "    sess.run(init)\n",
        "\n",
        "    for epoch in range(epochs):\n",
        "        for batch in range(mnist.train.num_examples//batch_size):\n",
        "            batch_x, batch_y = mnist.train.next_batch(batch_size)\n",
        "            sess.run(optimizer, feed_dict={\n",
        "                x: batch_x,\n",
        "                y: batch_y,\n",
        "                keep_prob: dropout})\n",
        "\n",
        "            # Calculate batch loss and accuracy\n",
        "            loss = sess.run(cost, feed_dict={\n",
        "                x: batch_x,\n",
        "                y: batch_y,\n",
        "                keep_prob: 1.})\n",
        "            valid_acc = sess.run(accuracy, feed_dict={\n",
        "                x: mnist.validation.images[:test_valid_size],\n",
        "                y: mnist.validation.labels[:test_valid_size],\n",
        "                keep_prob: 1.})\n",
        "            \n",
        "            if (batch % 1000 == 0):\n",
        "              print('Epoch {:>2}, Batch {:>3} -'\n",
        "                    'Loss: {:>10.4f} Validation Accuracy: {:.6f}'.format(\n",
        "                  epoch + 1,\n",
        "                  batch + 1,\n",
        "                  loss,\n",
        "                  valid_acc))\n",
        "\n",
        "    # Calculate Test Accuracy\n",
        "    test_acc = sess.run(accuracy, feed_dict={\n",
        "        x: mnist.test.images[:test_valid_size],\n",
        "        y: mnist.test.labels[:test_valid_size],\n",
        "        keep_prob: 1.})\n",
        "    print('Testing Accuracy: {}'.format(test_acc))"
      ],
      "execution_count": 11,
      "outputs": [
        {
          "output_type": "stream",
          "text": [
            "Epoch  1, Batch   1 -Loss: 69151.8672 Validation Accuracy: 0.074219\n",
            "Epoch  1, Batch 1001 -Loss:   168.6952 Validation Accuracy: 0.753906\n",
            "Epoch  1, Batch 2001 -Loss:   468.3845 Validation Accuracy: 0.746094\n",
            "Epoch  1, Batch 3001 -Loss:   384.1364 Validation Accuracy: 0.789062\n",
            "Epoch  1, Batch 4001 -Loss:    28.5592 Validation Accuracy: 0.800781\n",
            "Epoch  1, Batch 5001 -Loss:     0.0000 Validation Accuracy: 0.820312\n",
            "Epoch  2, Batch   1 -Loss:     0.0000 Validation Accuracy: 0.820312\n",
            "Epoch  2, Batch 1001 -Loss:    32.6033 Validation Accuracy: 0.808594\n",
            "Epoch  2, Batch 2001 -Loss:     4.8289 Validation Accuracy: 0.812500\n",
            "Epoch  2, Batch 3001 -Loss:     0.0000 Validation Accuracy: 0.808594\n",
            "Epoch  2, Batch 4001 -Loss:   236.8294 Validation Accuracy: 0.824219\n",
            "Epoch  2, Batch 5001 -Loss:     0.0000 Validation Accuracy: 0.859375\n",
            "Epoch  3, Batch   1 -Loss:   122.0333 Validation Accuracy: 0.820312\n",
            "Epoch  3, Batch 1001 -Loss:     1.7448 Validation Accuracy: 0.824219\n",
            "Epoch  3, Batch 2001 -Loss:   208.0293 Validation Accuracy: 0.843750\n",
            "Epoch  3, Batch 3001 -Loss:    83.8877 Validation Accuracy: 0.843750\n",
            "Epoch  3, Batch 4001 -Loss:     2.5674 Validation Accuracy: 0.804688\n",
            "Epoch  3, Batch 5001 -Loss:    57.9413 Validation Accuracy: 0.832031\n",
            "Epoch  4, Batch   1 -Loss:    37.1266 Validation Accuracy: 0.847656\n",
            "Epoch  4, Batch 1001 -Loss:    14.1432 Validation Accuracy: 0.816406\n",
            "Epoch  4, Batch 2001 -Loss:    20.3813 Validation Accuracy: 0.789062\n",
            "Epoch  4, Batch 3001 -Loss:    19.0089 Validation Accuracy: 0.824219\n",
            "Epoch  4, Batch 4001 -Loss:     0.0000 Validation Accuracy: 0.820312\n",
            "Epoch  4, Batch 5001 -Loss:    23.3867 Validation Accuracy: 0.859375\n",
            "Epoch  5, Batch   1 -Loss:     1.6256 Validation Accuracy: 0.816406\n",
            "Epoch  5, Batch 1001 -Loss:     4.6709 Validation Accuracy: 0.824219\n",
            "Epoch  5, Batch 2001 -Loss:    27.0151 Validation Accuracy: 0.839844\n",
            "Epoch  5, Batch 3001 -Loss:    89.0259 Validation Accuracy: 0.835938\n",
            "Epoch  5, Batch 4001 -Loss:     9.0168 Validation Accuracy: 0.871094\n",
            "Epoch  5, Batch 5001 -Loss:     0.0000 Validation Accuracy: 0.851562\n",
            "Epoch  6, Batch   1 -Loss:    31.2648 Validation Accuracy: 0.847656\n",
            "Epoch  6, Batch 1001 -Loss:     5.1475 Validation Accuracy: 0.851562\n",
            "Epoch  6, Batch 2001 -Loss:    24.7841 Validation Accuracy: 0.855469\n",
            "Epoch  6, Batch 3001 -Loss:    29.9956 Validation Accuracy: 0.851562\n",
            "Epoch  6, Batch 4001 -Loss:    12.1864 Validation Accuracy: 0.835938\n",
            "Epoch  6, Batch 5001 -Loss:    13.3722 Validation Accuracy: 0.777344\n",
            "Epoch  7, Batch   1 -Loss:    10.0609 Validation Accuracy: 0.804688\n",
            "Epoch  7, Batch 1001 -Loss:    33.1072 Validation Accuracy: 0.843750\n",
            "Epoch  7, Batch 2001 -Loss:    18.1375 Validation Accuracy: 0.828125\n",
            "Epoch  7, Batch 3001 -Loss:    53.0244 Validation Accuracy: 0.792969\n",
            "Epoch  7, Batch 4001 -Loss:     6.4880 Validation Accuracy: 0.820312\n",
            "Epoch  7, Batch 5001 -Loss:    30.2499 Validation Accuracy: 0.812500\n",
            "Epoch  8, Batch   1 -Loss:    31.0123 Validation Accuracy: 0.757812\n",
            "Epoch  8, Batch 1001 -Loss:     0.0000 Validation Accuracy: 0.843750\n",
            "Epoch  8, Batch 2001 -Loss:    18.4031 Validation Accuracy: 0.843750\n",
            "Epoch  8, Batch 3001 -Loss:     1.1463 Validation Accuracy: 0.824219\n",
            "Epoch  8, Batch 4001 -Loss:    33.5510 Validation Accuracy: 0.843750\n",
            "Epoch  8, Batch 5001 -Loss:     5.4849 Validation Accuracy: 0.789062\n",
            "Epoch  9, Batch   1 -Loss:    13.6477 Validation Accuracy: 0.843750\n",
            "Epoch  9, Batch 1001 -Loss:     0.0000 Validation Accuracy: 0.816406\n",
            "Epoch  9, Batch 2001 -Loss:     8.3855 Validation Accuracy: 0.839844\n",
            "Epoch  9, Batch 3001 -Loss:    56.7136 Validation Accuracy: 0.812500\n",
            "Epoch  9, Batch 4001 -Loss:     0.0000 Validation Accuracy: 0.816406\n"
          ],
          "name": "stdout"
        },
        {
          "output_type": "stream",
          "text": [
            "Epoch  9, Batch 5001 -Loss:    37.2516 Validation Accuracy: 0.726562\n",
            "Epoch 10, Batch   1 -Loss:     5.4371 Validation Accuracy: 0.843750\n",
            "Epoch 10, Batch 1001 -Loss:     5.1812 Validation Accuracy: 0.820312\n",
            "Epoch 10, Batch 2001 -Loss:     6.4370 Validation Accuracy: 0.804688\n",
            "Epoch 10, Batch 3001 -Loss:     0.0000 Validation Accuracy: 0.820312\n",
            "Epoch 10, Batch 4001 -Loss:     0.0000 Validation Accuracy: 0.847656\n",
            "Epoch 10, Batch 5001 -Loss:    25.9393 Validation Accuracy: 0.832031\n",
            "Testing Accuracy: 0.75\n"
          ],
          "name": "stdout"
        }
      ]
    },
    {
      "metadata": {
        "id": "X9W7Z71HjbD9",
        "colab_type": "text"
      },
      "cell_type": "markdown",
      "source": [
        "## Lesson 4: Weight Initialization\n",
        "\n"
      ]
    },
    {
      "metadata": {
        "id": "iC4NmbAbm9ib",
        "colab_type": "text"
      },
      "cell_type": "markdown",
      "source": [
        "### Uniform Distribution\n",
        "\n",
        "Equal probability of picking any number from a set of numbers. We'll be picking from a continous distribution, so the chance of picking the same number is low. We'll use TensorFlow's tf.random_uniform function to pick random numbers from a uniform distribution.\n",
        "\n",
        "> **tf.random_uniform**(shape, minival=0, maxval=None, dtype=tf.float32, seed=None, name=None)\n",
        "\n",
        "**General Rule for weight setting**:\n",
        "\n",
        "> The general rule for setting the weights in a neural network is to be close to zero without being too small. A good pracitce is to start your weights in the range of $[-y, y]$ where\n",
        "$y=1/\\sqrt{n}$ ($n$ is the number of inputs to a given neuron)."
      ]
    },
    {
      "metadata": {
        "id": "_cAkyxyHpgn3",
        "colab_type": "text"
      },
      "cell_type": "markdown",
      "source": [
        "### Normal Distribution\n",
        "\n",
        "Unlike the uniform distribution, the [normal distribution](https://en.wikipedia.org/wiki/Normal_distribution) has a higher likelihood of picking number close to it's mean. To visualize it, let's plot values from TensorFlow's `tf.random_normal` function to a histogram.\n",
        "\n",
        "> >[tf.random_normal(shape, mean=0.0, stddev=1.0, dtype=tf.float32, seed=None, name=None)](https://www.tensorflow.org/api_docs/python/tf/random_normal)"
      ]
    },
    {
      "metadata": {
        "id": "SuBw-0irp4_1",
        "colab_type": "text"
      },
      "cell_type": "markdown",
      "source": [
        "### Truncated Normal Distribution\n",
        "\n",
        "The normal distribution gave a slight increasse in accuracy and loss.  Let's move closer to 0 and drop picked numbers that are `x` number of standard deviations away.  This distribution is called [Truncated Normal Distribution](https://en.wikipedia.org/wiki/Truncated_normal_distribution%29).\n",
        "\n",
        ">[tf.truncated_normal(shape, mean=0.0, stddev=1.0, dtype=tf.float32, seed=None, name=None)](https://www.tensorflow.org/api_docs/python/tf/truncated_normal)"
      ]
    },
    {
      "metadata": {
        "id": "ZxESwkbtq8bo",
        "colab_type": "text"
      },
      "cell_type": "markdown",
      "source": [
        "## Lesson 5: Autoencoders\n",
        "\n",
        "Autoencoders are used to compress data, as well as image denoising.\n",
        "\n",
        "Autoencoders are bad at compressing data or generalizing to other datasets.\n",
        "But, they are good at image denoising and dimensionality reduction."
      ]
    },
    {
      "metadata": {
        "id": "IJ5L0ZVwJBGt",
        "colab_type": "code",
        "colab": {
          "base_uri": "https://localhost:8080/",
          "height": 156
        },
        "outputId": "9a0d4668-cca0-4eea-8049-d1fcebdda9f5"
      },
      "cell_type": "code",
      "source": [
        "%matplotlib inline\n",
        "\n",
        "import numpy as np\n",
        "import tensorflow as tf\n",
        "import matplotlib.pyplot as plt\n",
        "\n",
        "from tensorflow.examples.tutorials.mnist import input_data\n",
        "mnist = input_data.read_data_sets('MNIST_data', validation_size=0)"
      ],
      "execution_count": 13,
      "outputs": [
        {
          "output_type": "stream",
          "text": [
            "Successfully downloaded train-images-idx3-ubyte.gz 9912422 bytes.\n",
            "Extracting MNIST_data/train-images-idx3-ubyte.gz\n",
            "Successfully downloaded train-labels-idx1-ubyte.gz 28881 bytes.\n",
            "Extracting MNIST_data/train-labels-idx1-ubyte.gz\n",
            "Successfully downloaded t10k-images-idx3-ubyte.gz 1648877 bytes.\n",
            "Extracting MNIST_data/t10k-images-idx3-ubyte.gz\n",
            "Successfully downloaded t10k-labels-idx1-ubyte.gz 4542 bytes.\n",
            "Extracting MNIST_data/t10k-labels-idx1-ubyte.gz\n"
          ],
          "name": "stdout"
        }
      ]
    },
    {
      "metadata": {
        "id": "g8wdNnIAKVJI",
        "colab_type": "text"
      },
      "cell_type": "markdown",
      "source": [
        "We'll train an autoencoder with these images by flattening them into 784 length vectors. The images from this dataset are already normalized such that the values are between 0 and 1. Let's start by building basically the simplest autoencoder with a **single ReLU hidden layer**. This layer will be used as the compressed representation. Then, the encoder is the input layer and the hidden layer. The decoder is the hidden layer and the output layer. Since the images are normalized between 0 and 1, we need to use a **sigmoid activation on the output layer** to get values matching the input.\n",
        "\n",
        "> **Exercise:** Build the graph for the autoencoder in the cell below. The input images will be flattened into 784 length vectors. The targets are the same as the inputs. And there should be one hidden layer with a ReLU activation and an output layer with a sigmoid activation. Feel free to use TensorFlow's higher level API, `tf.layers`. For instance, you would use [`tf.layers.dense(inputs, units, activation=tf.nn.relu)`](https://www.tensorflow.org/api_docs/python/tf/layers/dense) to create a fully connected layer with a ReLU activation. The loss should be calculated with the cross-entropy loss, there is a convenient TensorFlow function for this `tf.nn.sigmoid_cross_entropy_with_logits` ([documentation](https://www.tensorflow.org/api_docs/python/tf/nn/sigmoid_cross_entropy_with_logits)). You should note that `tf.nn.sigmoid_cross_entropy_with_logits` takes the logits, but to get the reconstructed images you'll need to pass the logits through the sigmoid function."
      ]
    },
    {
      "metadata": {
        "id": "UcO1Hj9aYo81",
        "colab_type": "code",
        "colab": {
          "base_uri": "https://localhost:8080/",
          "height": 34
        },
        "outputId": "1b0ac175-fec4-48ca-8197-cca7f514c9bb"
      },
      "cell_type": "code",
      "source": [
        "print(mnist.train.images.shape)"
      ],
      "execution_count": 14,
      "outputs": [
        {
          "output_type": "stream",
          "text": [
            "(60000, 784)\n"
          ],
          "name": "stdout"
        }
      ]
    },
    {
      "metadata": {
        "id": "OWoXkRc9JEeO",
        "colab_type": "code",
        "colab": {}
      },
      "cell_type": "code",
      "source": [
        "# Size of the encoding layer (the hidden layer)\n",
        "encoding_dim = 32 # feel free to change this value\n",
        "\n",
        "image_size = mnist.train.images.shape[1]\n",
        "\n",
        "# Input and target placeholders\n",
        "inputs_ = tf.placeholder(tf.float32, [None, image_size])\n",
        "targets_ = tf.placeholder(tf.float32, [None, image_size])\n",
        "\n",
        "# Output of hidden layer, single fully connected layer here with ReLU activation\n",
        "encoded = tf.layers.dense(inputs_, encoding_dim, activation=tf.nn.relu)\n",
        "\n",
        "# Output layer logits, fully connected layer with no activation\n",
        "logits = tf.layers.dense(encoded, image_size, activation=None)\n",
        "# Sigmoid output from logits\n",
        "decoded = tf.sigmoid(logits) \n",
        "\n",
        "# Sigmoid cross-entropy loss\n",
        "loss = tf.nn.sigmoid_cross_entropy_with_logits(labels=targets_, logits=logits)\n",
        "# Mean of the loss\n",
        "cost = tf.reduce_mean(loss)\n",
        "\n",
        "# Adam optimizer\n",
        "opt = tf.train.AdamOptimizer(learning_rate=0.001).minimize(cost)"
      ],
      "execution_count": 0,
      "outputs": []
    },
    {
      "metadata": {
        "id": "tM0xDcD5RhkU",
        "colab_type": "code",
        "colab": {}
      },
      "cell_type": "code",
      "source": [
        "# Create the session\n",
        "sess = tf.Session()"
      ],
      "execution_count": 0,
      "outputs": []
    },
    {
      "metadata": {
        "id": "Kx-WrtwzRkID",
        "colab_type": "code",
        "colab": {
          "base_uri": "https://localhost:8080/",
          "height": 712
        },
        "outputId": "19746f5a-6dc0-4103-a38a-5edb713e097b"
      },
      "cell_type": "code",
      "source": [
        "epochs = 20\n",
        "batch_size = 200\n",
        "sess.run(tf.global_variables_initializer())\n",
        "for e in range(epochs):\n",
        "    for ii in range(mnist.train.num_examples//batch_size):\n",
        "        batch = mnist.train.next_batch(batch_size)\n",
        "        feed = {inputs_: batch[0], targets_: batch[0]}\n",
        "        batch_cost, _ = sess.run([cost, opt], feed_dict=feed)\n",
        "        \n",
        "        if(ii %200 == 0):\n",
        "            print(\"Epoch: {}/{}...\".format(e+1, epochs),\n",
        "                  \"Training loss: {:.4f}\".format(batch_cost))"
      ],
      "execution_count": 14,
      "outputs": [
        {
          "output_type": "stream",
          "text": [
            "Epoch: 1/20... Training loss: 0.6961\n",
            "Epoch: 1/20... Training loss: 0.2015\n",
            "Epoch: 2/20... Training loss: 0.1777\n",
            "Epoch: 2/20... Training loss: 0.1471\n",
            "Epoch: 3/20... Training loss: 0.1419\n",
            "Epoch: 3/20... Training loss: 0.1307\n",
            "Epoch: 4/20... Training loss: 0.1291\n",
            "Epoch: 4/20... Training loss: 0.1172\n",
            "Epoch: 5/20... Training loss: 0.1151\n",
            "Epoch: 5/20... Training loss: 0.1097\n",
            "Epoch: 6/20... Training loss: 0.1076\n",
            "Epoch: 6/20... Training loss: 0.1039\n",
            "Epoch: 7/20... Training loss: 0.1005\n",
            "Epoch: 7/20... Training loss: 0.0993\n",
            "Epoch: 8/20... Training loss: 0.0994\n",
            "Epoch: 8/20... Training loss: 0.1008\n",
            "Epoch: 9/20... Training loss: 0.0980\n",
            "Epoch: 9/20... Training loss: 0.0987\n",
            "Epoch: 10/20... Training loss: 0.0994\n",
            "Epoch: 10/20... Training loss: 0.0932\n",
            "Epoch: 11/20... Training loss: 0.0988\n",
            "Epoch: 11/20... Training loss: 0.0967\n",
            "Epoch: 12/20... Training loss: 0.0952\n",
            "Epoch: 12/20... Training loss: 0.0945\n",
            "Epoch: 13/20... Training loss: 0.0985\n",
            "Epoch: 13/20... Training loss: 0.0922\n",
            "Epoch: 14/20... Training loss: 0.0971\n",
            "Epoch: 14/20... Training loss: 0.0917\n",
            "Epoch: 15/20... Training loss: 0.0915\n",
            "Epoch: 15/20... Training loss: 0.0940\n",
            "Epoch: 16/20... Training loss: 0.0952\n",
            "Epoch: 16/20... Training loss: 0.0911\n",
            "Epoch: 17/20... Training loss: 0.0945\n",
            "Epoch: 17/20... Training loss: 0.0945\n",
            "Epoch: 18/20... Training loss: 0.0936\n",
            "Epoch: 18/20... Training loss: 0.0955\n",
            "Epoch: 19/20... Training loss: 0.0932\n",
            "Epoch: 19/20... Training loss: 0.0954\n",
            "Epoch: 20/20... Training loss: 0.0928\n",
            "Epoch: 20/20... Training loss: 0.0929\n"
          ],
          "name": "stdout"
        }
      ]
    },
    {
      "metadata": {
        "id": "Jr4WnL_IRmdY",
        "colab_type": "code",
        "colab": {
          "base_uri": "https://localhost:8080/",
          "height": 337
        },
        "outputId": "6a319b11-4b23-4a1d-cfe2-ad933c01e1d7"
      },
      "cell_type": "code",
      "source": [
        "fig, axes = plt.subplots(nrows=2, ncols=10, sharex=True, sharey=True, figsize=(20,4))\n",
        "in_imgs = mnist.test.images[:10]\n",
        "reconstructed, compressed = sess.run([decoded, encoded], feed_dict={inputs_: in_imgs})\n",
        "\n",
        "for images, row in zip([in_imgs, reconstructed], axes):\n",
        "    for img, ax in zip(images, row):\n",
        "        ax.imshow(img.reshape((28, 28)), cmap='Greys_r')\n",
        "        ax.get_xaxis().set_visible(False)\n",
        "        ax.get_yaxis().set_visible(False)\n",
        "\n",
        "fig.tight_layout(pad=0.1)"
      ],
      "execution_count": 15,
      "outputs": [
        {
          "output_type": "display_data",
          "data": {
            "image/png": "[encoded data removed]",
            "text/plain": [
              "<matplotlib.figure.Figure at 0x7f851df97908>"
            ]
          },
          "metadata": {
            "tags": []
          }
        }
      ]
    },
    {
      "metadata": {
        "id": "SFDEqfkiRpXp",
        "colab_type": "code",
        "colab": {}
      },
      "cell_type": "code",
      "source": [
        "sess.close()"
      ],
      "execution_count": 0,
      "outputs": []
    },
    {
      "metadata": {
        "id": "sCjNdfgjR-rf",
        "colab_type": "text"
      },
      "cell_type": "markdown",
      "source": [
        "### Convolutional Autoencoders\n",
        "\n",
        "With De-Nosing of images\n",
        "\n",
        "> tf.image.resize_nearest_neighbor() [see Paper](https://distill.pub/2016/deconv-checkerboard/)"
      ]
    },
    {
      "metadata": {
        "id": "wYA7p3epRrMm",
        "colab_type": "code",
        "colab": {}
      },
      "cell_type": "code",
      "source": [
        "learning_rate = 0.001\n",
        "inputs_ = tf.placeholder(tf.float32, (None, 28, 28, 1), name='inputs')\n",
        "targets_ = tf.placeholder(tf.float32, (None, 28, 28, 1), name='targets')\n",
        "\n",
        "### Encoder\n",
        "conv1 = tf.layers.conv2d(inputs_, 32, (3,3), padding='same', activation=tf.nn.relu)\n",
        "# Now 28x28x32\n",
        "maxpool1 = tf.layers.max_pooling2d(conv1, (2,2), (2,2), padding='same')\n",
        "# Now 14x14x32\n",
        "conv2 = tf.layers.conv2d(maxpool1, 32, (3,3), padding='same', activation=tf.nn.relu)\n",
        "# Now 14x14x32\n",
        "maxpool2 = tf.layers.max_pooling2d(conv2, (2,2), (2,2), padding='same')\n",
        "# Now 7x7x32\n",
        "conv3 = tf.layers.conv2d(maxpool2, 16, (3,3), padding='same', activation=tf.nn.relu)\n",
        "# Now 7x7x16\n",
        "encoded = tf.layers.max_pooling2d(conv3, (2,2), (2,2), padding='same')\n",
        "# Now 4x4x16\n",
        "\n",
        "### Decoder\n",
        "upsample1 = tf.image.resize_nearest_neighbor(encoded, (7,7))\n",
        "# Now 7x7x16\n",
        "conv4 = tf.layers.conv2d(upsample1, 16, (3,3), padding='same', activation=tf.nn.relu)\n",
        "# Now 7x7x16\n",
        "upsample2 = tf.image.resize_nearest_neighbor(conv4, (14,14))\n",
        "# Now 14x14x16\n",
        "conv5 = tf.layers.conv2d(upsample2, 32, (3,3), padding='same', activation=tf.nn.relu)\n",
        "# Now 14x14x32\n",
        "upsample3 = tf.image.resize_nearest_neighbor(conv5, (28,28))\n",
        "# Now 28x28x32\n",
        "conv6 = tf.layers.conv2d(upsample3, 32, (3,3), padding='same', activation=tf.nn.relu)\n",
        "# Now 28x28x32\n",
        "\n",
        "logits = tf.layers.conv2d(conv6, 1, (3,3), padding='same', activation=None)\n",
        "#Now 28x28x1\n",
        "\n",
        "# Pass logits through sigmoid to get reconstructed image\n",
        "decoded = tf.nn.sigmoid(logits, name='decoded')\n",
        "\n",
        "# Pass logits through sigmoid and calculate the cross-entropy loss\n",
        "loss = tf.nn.sigmoid_cross_entropy_with_logits(labels=targets_, logits=logits)\n",
        "\n",
        "# Get cost and define the optimizer\n",
        "cost = tf.reduce_mean(loss)\n",
        "opt = tf.train.AdamOptimizer(learning_rate).minimize(cost)"
      ],
      "execution_count": 0,
      "outputs": []
    },
    {
      "metadata": {
        "id": "70rnSTa_yvkw",
        "colab_type": "code",
        "colab": {}
      },
      "cell_type": "code",
      "source": [
        "sess = tf.Session()"
      ],
      "execution_count": 0,
      "outputs": []
    },
    {
      "metadata": {
        "id": "RIJPN6qzy60a",
        "colab_type": "code",
        "colab": {
          "base_uri": "https://localhost:8080/",
          "height": 3490
        },
        "outputId": "f2cb8e7c-7bb2-4eae-aa7a-b160ddeea02a"
      },
      "cell_type": "code",
      "source": [
        "epochs = 100\n",
        "batch_size = 200\n",
        "# Set's how much noise we're adding to the MNIST images\n",
        "noise_factor = 0.5\n",
        "sess.run(tf.global_variables_initializer())\n",
        "for e in range(epochs):\n",
        "    for ii in range(mnist.train.num_examples//batch_size):\n",
        "        batch = mnist.train.next_batch(batch_size)\n",
        "        # Get images from the batch\n",
        "        imgs = batch[0].reshape((-1, 28, 28, 1))\n",
        "        \n",
        "        # Add random noise to the input images\n",
        "        noisy_imgs = imgs + noise_factor * np.random.randn(*imgs.shape)\n",
        "        # Clip the images to be between 0 and 1\n",
        "        noisy_imgs = np.clip(noisy_imgs, 0., 1.)\n",
        "        \n",
        "        # Noisy images as inputs, original images as targets\n",
        "        batch_cost, _ = sess.run([cost, opt], feed_dict={inputs_: noisy_imgs,\n",
        "                                                         targets_: imgs})\n",
        "        if(ii % 200 == 0):\n",
        "            print(\"Epoch: {}/{}...\".format(e+1, epochs),\n",
        "                  \"Training loss: {:.4f}\".format(batch_cost))"
      ],
      "execution_count": 17,
      "outputs": [
        {
          "output_type": "stream",
          "text": [
            "Epoch: 1/100... Training loss: 0.6954\n",
            "Epoch: 1/100... Training loss: 0.1958\n",
            "Epoch: 2/100... Training loss: 0.1753\n",
            "Epoch: 2/100... Training loss: 0.1542\n",
            "Epoch: 3/100... Training loss: 0.1443\n",
            "Epoch: 3/100... Training loss: 0.1428\n",
            "Epoch: 4/100... Training loss: 0.1389\n",
            "Epoch: 4/100... Training loss: 0.1248\n",
            "Epoch: 5/100... Training loss: 0.1282\n",
            "Epoch: 5/100... Training loss: 0.1266\n",
            "Epoch: 6/100... Training loss: 0.1211\n",
            "Epoch: 6/100... Training loss: 0.1266\n",
            "Epoch: 7/100... Training loss: 0.1198\n",
            "Epoch: 7/100... Training loss: 0.1195\n",
            "Epoch: 8/100... Training loss: 0.1154\n",
            "Epoch: 8/100... Training loss: 0.1179\n",
            "Epoch: 9/100... Training loss: 0.1194\n",
            "Epoch: 9/100... Training loss: 0.1176\n",
            "Epoch: 10/100... Training loss: 0.1129\n",
            "Epoch: 10/100... Training loss: 0.1144\n",
            "Epoch: 11/100... Training loss: 0.1120\n",
            "Epoch: 11/100... Training loss: 0.1072\n",
            "Epoch: 12/100... Training loss: 0.1172\n",
            "Epoch: 12/100... Training loss: 0.1115\n",
            "Epoch: 13/100... Training loss: 0.1129\n",
            "Epoch: 13/100... Training loss: 0.1085\n",
            "Epoch: 14/100... Training loss: 0.1091\n",
            "Epoch: 14/100... Training loss: 0.1085\n",
            "Epoch: 15/100... Training loss: 0.1111\n",
            "Epoch: 15/100... Training loss: 0.1139\n",
            "Epoch: 16/100... Training loss: 0.1088\n",
            "Epoch: 16/100... Training loss: 0.1072\n",
            "Epoch: 17/100... Training loss: 0.1071\n",
            "Epoch: 17/100... Training loss: 0.1120\n",
            "Epoch: 18/100... Training loss: 0.1071\n",
            "Epoch: 18/100... Training loss: 0.1078\n",
            "Epoch: 19/100... Training loss: 0.1052\n",
            "Epoch: 19/100... Training loss: 0.1065\n",
            "Epoch: 20/100... Training loss: 0.1085\n",
            "Epoch: 20/100... Training loss: 0.1094\n",
            "Epoch: 21/100... Training loss: 0.1064\n",
            "Epoch: 21/100... Training loss: 0.1060\n",
            "Epoch: 22/100... Training loss: 0.1039\n",
            "Epoch: 22/100... Training loss: 0.1082\n",
            "Epoch: 23/100... Training loss: 0.1029\n",
            "Epoch: 23/100... Training loss: 0.1079\n",
            "Epoch: 24/100... Training loss: 0.1075\n",
            "Epoch: 24/100... Training loss: 0.1047\n",
            "Epoch: 25/100... Training loss: 0.1063\n",
            "Epoch: 25/100... Training loss: 0.1049\n",
            "Epoch: 26/100... Training loss: 0.1062\n",
            "Epoch: 26/100... Training loss: 0.1039\n",
            "Epoch: 27/100... Training loss: 0.1038\n",
            "Epoch: 27/100... Training loss: 0.1049\n",
            "Epoch: 28/100... Training loss: 0.1050\n",
            "Epoch: 28/100... Training loss: 0.1021\n",
            "Epoch: 29/100... Training loss: 0.1015\n",
            "Epoch: 29/100... Training loss: 0.1049\n",
            "Epoch: 30/100... Training loss: 0.1007\n",
            "Epoch: 30/100... Training loss: 0.1041\n",
            "Epoch: 31/100... Training loss: 0.1039\n",
            "Epoch: 31/100... Training loss: 0.1036\n",
            "Epoch: 32/100... Training loss: 0.1058\n",
            "Epoch: 32/100... Training loss: 0.1010\n",
            "Epoch: 33/100... Training loss: 0.1029\n",
            "Epoch: 33/100... Training loss: 0.1033\n",
            "Epoch: 34/100... Training loss: 0.1042\n",
            "Epoch: 34/100... Training loss: 0.1062\n",
            "Epoch: 35/100... Training loss: 0.1040\n",
            "Epoch: 35/100... Training loss: 0.1005\n",
            "Epoch: 36/100... Training loss: 0.1069\n"
          ],
          "name": "stdout"
        },
        {
          "output_type": "stream",
          "text": [
            "Epoch: 36/100... Training loss: 0.1016\n",
            "Epoch: 37/100... Training loss: 0.1056\n",
            "Epoch: 37/100... Training loss: 0.1031\n",
            "Epoch: 38/100... Training loss: 0.1021\n",
            "Epoch: 38/100... Training loss: 0.1013\n",
            "Epoch: 39/100... Training loss: 0.0986\n",
            "Epoch: 39/100... Training loss: 0.1006\n",
            "Epoch: 40/100... Training loss: 0.1031\n",
            "Epoch: 40/100... Training loss: 0.1039\n",
            "Epoch: 41/100... Training loss: 0.1032\n",
            "Epoch: 41/100... Training loss: 0.1018\n",
            "Epoch: 42/100... Training loss: 0.1016\n",
            "Epoch: 42/100... Training loss: 0.0994\n",
            "Epoch: 43/100... Training loss: 0.1061\n",
            "Epoch: 43/100... Training loss: 0.1036\n",
            "Epoch: 44/100... Training loss: 0.1033\n",
            "Epoch: 44/100... Training loss: 0.1017\n",
            "Epoch: 45/100... Training loss: 0.1013\n",
            "Epoch: 45/100... Training loss: 0.1050\n",
            "Epoch: 46/100... Training loss: 0.0966\n",
            "Epoch: 46/100... Training loss: 0.1038\n",
            "Epoch: 47/100... Training loss: 0.1014\n",
            "Epoch: 47/100... Training loss: 0.1011\n",
            "Epoch: 48/100... Training loss: 0.1016\n",
            "Epoch: 48/100... Training loss: 0.1051\n",
            "Epoch: 49/100... Training loss: 0.1034\n",
            "Epoch: 49/100... Training loss: 0.1018\n",
            "Epoch: 50/100... Training loss: 0.1037\n",
            "Epoch: 50/100... Training loss: 0.0985\n",
            "Epoch: 51/100... Training loss: 0.1018\n",
            "Epoch: 51/100... Training loss: 0.1025\n",
            "Epoch: 52/100... Training loss: 0.1032\n",
            "Epoch: 52/100... Training loss: 0.0993\n",
            "Epoch: 53/100... Training loss: 0.1045\n",
            "Epoch: 53/100... Training loss: 0.1005\n",
            "Epoch: 54/100... Training loss: 0.0980\n",
            "Epoch: 54/100... Training loss: 0.1012\n",
            "Epoch: 55/100... Training loss: 0.0975\n",
            "Epoch: 55/100... Training loss: 0.1010\n",
            "Epoch: 56/100... Training loss: 0.1021\n",
            "Epoch: 56/100... Training loss: 0.0986\n",
            "Epoch: 57/100... Training loss: 0.0995\n",
            "Epoch: 57/100... Training loss: 0.1026\n",
            "Epoch: 58/100... Training loss: 0.1033\n",
            "Epoch: 58/100... Training loss: 0.0988\n",
            "Epoch: 59/100... Training loss: 0.1015\n",
            "Epoch: 59/100... Training loss: 0.0983\n",
            "Epoch: 60/100... Training loss: 0.0980\n",
            "Epoch: 60/100... Training loss: 0.0992\n",
            "Epoch: 61/100... Training loss: 0.1021\n",
            "Epoch: 61/100... Training loss: 0.1025\n",
            "Epoch: 62/100... Training loss: 0.0983\n",
            "Epoch: 62/100... Training loss: 0.1009\n",
            "Epoch: 63/100... Training loss: 0.1021\n",
            "Epoch: 63/100... Training loss: 0.0972\n",
            "Epoch: 64/100... Training loss: 0.0981\n",
            "Epoch: 64/100... Training loss: 0.0988\n",
            "Epoch: 65/100... Training loss: 0.1010\n",
            "Epoch: 65/100... Training loss: 0.0977\n",
            "Epoch: 66/100... Training loss: 0.0968\n",
            "Epoch: 66/100... Training loss: 0.1011\n",
            "Epoch: 67/100... Training loss: 0.1008\n",
            "Epoch: 67/100... Training loss: 0.0990\n",
            "Epoch: 68/100... Training loss: 0.1004\n",
            "Epoch: 68/100... Training loss: 0.1007\n",
            "Epoch: 69/100... Training loss: 0.1010\n",
            "Epoch: 69/100... Training loss: 0.0947\n",
            "Epoch: 70/100... Training loss: 0.1011\n",
            "Epoch: 70/100... Training loss: 0.0997\n",
            "Epoch: 71/100... Training loss: 0.1040\n",
            "Epoch: 71/100... Training loss: 0.0990\n"
          ],
          "name": "stdout"
        },
        {
          "output_type": "stream",
          "text": [
            "Epoch: 72/100... Training loss: 0.0997\n",
            "Epoch: 72/100... Training loss: 0.0976\n",
            "Epoch: 73/100... Training loss: 0.0979\n",
            "Epoch: 73/100... Training loss: 0.0963\n",
            "Epoch: 74/100... Training loss: 0.0981\n",
            "Epoch: 74/100... Training loss: 0.0963\n",
            "Epoch: 75/100... Training loss: 0.0990\n",
            "Epoch: 75/100... Training loss: 0.1008\n",
            "Epoch: 76/100... Training loss: 0.1017\n",
            "Epoch: 76/100... Training loss: 0.0972\n",
            "Epoch: 77/100... Training loss: 0.0998\n",
            "Epoch: 77/100... Training loss: 0.1031\n",
            "Epoch: 78/100... Training loss: 0.0989\n",
            "Epoch: 78/100... Training loss: 0.0963\n",
            "Epoch: 79/100... Training loss: 0.1006\n",
            "Epoch: 79/100... Training loss: 0.0951\n",
            "Epoch: 80/100... Training loss: 0.0974\n",
            "Epoch: 80/100... Training loss: 0.0984\n",
            "Epoch: 81/100... Training loss: 0.0969\n",
            "Epoch: 81/100... Training loss: 0.0957\n",
            "Epoch: 82/100... Training loss: 0.0990\n",
            "Epoch: 82/100... Training loss: 0.0971\n",
            "Epoch: 83/100... Training loss: 0.1001\n",
            "Epoch: 83/100... Training loss: 0.0993\n",
            "Epoch: 84/100... Training loss: 0.1012\n",
            "Epoch: 84/100... Training loss: 0.1003\n",
            "Epoch: 85/100... Training loss: 0.1009\n",
            "Epoch: 85/100... Training loss: 0.0997\n",
            "Epoch: 86/100... Training loss: 0.1024\n",
            "Epoch: 86/100... Training loss: 0.0990\n",
            "Epoch: 87/100... Training loss: 0.0944\n",
            "Epoch: 87/100... Training loss: 0.1011\n",
            "Epoch: 88/100... Training loss: 0.0976\n",
            "Epoch: 88/100... Training loss: 0.0974\n",
            "Epoch: 89/100... Training loss: 0.0989\n",
            "Epoch: 89/100... Training loss: 0.0980\n",
            "Epoch: 90/100... Training loss: 0.1000\n",
            "Epoch: 90/100... Training loss: 0.0960\n",
            "Epoch: 91/100... Training loss: 0.0997\n",
            "Epoch: 91/100... Training loss: 0.1015\n",
            "Epoch: 92/100... Training loss: 0.0978\n",
            "Epoch: 92/100... Training loss: 0.0993\n",
            "Epoch: 93/100... Training loss: 0.0964\n",
            "Epoch: 93/100... Training loss: 0.0996\n",
            "Epoch: 94/100... Training loss: 0.0976\n",
            "Epoch: 94/100... Training loss: 0.0995\n",
            "Epoch: 95/100... Training loss: 0.0970\n",
            "Epoch: 95/100... Training loss: 0.0973\n",
            "Epoch: 96/100... Training loss: 0.0982\n",
            "Epoch: 96/100... Training loss: 0.1002\n",
            "Epoch: 97/100... Training loss: 0.0965\n",
            "Epoch: 97/100... Training loss: 0.0966\n",
            "Epoch: 98/100... Training loss: 0.0993\n",
            "Epoch: 98/100... Training loss: 0.1008\n",
            "Epoch: 99/100... Training loss: 0.0972\n",
            "Epoch: 99/100... Training loss: 0.0978\n",
            "Epoch: 100/100... Training loss: 0.0992\n",
            "Epoch: 100/100... Training loss: 0.0985\n"
          ],
          "name": "stdout"
        }
      ]
    },
    {
      "metadata": {
        "id": "Z3zYG4ury8J8",
        "colab_type": "code",
        "colab": {
          "base_uri": "https://localhost:8080/",
          "height": 337
        },
        "outputId": "5766b0c3-bbd8-4743-c2c6-d1df8d1b3729"
      },
      "cell_type": "code",
      "source": [
        "### Checking out the performance\n",
        "\n",
        "fig, axes = plt.subplots(nrows=2, ncols=10, sharex=True, sharey=True, figsize=(20,4))\n",
        "in_imgs = mnist.test.images[:10]\n",
        "noisy_imgs = in_imgs + noise_factor * np.random.randn(*in_imgs.shape)\n",
        "noisy_imgs = np.clip(noisy_imgs, 0., 1.)\n",
        "\n",
        "reconstructed = sess.run(decoded, feed_dict={inputs_: noisy_imgs.reshape((10, 28, 28, 1))})\n",
        "\n",
        "for images, row in zip([noisy_imgs, reconstructed], axes):\n",
        "    for img, ax in zip(images, row):\n",
        "        ax.imshow(img.reshape((28, 28)), cmap='Greys_r')\n",
        "        ax.get_xaxis().set_visible(False)\n",
        "        ax.get_yaxis().set_visible(False)\n",
        "\n",
        "fig.tight_layout(pad=0.1)"
      ],
      "execution_count": 18,
      "outputs": [
        {
          "output_type": "display_data",
          "data": {
            "image/png": "[encoded data removed]",
            "text/plain": [
              "<matplotlib.figure.Figure at 0x7f3f2df515c0>"
            ]
          },
          "metadata": {
            "tags": []
          }
        }
      ]
    },
    {
      "metadata": {
        "id": "2BGh8jxazYtl",
        "colab_type": "text"
      },
      "cell_type": "markdown",
      "source": [
        "## Lesson 6: Transfer Learning in TensorFlow\n",
        "\n",
        "In practice, you won't typically be training your own huge networks. There are multiple models out there that have been trained for weeks on huge datasets, like [ImageNet](http://www.image-net.org/)\n",
        "\n",
        "[The whole lesson is perfectly reflected in the Transfer_Learning Jupyter Notebook.](https://github.com/matthiasludwig/deep-learning-udacity-material/tree/master/transfer-learning)"
      ]
    },
    {
      "metadata": {
        "id": "D9B8BVrvz1G2",
        "colab_type": "text"
      },
      "cell_type": "markdown",
      "source": [
        "## Lesson 8: Deep Learning for Cancer Detection with Sebastian Thrun\n",
        "\n",
        "**Sensitivity:** Of all sick people, how many did we diagnose as sick? TP / TP + FN\n",
        "\n",
        "**Specificity:** How many of the healthy people, did we classify as healthy? TN / TN + FP\n",
        "\n",
        "**vs.**\n",
        "\n",
        "**Recall:** Of all the people who have cancer, how many did we diagnose as having cancer? same as Sensitivity\n",
        "\n",
        "**Precision:** Of all the people we diagnosed with cancer, how many actually had cancer? TP / TP + FP\n",
        "\n"
      ]
    },
    {
      "metadata": {
        "id": "GKojNhrr1t6J",
        "colab_type": "text"
      },
      "cell_type": "markdown",
      "source": [
        "### Receiver Operating Characteristic\n",
        "\n",
        "True Positive Rate = TP / All Positives\n",
        "\n",
        "False Positive Rate = FP / All Negatives\n",
        "\n",
        "The Area under the Perfect ROC Curve is 1. The closer it is to a diagonal (Area around 0.5).\n",
        "\n",
        "Therefore, we can also refer to the ROC curve as the Sensitivity-Specificity Curve.\n",
        "\n",
        "CNNs are more consistent on the confusion matrix."
      ]
    },
    {
      "metadata": {
        "id": "AdCcc1a6F_MV",
        "colab_type": "text"
      },
      "cell_type": "markdown",
      "source": [
        "# Recurrent Networks"
      ]
    },
    {
      "metadata": {
        "id": "0EYSSO9WGCJL",
        "colab_type": "text"
      },
      "cell_type": "markdown",
      "source": [
        "## Lesson 1: Recurrent Neural Networks\n",
        "\n",
        "The neural network architectures so far have been trained using current inputs only. RNNs adress this very basic and important issue by using memory (i.e. past inputs to the network) when producing the current output. => **Temporal Dependencies**\n",
        "\n",
        "Simple RNN: Elman Network\n",
        "\n",
        "**Two Main types of Applications:**\n",
        "1. Classification\n",
        "2. Regression (for example: Time Series Forecasting)\n",
        "\n",
        "**Static Mapping with FFNN:** output only dependent on x and W\n",
        "\n",
        "- Training: Yield a network that generalizes beyond the train set\n",
        "- Evaluation: Test with new data\n",
        "\n",
        "**Activation Function:** Allows the network to represent nonlinear relationshipts between its inputs and outputs. (Most real-life data is non-linear)\n",
        "\n",
        "**Overfitting Problem:**\n",
        "1. Stop the Training process early\n",
        "2. Regularization (Dropout)\n",
        "\n",
        "**Updating the weight once every N steps** = Mini-Batch steps\n",
        "- Reduction of the complexity of the training process\n",
        "- Noise reduction"
      ]
    },
    {
      "metadata": {
        "id": "qkEFdHoy4cao",
        "colab_type": "text"
      },
      "cell_type": "markdown",
      "source": [
        "### Recurrent Neural Network\n",
        "\n",
        "**Recurrent** - Ocurring often or repeatedly\n",
        "\n",
        "**Memory Elements** = States\n",
        "\n",
        "Predicting the next word in the sentence is an example for an RNN where it is important to know the last state.\n",
        "\n",
        "**FFNN vs. RNN**\n",
        "\n",
        "The output of the Hidden layer is part of the Input for the next Input.\n",
        "\n",
        "xW = y (FNN - Time does not matter)\n",
        "\n",
        "x,xt-1,xt-n * W = y\n",
        "\n",
        "**Folded model:** In every single time step the system will look the same\n",
        "\n",
        "Activation Function: xt x Wx + st-1 x Ws\n",
        "\n",
        "Output = softmax(st x Wy)\n",
        "\n",
        "st = activation(xt x Wt + st-1 x Ws)"
      ]
    },
    {
      "metadata": {
        "id": "7rR53mk8AN0m",
        "colab_type": "text"
      },
      "cell_type": "markdown",
      "source": [
        "### Backpropagation Through TIme\n",
        "\n",
        "- st = activation(xt wx + st-1 Ws)\n",
        "- yt = activation(st * Wy)\n",
        "- Et = (dt - yt)^2\n",
        "\n",
        "**Gradient calculations needed to adjust Wy**\n",
        "\n",
        "partialEn/partialWn = partialEn / partial yn * partial yn / partial Wy\n",
        "\n",
        "**Gradient calculations needed to adjust Ws**\n",
        "\n",
        "In BPTT we will take into account every gradient semming frome each state, accumulating all of these contributions."
      ]
    },
    {
      "metadata": {
        "id": "hCZdh3rMIBHh",
        "colab_type": "text"
      },
      "cell_type": "markdown",
      "source": [
        "### From RNN to LSTM\n",
        "\n",
        "--> To adress the vanishing Gradient Problem\n",
        "\n",
        "Exploding Gradient Problem = Gradient grows uncontrollably.\n",
        "- Penalizing large gradients. (Threshold)\n",
        "\n",
        "LSTM Cell:\n",
        "- Input can be stored without being forgotten.\n",
        "- Avoid the loss of information due to the Vanishing Gradient Problem\n",
        "\n",
        "Four seperate calculations:\n",
        "- Fully differentiable\n",
        "- Sigmoid (3x)\n",
        "- Hyperbolic tangent\n",
        "- Multiplication\n",
        "- Addition\n"
      ]
    },
    {
      "metadata": {
        "id": "Y3Kslk12KaIo",
        "colab_type": "text"
      },
      "cell_type": "markdown",
      "source": [
        "## Lesson 2: Long Short-Term Memory Networks\n",
        "\n",
        "Long Term Memory:\n",
        "- Show about Nature and Science\n",
        "- Lots of forest Animals\n",
        "\n",
        "Short Term Memory:\n",
        "- Squirrels\n",
        "- Trees\n",
        "\n",
        "Event:\n",
        "- Dog/Wolf\n",
        "\n",
        "Output:\n",
        "- Wolf (0.8)\n",
        "\n",
        "Than update the Long Term Memory and update the Short Term Memory.\n",
        "\n",
        "**Forget Gate**\n",
        "LT forgets everything it doesnt consider useful\n",
        "\n",
        "**Learn Gate**\n",
        "ST + Event\n",
        "\n",
        "**Remember Gate**\n",
        "LT + ST + Event => New Long Term Memory\n",
        "\n",
        "**Use Gate**\n",
        "\n",
        "LT + ST + Event => New Short Term Memory AND Output"
      ]
    },
    {
      "metadata": {
        "id": "LNK3UqqOTJMw",
        "colab_type": "text"
      },
      "cell_type": "markdown",
      "source": [
        "### Learn Gate\n",
        "\n",
        "*Combine and Ignore*\n",
        "\n",
        "Nt = tanh(Wn[ST Mt-1, Et] + bn) x it\n",
        "\n",
        "it is the Ignore Factor.\n",
        "\n",
        "it = sigmoid(Wi[ST Mt=1, Et] + bj)"
      ]
    },
    {
      "metadata": {
        "id": "nPUkwTbMTzhl",
        "colab_type": "text"
      },
      "cell_type": "markdown",
      "source": [
        "### Forget Gate\n",
        "\n",
        "*Keep and Forget*\n",
        "\n",
        "LT Mt-1 * ft\n",
        "\n",
        "ft = sigmoid(Wf [ST Mt-1, Et] + bf)"
      ]
    },
    {
      "metadata": {
        "id": "WGSqX0CjUM1Q",
        "colab_type": "text"
      },
      "cell_type": "markdown",
      "source": [
        "### Remember Gate\n",
        "\n",
        "Add Forget Gate and Learn Gate\n",
        "\n",
        "LT M t-1 ft + Ntit"
      ]
    },
    {
      "metadata": {
        "id": "rTwN1lgxUcAW",
        "colab_type": "text"
      },
      "cell_type": "markdown",
      "source": [
        "### Use Gate\n",
        "\n",
        "Ut = tanh(Wu LT Mt-1 * ft + bu)\n",
        "\n",
        "Vt = sigmoid(Wv [ST Mt-1, Et] + bv)\n",
        "\n",
        "Ut x Vt"
      ]
    },
    {
      "metadata": {
        "id": "a0pv87jvVXQt",
        "colab_type": "text"
      },
      "cell_type": "markdown",
      "source": [
        "### Other architectures\n",
        "\n",
        "- Gated Recurrent Unit (GRU)\n",
        "- Peephole Connections (LT Mt-1 into the forget factor)"
      ]
    },
    {
      "metadata": {
        "id": "BI5I6StchVy0",
        "colab_type": "text"
      },
      "cell_type": "markdown",
      "source": [
        "## Lesson 3: Implementation of RNN and LSTM\n",
        "\n",
        "**Character-wise RNN:** A Network will learn about text one character at a time and then generate new text.\n",
        "\n",
        "**Getting the batches right:**\n",
        "- RNNs: Sequences of data. Splitting Sequences in shorter sequences.\n",
        "- Batch size: Number of sequences\n",
        "- Sequence lenght: How much of each sequence is inputted.\n"
      ]
    },
    {
      "metadata": {
        "id": "DMsDGsnMhbN9",
        "colab_type": "text"
      },
      "cell_type": "markdown",
      "source": [
        "## Lesson 4: Hyperparameters\n",
        "\n",
        "Variables that we have to set. There is no general rule for the\n",
        "\n",
        "Hyperparamters can fall into two categories:\n",
        "- Optimizer Hyperparameters (learning_rate, minibatch_size, epochs)\n",
        "- Model Hyperparameters (number of layers, model-specific parameters)"
      ]
    },
    {
      "metadata": {
        "id": "-6YjTXvkhvg-",
        "colab_type": "text"
      },
      "cell_type": "markdown",
      "source": [
        "### The Learning Rate\n",
        "\n",
        "The single most important parameter\n",
        "\n",
        "0.01 (if the input data has been normalized)\n",
        "\n",
        "- Learning Rate Decay (linear, exponentially)\n",
        "- Adaptive Learning Rate"
      ]
    },
    {
      "metadata": {
        "id": "9yrU7yX8jwb-",
        "colab_type": "text"
      },
      "cell_type": "markdown",
      "source": [
        "### Minibatch Size\n",
        "\n",
        "It has an impact on the ressource requirement and the speed.\n",
        "\n",
        "- Online (stochastic training). One forward pass, then Backprob. (Minibatch Size = 1)\n",
        "- Batch. More data forwards pass, then Backprob. (Minibatch Size = 32 - 256)"
      ]
    },
    {
      "metadata": {
        "id": "T9z-UdNOkjdc",
        "colab_type": "text"
      },
      "cell_type": "markdown",
      "source": [
        "### Number of Iterations\n",
        "\n",
        "Early Stopping in TF:\n",
        "\n",
        "[SessionRunHooks](https://www.tensorflow.org/api_docs/python/tf/train/SessionRunHook) are an evolving part of tf.train\n",
        "\n",
        "- StopAtStepHook: A minotor to request the training stop after a certain number of steps\n",
        "- NanTensorHook: a minotor that monitor's loss and stops training if it encounters a NaN loss"
      ]
    },
    {
      "metadata": {
        "id": "JbJO_Xw1lM7Z",
        "colab_type": "text"
      },
      "cell_type": "markdown",
      "source": [
        "### Number of Hidden Units / Layers\n",
        "\n",
        "Capacity: Learn a complex function\n",
        "\n",
        "\n",
        "\n",
        "```\n",
        "\"in practice it is often the case that 3-layer neural networks will outperform 2-layer nets, but going even deeper (4,5,6-layer) rarely helps much more. This is in stark contrast to Convolutional Networks, where depth has been found to be an extremely important component for a good recognition system (e.g. on order of 10 learnable layers).\" ~ Andrej Karpathy\n",
        "```\n",
        "\n",
        "Dropout and L2 to keep the network from overfitting.\n"
      ]
    },
    {
      "metadata": {
        "id": "aVx8JYBelvIe",
        "colab_type": "text"
      },
      "cell_type": "markdown",
      "source": [
        "### RNN Hyperparameters\n",
        "\n",
        "Which kind of Cell?\n",
        "\n",
        "- LSTM\n",
        "- RNN vanilla\n",
        "- GRU\n",
        "\n",
        "LSTM, GRU >> RNN vanilla\n",
        "\n",
        "Depth of at least 2.\n",
        "\n",
        "[Example RNN Architectures](https://classroom.udacity.com/nanodegrees/nd101/parts/6df11d93-4b44-4f35-b410-a63b2e852bb9/modules/96aa308a-b292-4506-b9f1-3e80821676ce/lessons/d0cb1fca-e2e2-45a0-849d-9acb659fe97e/concepts/a8510236-a0fe-41f3-9d19-254394349820)\n",
        "\n",
        "#### Further Ressources on Hyperparameters Tuning\n",
        "\n",
        "[Udacity Classroom](https://classroom.udacity.com/nanodegrees/nd101/parts/6df11d93-4b44-4f35-b410-a63b2e852bb9/modules/96aa308a-b292-4506-b9f1-3e80821676ce/lessons/d0cb1fca-e2e2-45a0-849d-9acb659fe97e/concepts/6d3834cc-b5be-442b-9581-1c5fcf1615a8)"
      ]
    },
    {
      "metadata": {
        "id": "3YcK2Kvtd8R1",
        "colab_type": "text"
      },
      "cell_type": "markdown",
      "source": [
        "## Lesson 5: Embeddings and Word2vec\n",
        "\n",
        "**Embeddings:** Representing data with a huge number of classes more efficiently. They greatly improve the ability of networks to learn from data of this sort by representing data with lower dimensional vectors.\n",
        "\n",
        "Relationships between word (man <-> woman, etc.). These word embeddings are learned using a model called [Word2vec](https://en.wikipedia.org/wiki/Word2vec)\n",
        "\n",
        "**Ressources for Word2vec implementation**\n",
        "\n",
        "* A really good [conceptual overview](http://mccormickml.com/2016/04/19/word2vec-tutorial-the-skip-gram-model/) of word2vec from Chris McCormick \n",
        "* [First word2vec paper](https://arxiv.org/pdf/1301.3781.pdf) from Mikolov et al.\n",
        "* [NIPS paper](http://papers.nips.cc/paper/5021-distributed-representations-of-words-and-phrases-and-their-compositionality.pdf) with improvements for word2vec also from Mikolov et al.\n",
        "* An [implementation of word2vec](http://www.thushv.com/natural_language_processing/word2vec-part-1-nlp-with-deep-learning-with-tensorflow-skip-gram/) from Thushan Ganegedara\n",
        "* TensorFlow [word2vec tutorial](https://www.tensorflow.org/tutorials/word2vec)\n"
      ]
    },
    {
      "metadata": {
        "id": "yLNsnPwhwMRr",
        "colab_type": "text"
      },
      "cell_type": "markdown",
      "source": [
        "### Subsampling\n",
        "\n",
        "Words that show up often such as \"the\", \"of\", and \"for\" don't provide much context to the nearby words. If we discard some of them, we can remove some of the noise from our data and in return get faster training and better representations. This process is called subsampling by Mikolov. For each word $w_i$ in the training set, we'll discard it with probability given by \n",
        "\n",
        "$$ P(w_i) = 1 - \\sqrt{\\frac{t}{f(w_i)}} $$\n",
        "\n",
        "where $t$ is a threshold parameter and $f(w_i)$ is the frequency of word $w_i$ in the total dataset."
      ]
    },
    {
      "metadata": {
        "id": "p5Jb-RtU4LFb",
        "colab_type": "text"
      },
      "cell_type": "markdown",
      "source": [
        "# Generative Adversarial Networks"
      ]
    },
    {
      "metadata": {
        "id": "QxymxVLb4EkN",
        "colab_type": "text"
      },
      "cell_type": "markdown",
      "source": [
        "## Lesson 1: generative Adversarial Networks\n",
        "\n",
        "**Uses for GANs:**\n",
        "\n",
        "- Imagine new photos\n",
        "- iGAN uses GANs to help artists (Adobe & Berkeley)\n",
        "- GANs can be used to translate one image to another (blueprint -> building)\n",
        "- CycleGAN: Changes video of horse to a zebra.\n",
        "- Can create Simulated Training Sets. (Apple)\n",
        "- Imitation Learning\n",
        "\n",
        "GANs are not limited to visual examples.\n",
        "- Can learn from labeled and un-labeled data (semi-supervised learning)"
      ]
    },
    {
      "metadata": {
        "id": "Oi0Hagw65K4o",
        "colab_type": "text"
      },
      "cell_type": "markdown",
      "source": [
        "### How GANs work\n",
        "\n",
        "\n",
        "Generator Network:\n",
        "- Random noises input -> Differentiable funciton -> transform the noise to construct an image\n",
        "- Training: No output to be associated.\n",
        "\n",
        "Discriminator:\n",
        "- NN Classifier. Decides if the Image is real. Probability of 1 for real images.\n",
        "\n",
        "The Generator is trying to \"fool\" the Discriminator.\n"
      ]
    },
    {
      "metadata": {
        "id": "SDmeHGbo7wec",
        "colab_type": "text"
      },
      "cell_type": "markdown",
      "source": [
        "### Games and Equilibria\n",
        "\n",
        "Game Theory -> Equilibrium.\n",
        "\n",
        "Each player (D and G) has different costs.\n",
        "- G wants to minimize the value function\n",
        "- D wants to maximize the value funciton\n",
        "\n",
        "Generator Density = Data Density (Equilibrium)\n"
      ]
    },
    {
      "metadata": {
        "id": "Z4LcxzoS-NuJ",
        "colab_type": "text"
      },
      "cell_type": "markdown",
      "source": [
        "### Practical tips and tricks for training GANs\n",
        "\n",
        "- leaky Relu for hidden layers\n",
        "- tanh for output layer of generator. data scaled between -1 and 1\n",
        "- simgoid for discriminator output layer => probability\n",
        "\n",
        "**Generator**:  z -> matmul+lrelu -> matmul +tanh\n",
        "\n",
        "**Discriminator**: matmul + lrelu -> matmul + simgoid\n",
        "\n",
        "\n",
        "**Loss and Optimization:**\n",
        "\n",
        "Two losses and Optimizers.\n",
        "\n",
        "- g_loss\n",
        "- d_loss\n",
        "AdamOptimizer(g_loss)\n",
        "AdamOptimizer(d_loss)\n",
        "\n",
        "D -> 1 = Real ; 0 = Fake\n",
        "\n",
        "loss = sigmoid_cross_entropy(D_out, labels)\n",
        "\n",
        "loss = cross_entropy(logits, labels * 0.9)"
      ]
    },
    {
      "metadata": {
        "id": "3MtZficNSTza",
        "colab_type": "text"
      },
      "cell_type": "markdown",
      "source": [
        "## Lesson 2: Deep Convolutional GANs\n",
        "\n",
        "**DCGAN**: Deep Convolutional GAN Model\n",
        "\n",
        "**Transposed Convolutional**: From narrow and deep to wide and flat (vs. k_nearest neigbor)\n",
        "\n",
        "**Batch Normalization**: Mean = 0, Variance = 1"
      ]
    },
    {
      "metadata": {
        "id": "5Thsn9ylc3oE",
        "colab_type": "text"
      },
      "cell_type": "markdown",
      "source": [
        "### Batch Normalization\n",
        "\n",
        "Batch normalization optimizes network training. It has been shown to have several benefits:\n",
        "1. **Networks train faster** – Each training _iteration_ will actually be slower because of the extra calculations during the forward pass and the additional hyperparameters to train during back propagation. However, it should converge much more quickly, so training should be faster overall. \n",
        "2. **Allows higher learning rates** – Gradient descent usually requires small learning rates for the network to converge. And as networks get deeper, their gradients get smaller during back propagation so they require even more iterations. Using batch normalization allows us to use much higher learning rates, which further increases the speed at which networks train. \n",
        "3. **Makes weights easier to initialize** – Weight initialization can be difficult, and it's even more difficult when creating deeper networks. Batch normalization seems to allow us to be much less careful about choosing our initial starting weights.  \n",
        "4. **Makes more activation functions viable** – Some activation functions do not work well in some situations. Sigmoids lose their gradient pretty quickly, which means they can't be used in deep networks. And ReLUs often die out during training, where they stop learning completely, so we need to be careful about the range of values fed into them. Because batch normalization regulates the values going into each activation function, non-linearlities that don't seem to work well in deep networks actually become viable again.  \n",
        "5. **Simplifies the creation of deeper networks** – Because of the first 4 items listed above, it is easier to build and faster to train deeper neural networks when using batch normalization. And it's been shown that deeper networks generally produce better results, so that's great.\n",
        "6. **Provides a bit of regularlization** – Batch normalization adds a little noise to your network. In some cases, such as in Inception modules, batch normalization has been shown to work as well as dropout. But in general, consider batch normalization as a bit of extra regularization, possibly allowing you to reduce some of the dropout you might add to a network. \n",
        "7. **May give better results overall** – Some tests seem to show batch normalization actually improves the training results. However, it's really an optimization to help train faster, so you shouldn't think of it as a way to make your network better. But since it lets you train networks faster, that means you can iterate over more designs more quickly. It also lets you build deeper networks, which are usually better. So when you factor in everything, you're probably going to end up with better results if you build your networks with batch normalization."
      ]
    },
    {
      "metadata": {
        "id": "8v9aBK4Vc54Q",
        "colab_type": "code",
        "colab": {}
      },
      "cell_type": "code",
      "source": [
        ""
      ],
      "execution_count": 0,
      "outputs": []
    }
  ]
}