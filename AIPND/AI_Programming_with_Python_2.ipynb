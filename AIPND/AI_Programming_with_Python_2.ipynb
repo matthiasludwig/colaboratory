{
 "cells": [
  {
   "cell_type": "markdown",
   "metadata": {
    "collapsed": true
   },
   "source": [
    "# 4. Neural Networks"
   ]
  },
  {
   "cell_type": "markdown",
   "metadata": {},
   "source": [
    "## Introduction to Neural Networks"
   ]
  },
  {
   "cell_type": "markdown",
   "metadata": {},
   "source": [
    "### Softmax\n",
    "\n",
    "To calculate the probability that a prediction is of one of many classes:\n",
    "\n",
    "e^Z_i / e^Z_1 ... e^Z_n"
   ]
  },
  {
   "cell_type": "markdown",
   "metadata": {},
   "source": [
    "### Cross Entropy"
   ]
  },
  {
   "cell_type": "code",
   "execution_count": 2,
   "metadata": {},
   "outputs": [
    {
     "name": "stdout",
     "output_type": "stream",
     "text": [
      "4.828313737302301\n"
     ]
    }
   ],
   "source": [
    "import numpy as np\n",
    "\n",
    "# Write a function that takes as input two lists Y, P,\n",
    "# and returns the float corresponding to their cross-entropy.\n",
    "def cross_entropy(Y, P):\n",
    "    result = 0.0\n",
    "    for y, p in zip(Y, P):\n",
    "        if y == 1:\n",
    "            result += np.log(p)\n",
    "        if y == 0:\n",
    "            result += np.log(1-p)\n",
    "    \n",
    "    return (result * (-1))\n",
    "\n",
    "print(cross_entropy([1,0,1,1], [0.4,0.6,0.1,0.5]))"
   ]
  },
  {
   "cell_type": "markdown",
   "metadata": {},
   "source": [
    "### Gradient Descent\n",
    "\n",
    "* Error Funciton: E=−yln(y^​)−(1−y)ln(1−y^​)\n",
    "* Gradient Descent Step: wi′​←wi​+α(y−y^​)xi​. AND b′←b+α(y−y^​),\n",
    "\n",
    "Pseudo-code for the Gradient Descent Step:\n",
    "\n",
    "1. Initialize W and b with random values\n",
    "2. For every point (x1,...,xn)\n",
    "2.1 For i=1...n\n",
    "2.1.1 Update wi​+α(y−y^​)xi\n",
    "2.1.2 Update b+α(y−y^​)\n",
    "3. Repeat until the error is small (Epochs)\n",
    "\n"
   ]
  },
  {
   "cell_type": "code",
   "execution_count": null,
   "metadata": {},
   "outputs": [],
   "source": []
  }
 ],
 "metadata": {
  "kernelspec": {
   "display_name": "Python 2",
   "language": "python",
   "name": "python2"
  },
  "language_info": {
   "codemirror_mode": {
    "name": "ipython",
    "version": 2
   },
   "file_extension": ".py",
   "mimetype": "text/x-python",
   "name": "python",
   "nbconvert_exporter": "python",
   "pygments_lexer": "ipython2",
   "version": "2.7.6"
  }
 },
 "nbformat": 4,
 "nbformat_minor": 0
}
