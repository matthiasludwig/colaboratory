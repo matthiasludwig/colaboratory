{
 "cells": [
  {
   "cell_type": "markdown",
   "metadata": {
    "id": "SwADN9G2lK9u",
    "colab_type": "text"
   },
   "source": [
    "# 1. Introduction AI Programming\n",
    "The program focuses on Python Programming and three main frameworks:\n",
    "\n",
    "*   Numpy - Data Input and Handling\n",
    "*   Pandas - Data Manipulation\n",
    "*   Matplotlib - Data Visualization"
   ]
  },
  {
   "cell_type": "markdown",
   "metadata": {
    "id": "PshFBxWdBx6y",
    "colab_type": "text"
   },
   "source": [
    "# 2. Intro to Python Programming\n",
    "\n",
    "Python Tips:\n",
    "\n",
    "*   Python is case sensitive\n",
    "*   Spacing is important (not very heavy on syntax)\n",
    "*   Use Error messages"
   ]
  },
  {
   "cell_type": "code",
   "execution_count": 1,
   "metadata": {
    "id": "xzYz5sDgEGuM",
    "colab_type": "code",
    "colab": {
     "base_uri": "https://localhost:8080/",
     "height": 52.0
    },
    "outputId": "d4477e0f-d059-4a7f-e692-09c397d2a629"
   },
   "outputs": [
    {
     "name": "stdout",
     "output_type": "stream",
     "text": [
      "0\n0.30000000000000004\n"
     ]
    },
    {
     "name": "stdout",
     "output_type": "stream",
     "text": [
      "0\n0.30000000000000004\n"
     ]
    }
   ],
   "source": [
    "mv_population = 74728 # Assignment operator\n",
    "\n",
    "# Both statements are equal\n",
    "\n",
    "x = 2\n",
    "y = 3\n",
    "z = 5\n",
    "\n",
    "x, y, z = 2, 3, 5\n",
    "\n",
    "int(x)  # int\n",
    "float(x/y)  # float\n",
    "\n",
    "print(int(x/y))\n",
    "print(0.1 + 0.1 + 0.1)  # float is an approximation"
   ]
  },
  {
   "cell_type": "markdown",
   "metadata": {
    "id": "NYBILlmlBy_A",
    "colab_type": "text"
   },
   "source": [
    "## Data Types and Operators\n",
    "### Arithmetic Operators\n",
    "\n",
    "** Exponentiation\n",
    "// Divides and rounds **down** to the nearest integer\n",
    "\n",
    "^ is *bitwise XOR*\n",
    "\n",
    "**Naming** of variables:\n",
    "* Only use ordinary letters, numbers and underscores. Needs to start with an underscore or letter.\n",
    "* Can't use reserved words or built-in identifiers.\n",
    "* The pythonic way to name variables is to use all lowercase letters and underscores to seperate words.\n",
    "\n",
    "**[PEP 8](https://www.python.org/dev/peps/pep-0008/)** are part of the Python Developer's Guide and the style guidlines"
   ]
  },
  {
   "cell_type": "code",
   "execution_count": 2,
   "metadata": {
    "id": "NSaXQuwnHFGm",
    "colab_type": "code",
    "colab": {}
   },
   "outputs": [
    {
     "name": "stdout",
     "output_type": "stream",
     "text": [
      "447627500.0\n"
     ]
    }
   ],
   "source": [
    "# Exercise to Assignment Operator\n",
    "\n",
    "# The current volume of a water reservoir (in cubic metres)\n",
    "reservoir_volume = 4.445e8\n",
    "# The amount of rainfall from a storm (in cubic metres)\n",
    "rainfall = 5e6\n",
    "\n",
    "# decrease the rainfall variable by 10% to account for runoff\n",
    "rainfall *= 0.9\n",
    "# add the rainfall variable to the reservoir_volume variable\n",
    "reservoir_volume += rainfall\n",
    "# increase reservoir_volume by 5% to account for storm water that flows\n",
    "# into the reservoir in the days following the storm\n",
    "reservoir_volume *= 1.05\n",
    "# decrease reservoir_volume by 5% to account for evaporation\n",
    "reservoir_volume *= 0.95\n",
    "# subtract 2.5e5 cubic metres from reservoir_volume to account for water\n",
    "# that's piped to arid regions.\n",
    "reservoir_volume -= 2.5e5\n",
    "# print the new value of the reservoir_volume variable\n",
    "print(reservoir_volume)"
   ]
  },
  {
   "cell_type": "markdown",
   "metadata": {},
   "source": [
    "Exceptions = Happens with the execution of the code\n",
    "\n",
    "Syntax Errors = Checked by python before execution"
   ]
  },
  {
   "cell_type": "code",
   "execution_count": 3,
   "metadata": {},
   "outputs": [
    {
     "name": "stdout",
     "output_type": "stream",
     "text": [
      "This is a string with 2 two variables matthias\n"
     ]
    }
   ],
   "source": [
    "number = 2\n",
    "name = \"matthias\"\n",
    "\n",
    "print(\"This is a string with {} two variables {}\".format(number, name))"
   ]
  },
  {
   "cell_type": "markdown",
   "metadata": {},
   "source": [
    "### Lists\n",
    "\n",
    "* Lists are mutable ordered list of elements\n",
    "* Lists can contain any mix of different data types\n",
    "\n",
    "#### Slicing and dicing\n",
    "\n",
    "* example_List[6:9] - lower bound is inclusive. upper bound is exclusive.\n",
    "* example_list[:9] - to include the beginning (also works for end)\n",
    "* \"String\" (not) in example_List - Output is true or false\n"
   ]
  },
  {
   "cell_type": "code",
   "execution_count": 4,
   "metadata": {},
   "outputs": [
    {
     "name": "stdout",
     "output_type": "stream",
     "text": [
      "True\ndecember\n"
     ]
    }
   ],
   "source": [
    "example_List = ['january', 'february', 'march', 'april', 'may', 'june', 'july', 'august', 'september', 'october',\n",
    "                'november', 'december']\n",
    "print('January' not in example_List)  # in or not in\n",
    "print(example_List[-1])  # Indexing also works backwards with negative numbers\n"
   ]
  },
  {
   "cell_type": "markdown",
   "metadata": {},
   "source": [
    "#### List functions\n",
    "\n",
    "* max()\n",
    "* len()\n",
    "* min()\n",
    "* sorted(list, reverse=False) - creates a sorted copy\n",
    "* append() - appends an element at the end of the list"
   ]
  },
  {
   "cell_type": "code",
   "execution_count": 5,
   "metadata": {},
   "outputs": [],
   "source": [
    "names = [\"Albert\", \"Carol\", \"Ben\", \"Eugenia\"]\n",
    "print(names[1])\n",
    "names = sorted(names)\n",
    "print(names[1])\n",
    "\n",
    "new_str = \"\\n\".join([\"hello\", \"world\", \"what\", \"happens\"])\n",
    "print(new_str)"
   ]
  },
  {
   "cell_type": "markdown",
   "metadata": {},
   "source": [
    "### Tuples\n",
    "\n",
    "* immutable ordered sequence of elements (for example: latitude, longitude)\n",
    "* Does not have to be only two values\n",
    "\n",
    "``\n",
    "Ankor_Wat = 1.2102, 10491\n",
    "``"
   ]
  },
  {
   "cell_type": "markdown",
   "metadata": {},
   "source": [
    "### Sets\n",
    "\n",
    "* unique elements without any particular ordering\n",
    "* supports (not) in operator\n",
    "* .add(\"Something\")\n",
    "* .pop() - random elements is removed"
   ]
  },
  {
   "cell_type": "markdown",
   "metadata": {},
   "source": [
    "### Dictionaries and Identy Operators\n",
    "\n",
    "* Mutable objects that contains a mapping of unique keys to values\n",
    "\n",
    "#### Dictionaries functions\n",
    "* in/not in\n",
    "* elements.get('key') - If you don't know if a key is in the dictionary\n",
    "\n",
    "is/is not : Identity Operator"
   ]
  },
  {
   "cell_type": "code",
   "execution_count": 7,
   "metadata": {},
   "outputs": [
    {
     "data": {
      "text/plain": [
       "'Error Message to be displayed'"
      ]
     },
     "execution_count": 7,
     "metadata": {},
     "output_type": "execute_result"
    }
   ],
   "source": [
    "elements = {'hydrogen': 1, 'helium': 2}\n",
    "elements['hydrogen']  # 1\n",
    "elements.get('krypton', \"Error Message to be displayed\")"
   ]
  },
  {
   "cell_type": "code",
   "execution_count": 8,
   "metadata": {},
   "outputs": [
    {
     "name": "stdout",
     "output_type": "stream",
     "text": [
      "False\nTrue\n"
     ]
    }
   ],
   "source": [
    "# Nested Dictionaries\n",
    "elements = {'hydrogen': {'number': 1, 'weight': 1.00794, 'symbol': 'H', 'is_noble_gas': False},\n",
    "            'helium': {'number': 2, 'weight': 4.002602, 'symbol': 'He', 'is_noble_gas': True}}\n",
    "# hint: helium is a noble gas, hydrogen isn't\n",
    "\n",
    "print(elements['hydrogen']['is_noble_gas'])\n",
    "print(elements['helium']['is_noble_gas'])"
   ]
  },
  {
   "cell_type": "markdown",
   "metadata": {
    "id": "zxcJOoC6B3BG",
    "colab_type": "text"
   },
   "source": [
    "## Control Flow"
   ]
  },
  {
   "cell_type": "markdown",
   "metadata": {},
   "source": [
    "### IF\n",
    "\n",
    "\n",
    "* if condition: ...\n",
    "* if, elif and else\n"
   ]
  },
  {
   "cell_type": "code",
   "execution_count": 9,
   "metadata": {},
   "outputs": [
    {
     "name": "stdout",
     "output_type": "stream",
     "text": [
      "Congratulations! You won a wafer-thin mint!\n"
     ]
    }
   ],
   "source": [
    "points = 174  # use this input to make your submission\n",
    "\n",
    "result = None\n",
    "\n",
    "# write your if statement here\n",
    "if points <= 50:\n",
    "\tresult = \"wooden rabbit\"\n",
    "elif points <= 180:\n",
    "\tresult = \"wafer-thin mint\"\n",
    "elif points <= 200:\n",
    "\tresult = \"penguin\"\n",
    "\n",
    "if result:\n",
    "\tprint(\"Congratulations! You won a {}!\".format(result))\n",
    "else:\n",
    "\tprint(\"Oh dear, {} this time.\".format(result))"
   ]
  },
  {
   "cell_type": "markdown",
   "metadata": {},
   "source": [
    "### For Loops\n",
    "\n",
    "* Iterate over an iterable\n",
    "* range(start, stop, step)\n",
    "* for x,y in dict.items()...\n"
   ]
  },
  {
   "cell_type": "markdown",
   "metadata": {},
   "source": [
    "### While Loops\n",
    "\n",
    "* while condition:\n",
    "* continue - Skip one interation\n",
    "* break - Break out of the loop"
   ]
  },
  {
   "cell_type": "code",
   "execution_count": 10,
   "metadata": {},
   "outputs": [
    {
     "name": "stdout",
     "output_type": "stream",
     "text": [
      "11\n"
     ]
    }
   ],
   "source": [
    "start_num = 1\n",
    "end_num = 10\n",
    "count_by = 2\n",
    "\n",
    "# write a while loop that uses break_num as the ongoing number to \n",
    "#   check against end_num\n",
    "break_num = start_num\n",
    "\n",
    "while break_num < end_num:\n",
    "    break_num += count_by\n",
    "print(break_num)"
   ]
  },
  {
   "cell_type": "code",
   "execution_count": 11,
   "metadata": {},
   "outputs": [
    {
     "name": "stdout",
     "output_type": "stream",
     "text": [
      "36"
     ]
    },
    {
     "name": "stdout",
     "output_type": "stream",
     "text": [
      "\n"
     ]
    }
   ],
   "source": [
    "limit = 40\n",
    "nearest_square = 0\n",
    "# write your while loop here\n",
    "while nearest_square**2 < limit:\n",
    "    nearest_square += 1\n",
    "    \n",
    "nearest_square = (nearest_square-1)**2\n",
    "print(nearest_square)"
   ]
  },
  {
   "cell_type": "markdown",
   "metadata": {},
   "source": [
    "### Zip and Enumerate\n",
    "\n",
    "* Zip - Returns an interator that combines multiple iterables into a sequence of tuples"
   ]
  },
  {
   "cell_type": "code",
   "execution_count": 12,
   "metadata": {
    "collapsed": false
   },
   "outputs": [
    {
     "name": "stdout",
     "output_type": "stream",
     "text": [
      "[('a', 1), ('b', 2), ('c', 3)]\nletters: ('a', 'b', 'c')\nnums: (1, 2, 3)\n--- ENUMERATE ---\n0 a\n1 b\n2 c\n3 d\n4 e\n5 f\n6 g\n"
     ]
    }
   ],
   "source": [
    "test_zip = list(zip(['a', 'b', 'c'], [1, 2, 3])) # [('a', 1), ('b', 2), ('c', 3)]\n",
    "print(test_zip)\n",
    "\n",
    "some_list = [('a', 1), ('b', 2), ('c', 3)]\n",
    "letters, nums = zip(*some_list)  # Unzip\n",
    "\n",
    "print(\"letters: {}\\nnums: {}\".format(letters, nums))\n",
    "\n",
    "print(\"--- ENUMERATE ---\")\n",
    "\n",
    "enum_letters = ['a', 'b', 'c', 'd', 'e', 'f', 'g']\n",
    "for i, l in enumerate(enum_letters):\n",
    "\tprint(i, l)"
   ]
  },
  {
   "cell_type": "code",
   "execution_count": 13,
   "metadata": {},
   "outputs": [
    {
     "name": "stdout",
     "output_type": "stream",
     "text": [
      "F: [23, 53, 2, -12, 95, 103, 14, -5]\nJ: [677, 233, 405, 433, 905, 376, 432, 445]\nA: [4, 16, -6, -42, 3, -6, 23, -1]\n"
     ]
    }
   ],
   "source": [
    "x_coord = [23, 53, 2, -12, 95, 103, 14, -5]\n",
    "y_coord = [677, 233, 405, 433, 905, 376, 432, 445]\n",
    "z_coord = [4, 16, -6, -42, 3, -6, 23, -1]\n",
    "labels = [\"F\", \"J\", \"A\", \"Q\", \"Y\", \"B\", \"W\", \"X\"]\n",
    "\n",
    "points = []\n",
    "# write your for loop here\n",
    "for coord, label in list(zip((x_coord, y_coord, z_coord), labels)):\n",
    "\tpoints.append(\"{}: {}\".format(label, coord))\n",
    "\n",
    "for point in points:\n",
    "\tprint(point)"
   ]
  },
  {
   "cell_type": "markdown",
   "metadata": {},
   "source": [
    "### List Comprehension\n",
    "\n",
    "* Short form to create a new list"
   ]
  },
  {
   "cell_type": "code",
   "execution_count": 14,
   "metadata": {},
   "outputs": [
    {
     "name": "stdout",
     "output_type": "stream",
     "text": [
      "['New York', 'San Francisco', 'Berlin', 'munich']\n"
     ]
    }
   ],
   "source": [
    "cities = ['new york', 'san francisco', 'berlin', 'munich']\n",
    "\n",
    "capitalized_cities = [city.title() for city in cities if city == 'berlin']  # if is additional\n",
    "capitalized_cities_cond = [city if city == 'munich' else city.title() for city in cities]  #if-else examples\n",
    "print(capitalized_cities_cond)"
   ]
  },
  {
   "cell_type": "markdown",
   "metadata": {
    "id": "nWiCYfo8B63I",
    "colab_type": "text"
   },
   "source": [
    "## Functions\n",
    "\n",
    "* breaks programs down in smaller chunks\n",
    "* reusable parts\n",
    "* Docstrings to explain the usage of the function"
   ]
  },
  {
   "cell_type": "code",
   "execution_count": 15,
   "metadata": {},
   "outputs": [
    {
     "data": {
      "text/plain": [
       "439.82259999999997"
      ]
     },
     "execution_count": 15,
     "metadata": {},
     "output_type": "execute_result"
    }
   ],
   "source": [
    "def cylinder_volume(height, radius=5):  # Got a default argument with radius\n",
    "\t\"\"\"\n",
    "\tCalculate the cylinder volume\n",
    "\tINPUT\n",
    "\t:param height: int ....\n",
    "\t:param radius: int ....\n",
    "\tOUTPUT \n",
    "\t:return: int .... \n",
    "\t\"\"\"\n",
    "\tpi = 3.14159\n",
    "\treturn height * radius * pi * 2\n",
    "\n",
    "\n",
    "cylinder_volume(10, 7)  # pass in arguments by position\n",
    "cylinder_volume(height=10, radius=7)  # pass in arguments by name"
   ]
  },
  {
   "cell_type": "code",
   "execution_count": 16,
   "metadata": {},
   "outputs": [
    {
     "name": "stdout",
     "output_type": "stream",
     "text": [
      "6\n[57.0, 58.2, 50.6, 27.2]\n"
     ]
    }
   ],
   "source": [
    "# Lambda expressions - Anonymous functions\n",
    "\n",
    "double = lambda x: x * 2\n",
    "print(double(3))\n",
    "\n",
    "numbers = [\n",
    "              [34, 63, 88, 71, 29],\n",
    "              [90, 78, 51, 27, 45],\n",
    "              [63, 37, 85, 46, 22],\n",
    "              [51, 22, 34, 11, 18]\n",
    "           ]\n",
    "    \n",
    "mean = lambda x: sum(x)/len(x)\n",
    "\n",
    "averages = list(map(mean, numbers))  # map() is a higher-order built-in function that takes a function and iterable as inputs, and returns an iterator that\n",
    "\t\t\t\t\t\t\t\t\t#  applies the function to each element of the iterable.\n",
    "print(averages)"
   ]
  },
  {
   "cell_type": "markdown",
   "metadata": {},
   "source": [
    "#### Iterator\n",
    "* An object that represents a stream of data\n",
    "\n",
    "* Iterables are objects that can return one of their elements at a time, such as a list. Many of the built-in functions we’ve used so far, like 'enumerate,' return an iterator.\n",
    "\n",
    "* An iterator is an object that represents a stream of data. This is different from a list, which is also an iterable, but not an iterator because it is not a stream of data.\n",
    "\n",
    "```\n",
    "sq_list = [x**2 for x in range(10)]  # this produces a list of squares\n",
    "\n",
    "sq_iterator = (x**2 for x in range(10))  # this produces an iterator of squares\n",
    "```"
   ]
  },
  {
   "cell_type": "code",
   "execution_count": 18,
   "metadata": {},
   "outputs": [
    {
     "name": "stdout",
     "output_type": "stream",
     "text": [
      "Lesson 1: Why Python Programming\nLesson 2: Data Types and Operators\nLesson 3: Control Flow\nLesson 4: Functions\nLesson 5: Scripting\n"
     ]
    }
   ],
   "source": [
    "lessons = [\"Why Python Programming\", \"Data Types and Operators\", \"Control Flow\", \"Functions\", \"Scripting\"]\n",
    "\n",
    "def my_enumerate(iterable, start=0):\n",
    "    # Implement your generator function here\n",
    "    for iteration in iterable:\n",
    "        yield start, iteration\n",
    "        start += 1\n",
    "\n",
    "for i, lesson in my_enumerate(lessons, 1):\n",
    "    print(\"Lesson {}: {}\".format(i, lesson))\n",
    "\n"
   ]
  },
  {
   "cell_type": "code",
   "execution_count": 21,
   "metadata": {},
   "outputs": [
    {
     "name": "stdout",
     "output_type": "stream",
     "text": [
      "[0, 1, 2, 3]\n[4, 5, 6, 7]\n[8, 9, 10, 11]\n[12, 13, 14, 15]\n[16, 17, 18, 19]\n[20, 21, 22, 23]\n[24]\n"
     ]
    }
   ],
   "source": [
    "def chunker(iterable, size):\n",
    "    # Implement function here\n",
    "    for i in range(0, len(iterable), size):\n",
    "        yield iterable[i:i + size]\n",
    "    \n",
    "    \n",
    "for chunk in chunker(range(25), 4):\n",
    "    print(list(chunk))"
   ]
  },
  {
   "cell_type": "markdown",
   "metadata": {
    "id": "F2xS7iRKB8Xu",
    "colab_type": "text"
   },
   "source": [
    "## Scripting\n",
    "\n",
    "needs to be done in a seperate file\n",
    "\n",
    "* eval() interprets a line as a python line"
   ]
  },
  {
   "cell_type": "markdown",
   "metadata": {},
   "source": [
    "# 3. NumPy, Pandas and Matplotlib"
   ]
  },
  {
   "cell_type": "markdown",
   "metadata": {},
   "source": [
    "## NumPy\n",
    "\n",
    "* Provides Python with extensible Math capabilities\n",
    "* N dimensional Array object\n",
    "* Every element in the N dimensional Array has to have the same type"
   ]
  },
  {
   "cell_type": "code",
   "execution_count": 23,
   "metadata": {},
   "outputs": [],
   "source": [
    "import numpy as np\n",
    "import time"
   ]
  },
  {
   "cell_type": "code",
   "execution_count": 27,
   "metadata": {},
   "outputs": [],
   "source": [
    "x = np.random.random(100000000)"
   ]
  },
  {
   "cell_type": "code",
   "execution_count": 28,
   "metadata": {},
   "outputs": [
    {
     "name": "stdout",
     "output_type": "stream",
     "text": [
      "10.059979915618896\n"
     ]
    }
   ],
   "source": [
    "start = time.time()\n",
    "sum(x) / len(x)\n",
    "print(time.time() - start)"
   ]
  },
  {
   "cell_type": "code",
   "execution_count": 29,
   "metadata": {},
   "outputs": [
    {
     "name": "stdout",
     "output_type": "stream",
     "text": [
      "0.13471508026123047\n"
     ]
    }
   ],
   "source": [
    "start = time.time()\n",
    "np.mean(x)\n",
    "print(time.time() - start)"
   ]
  },
  {
   "cell_type": "code",
   "execution_count": 30,
   "metadata": {},
   "outputs": [
    {
     "name": "stdout",
     "output_type": "stream",
     "text": [
      "<class 'numpy.ndarray'>\nint64\n(5,)\n"
     ]
    }
   ],
   "source": [
    "# How to create ndarrays?\n",
    "# 1. With Numpy np.array() built-in function\n",
    "\n",
    "y = np.array([1, 2, 3, 4, 5], dtype=np.int64)\n",
    "print(type(y))  # Type of y\n",
    "print(y.dtype)  # Data type within the ndarray\n",
    "print(y.shape)  # Shape of y rows/columns\n"
   ]
  },
  {
   "cell_type": "code",
   "execution_count": 31,
   "metadata": {},
   "outputs": [],
   "source": [
    "# Saving an ndarray to a file\n",
    "\n",
    "np.save('AI_Programming_with_Python_Files/test', y)\n",
    "w = np.load('AI_Programming_with_Python_Files/test.npy')"
   ]
  },
  {
   "cell_type": "code",
   "execution_count": 32,
   "metadata": {},
   "outputs": [
    {
     "name": "stdout",
     "output_type": "stream",
     "text": [
      "[1 2 3 4 5]\n"
     ]
    }
   ],
   "source": [
    "print(w)"
   ]
  },
  {
   "cell_type": "code",
   "execution_count": 33,
   "metadata": {},
   "outputs": [
    {
     "name": "stdout",
     "output_type": "stream",
     "text": [
      "[[0 0 0 0]\n [0 0 0 0]\n [0 0 0 0]]\n"
     ]
    }
   ],
   "source": [
    "zeros = np.zeros((3,4), dtype=np.int64)  # np.full((3,4), 0)\n",
    "print(zeros)"
   ]
  },
  {
   "cell_type": "markdown",
   "metadata": {},
   "source": [
    "#### Numpy Built-in functions\n",
    "\n",
    "* shape()\n",
    "* arange(start, stop], step)\n",
    "* np.linspace(start, stop, endpoint=True, steps)\n",
    "* np.eye(shape) = identity matrix\n",
    "* reshape(ndarray, new_shape) - new_shape has to be compatible to the ndarray.shape\n",
    "* np.random.random(shape) - Random floats\n",
    "* np.random.randint(start, stop, size = shape) - int64\n",
    "* np.random.normal(mean, stdeviation, size = shape)"
   ]
  },
  {
   "cell_type": "markdown",
   "metadata": {},
   "source": [
    "#### Accessing, Deleting, Inserting Elements into ndarrays\n",
    "\n",
    "* x[0,...] - Negative indizes can also be used to access elements from the end of the array\n",
    "* np.delete(ndarray, elements, axis) - axis = 0 (rows) axis = 1 (columns)\n",
    "* np.append(ndarray, elements, axis) - Adds the elements to the end of the row or column (see 'axis' above)\n",
    "* np.insert(ndarray, index, elements, axis)\n",
    "* np.vstack - vertical stacking a matrix on another\n",
    "* np.hstack - horizontally stacking a matrix on a another\n"
   ]
  },
  {
   "cell_type": "markdown",
   "metadata": {},
   "source": [
    "#### Slicing  ndarrays\n",
    "\n",
    "* ndarray[start:end]\n",
    "* ndarray[start:]\n",
    "* ndarray[:end]\n",
    "* ndarray[1:4, 2:5] - which rows to include (1:4) and which columns (2,5)\n",
    "\n",
    "**Slicing creates a view of the Array. Meaning that changes affect also the original array!**\n",
    "\n",
    "* use np.copy() or .copy() to create a copy of the data\n",
    "* np.diag(ndarray, k) - returns the diagonal of the array. k defines the offset (can be negative)\n",
    "* np.unique(ndarray) - get unique values out of a ndarray\n"
   ]
  },
  {
   "cell_type": "markdown",
   "metadata": {},
   "source": [
    "#### Boolean Indexing, Set Operations and Sorting\n",
    "\n",
    "* x[x > 10] - boolean indexing\n",
    "* np.sort(ndarray, axis) - leaves original ndarray as-is. axis decides of sorted by columns (0) or rows (1)\n",
    "* ndarray.sort(axis) - changes original ndarray"
   ]
  },
  {
   "cell_type": "markdown",
   "metadata": {},
   "source": [
    "#### Arithmetic operations and Broadcasting\n",
    "\n",
    "* np.add(x, y) - element-wise adding of x and y (subtract, divide, multiply, power(x,2), exp(), sqrt the same)\n",
    "* Must have the same shape\n",
    "* Broadcasting (extending) an array to \"fit\" the other array"
   ]
  },
  {
   "cell_type": "markdown",
   "metadata": {},
   "source": [
    "## Pandas\n",
    "\n",
    "For manipulating and analyzing data in Python:\n",
    "\n",
    "* Pandas Series\n",
    "* Pandas DataFrame\n",
    "\n",
    "Built upon NumPy."
   ]
  },
  {
   "cell_type": "markdown",
   "metadata": {},
   "source": [
    "### Pandas Series"
   ]
  },
  {
   "cell_type": "code",
   "execution_count": 35,
   "metadata": {},
   "outputs": [
    {
     "data": {
      "text/plain": [
       "eggs       30\napples     10\nbread     yes\nmilk       no\ndtype: object"
      ]
     },
     "execution_count": 35,
     "metadata": {},
     "output_type": "execute_result"
    }
   ],
   "source": [
    "# Pandas Series\n",
    "\n",
    "import pandas as pd\n",
    "import numpy as np\n",
    "\n",
    "groceries = pd.Series(data=[30, 10, \"yes\", \"no\"], index=[\"eggs\", \"apples\", \"bread\", \"milk\"])  # One dimensional array-like list that can hold different data types\n",
    "groceries\n"
   ]
  },
  {
   "cell_type": "code",
   "execution_count": 36,
   "metadata": {},
   "outputs": [
    {
     "name": "stdout",
     "output_type": "stream",
     "text": [
      "(4,)\n1\n4\n[30 10 'yes' 'no']\nIndex(['eggs', 'apples', 'bread', 'milk'], dtype='object')\n"
     ]
    }
   ],
   "source": [
    "print(groceries.shape)  # Shape of pandas series object\n",
    "print(groceries.ndim)  # Dimension of pandas series object\n",
    "print(groceries.size)  # Size of pandas series object\n",
    "\n",
    "print(groceries.values)  # Values of pandas series object\n",
    "print(groceries.index)  # Indices of pandas series object"
   ]
  },
  {
   "cell_type": "code",
   "execution_count": 37,
   "metadata": {},
   "outputs": [
    {
     "data": {
      "text/plain": [
       "False"
      ]
     },
     "execution_count": 37,
     "metadata": {},
     "output_type": "execute_result"
    }
   ],
   "source": [
    "'banana' in groceries  # Check if an object is in the pandas series"
   ]
  },
  {
   "cell_type": "code",
   "execution_count": 38,
   "metadata": {},
   "outputs": [
    {
     "name": "stdout",
     "output_type": "stream",
     "text": [
      "eggs      30\nmilk      no\nbread    yes\ndtype: object\n30\n\n### loc and iloc###\n\neggs      30\nbread    yes\ndtype: object\n10\n\n###drop###\n\neggs      30\napples    10\nmilk      no\ndtype: object\neggs       30\napples     10\nbread     yes\nmilk       no\ndtype: object\n"
     ]
    }
   ],
   "source": [
    "# Accessing pandas series\n",
    "\n",
    "print(groceries[['eggs', 'milk', 'bread']])  # Accessing with indices\n",
    "print(groceries[0])  # Accessing with numerical index\n",
    "\n",
    "print(\"\\n### loc and iloc###\\n\")\n",
    "\n",
    "print(groceries.loc[['eggs', 'bread']])  # location\n",
    "print(groceries.iloc[1])  # integer location\n",
    "\n",
    "print(\"\\n###drop###\\n\")\n",
    "\n",
    "print(groceries.drop('bread'))  # inplace=true to change the actual pandas series\n",
    "print(groceries)"
   ]
  },
  {
   "cell_type": "code",
   "execution_count": 39,
   "metadata": {},
   "outputs": [
    {
     "name": "stdout",
     "output_type": "stream",
     "text": [
      "fruits+2 =  bananas    12\napples     22\noranges    17\ndtype: int64\nbananas+2 =  12\nbananas    3.162278\napples     4.472136\noranges    3.872983\ndtype: float64\n"
     ]
    }
   ],
   "source": [
    "# Arithmetic operations on pandas series\n",
    "\n",
    "fruits = pd.Series(data=[10, 20, 15], index=['bananas', 'apples', 'oranges'])\n",
    "print(\"fruits+2 = \", fruits+2)\n",
    "print(\"bananas+2 = \", fruits['bananas'] + 2)\n",
    "\n",
    "print(np.sqrt(fruits))  # Using numpy with the pandas series object"
   ]
  },
  {
   "cell_type": "markdown",
   "metadata": {},
   "source": [
    "### Pandas DataFrame"
   ]
  },
  {
   "cell_type": "code",
   "execution_count": 40,
   "metadata": {},
   "outputs": [
    {
     "name": "stdout",
     "output_type": "stream",
     "text": [
      "255\n"
     ]
    }
   ],
   "source": [
    "# Creating a Pandas DataFrame Object\n",
    "import pandas as pd\n",
    "\n",
    "items = {'bob': pd.Series(data=[255, 110, 55, 350], index=['watch', 'ipad', 'macbook', 'homepod']),\n",
    "         'alice': pd.Series(data=[100, 200, 10, 1000], index=['watch', 'ipad', 'macbook', 'imac'])\n",
    "         }\n",
    "type(items)  # dict\n",
    "print(items['bob']['watch'])"
   ]
  },
  {
   "cell_type": "code",
   "execution_count": 41,
   "metadata": {},
   "outputs": [
    {
     "data": {
      "text/html": [
       "<div>\n",
       "<style scoped>\n",
       "    .dataframe tbody tr th:only-of-type {\n",
       "        vertical-align: middle;\n",
       "    }\n",
       "\n",
       "    .dataframe tbody tr th {\n",
       "        vertical-align: top;\n",
       "    }\n",
       "\n",
       "    .dataframe thead th {\n",
       "        text-align: right;\n",
       "    }\n",
       "</style>\n",
       "<table border=\"1\" class=\"dataframe\">\n",
       "  <thead>\n",
       "    <tr style=\"text-align: right;\">\n",
       "      <th></th>\n",
       "      <th>alice</th>\n",
       "      <th>bob</th>\n",
       "    </tr>\n",
       "  </thead>\n",
       "  <tbody>\n",
       "    <tr>\n",
       "      <th>homepod</th>\n",
       "      <td>NaN</td>\n",
       "      <td>350.0</td>\n",
       "    </tr>\n",
       "    <tr>\n",
       "      <th>imac</th>\n",
       "      <td>1000.0</td>\n",
       "      <td>NaN</td>\n",
       "    </tr>\n",
       "    <tr>\n",
       "      <th>ipad</th>\n",
       "      <td>200.0</td>\n",
       "      <td>110.0</td>\n",
       "    </tr>\n",
       "    <tr>\n",
       "      <th>macbook</th>\n",
       "      <td>10.0</td>\n",
       "      <td>55.0</td>\n",
       "    </tr>\n",
       "    <tr>\n",
       "      <th>watch</th>\n",
       "      <td>100.0</td>\n",
       "      <td>255.0</td>\n",
       "    </tr>\n",
       "  </tbody>\n",
       "</table>\n",
       "</div>"
      ],
      "text/plain": [
       "<div>\n",
       "<style scoped>\n",
       "    .dataframe tbody tr th:only-of-type {\n",
       "        vertical-align: middle;\n",
       "    }\n",
       "\n",
       "    .dataframe tbody tr th {\n",
       "        vertical-align: top;\n",
       "    }\n",
       "\n",
       "    .dataframe thead th {\n",
       "        text-align: right;\n",
       "    }\n",
       "</style>\n",
       "<table border=\"1\" class=\"dataframe\">\n",
       "  <thead>\n",
       "    <tr style=\"text-align: right;\">\n",
       "      <th></th>\n",
       "      <th>alice</th>\n",
       "      <th>bob</th>\n",
       "    </tr>\n",
       "  </thead>\n",
       "  <tbody>\n",
       "    <tr>\n",
       "      <th>homepod</th>\n",
       "      <td>NaN</td>\n",
       "      <td>350.0</td>\n",
       "    </tr>\n",
       "    <tr>\n",
       "      <th>imac</th>\n",
       "      <td>1000.0</td>\n",
       "      <td>NaN</td>\n",
       "    </tr>\n",
       "    <tr>\n",
       "      <th>ipad</th>\n",
       "      <td>200.0</td>\n",
       "      <td>110.0</td>\n",
       "    </tr>\n",
       "    <tr>\n",
       "      <th>macbook</th>\n",
       "      <td>10.0</td>\n",
       "      <td>55.0</td>\n",
       "    </tr>\n",
       "    <tr>\n",
       "      <th>watch</th>\n",
       "      <td>100.0</td>\n",
       "      <td>255.0</td>\n",
       "    </tr>\n",
       "  </tbody>\n",
       "</table>\n",
       "</div>"
      ]
     },
     "execution_count": 41,
     "metadata": {},
     "output_type": "execute_result"
    }
   ],
   "source": [
    "shopping_cart = pd.DataFrame(items)\n",
    "shopping_cart"
   ]
  },
  {
   "cell_type": "code",
   "execution_count": 42,
   "metadata": {},
   "outputs": [
    {
     "name": "stdout",
     "output_type": "stream",
     "text": [
      "values:  [[  nan  350.]\n [1000.   nan]\n [ 200.  110.]\n [  10.   55.]\n [ 100.  255.]]\nindices:  Index(['homepod', 'imac', 'ipad', 'macbook', 'watch'], dtype='object')\ncolumns:  Index(['alice', 'bob'], dtype='object')\n"
     ]
    }
   ],
   "source": [
    "print(\"values: \", shopping_cart.values)\n",
    "print(\"indices: \", shopping_cart.index)\n",
    "print(\"columns: \", shopping_cart.columns)"
   ]
  },
  {
   "cell_type": "code",
   "execution_count": 43,
   "metadata": {},
   "outputs": [
    {
     "name": "stdout",
     "output_type": "stream",
     "text": [
      "          alice\nhomepod     NaN\nimac     1000.0\nipad      200.0\nmacbook    10.0\nwatch     100.0\n\n1000.0\n\n       alice  bob\nimac  1000.0  NaN\n"
     ]
    }
   ],
   "source": [
    "# Accessing the pandas DataFrame\n",
    "print(shopping_cart[['alice']])\n",
    "\n",
    "print()\n",
    "\n",
    "print(shopping_cart['alice']['imac'])\n",
    "\n",
    "print()\n",
    "\n",
    "print(shopping_cart.loc[['imac']])"
   ]
  },
  {
   "cell_type": "code",
   "execution_count": 44,
   "metadata": {},
   "outputs": [
    {
     "data": {
      "text/html": [
       "<div>\n",
       "<style scoped>\n",
       "    .dataframe tbody tr th:only-of-type {\n",
       "        vertical-align: middle;\n",
       "    }\n",
       "\n",
       "    .dataframe tbody tr th {\n",
       "        vertical-align: top;\n",
       "    }\n",
       "\n",
       "    .dataframe thead th {\n",
       "        text-align: right;\n",
       "    }\n",
       "</style>\n",
       "<table border=\"1\" class=\"dataframe\">\n",
       "  <thead>\n",
       "    <tr style=\"text-align: right;\">\n",
       "      <th></th>\n",
       "      <th>alice</th>\n",
       "      <th>bob</th>\n",
       "      <th>dan</th>\n",
       "    </tr>\n",
       "  </thead>\n",
       "  <tbody>\n",
       "    <tr>\n",
       "      <th>homepod</th>\n",
       "      <td>NaN</td>\n",
       "      <td>350.0</td>\n",
       "      <td>1</td>\n",
       "    </tr>\n",
       "    <tr>\n",
       "      <th>imac</th>\n",
       "      <td>1000.0</td>\n",
       "      <td>NaN</td>\n",
       "      <td>2</td>\n",
       "    </tr>\n",
       "    <tr>\n",
       "      <th>ipad</th>\n",
       "      <td>200.0</td>\n",
       "      <td>110.0</td>\n",
       "      <td>3</td>\n",
       "    </tr>\n",
       "    <tr>\n",
       "      <th>macbook</th>\n",
       "      <td>10.0</td>\n",
       "      <td>55.0</td>\n",
       "      <td>4</td>\n",
       "    </tr>\n",
       "    <tr>\n",
       "      <th>watch</th>\n",
       "      <td>100.0</td>\n",
       "      <td>255.0</td>\n",
       "      <td>5</td>\n",
       "    </tr>\n",
       "  </tbody>\n",
       "</table>\n",
       "</div>"
      ],
      "text/plain": [
       "<div>\n",
       "<style scoped>\n",
       "    .dataframe tbody tr th:only-of-type {\n",
       "        vertical-align: middle;\n",
       "    }\n",
       "\n",
       "    .dataframe tbody tr th {\n",
       "        vertical-align: top;\n",
       "    }\n",
       "\n",
       "    .dataframe thead th {\n",
       "        text-align: right;\n",
       "    }\n",
       "</style>\n",
       "<table border=\"1\" class=\"dataframe\">\n",
       "  <thead>\n",
       "    <tr style=\"text-align: right;\">\n",
       "      <th></th>\n",
       "      <th>alice</th>\n",
       "      <th>bob</th>\n",
       "      <th>dan</th>\n",
       "    </tr>\n",
       "  </thead>\n",
       "  <tbody>\n",
       "    <tr>\n",
       "      <th>homepod</th>\n",
       "      <td>NaN</td>\n",
       "      <td>350.0</td>\n",
       "      <td>1</td>\n",
       "    </tr>\n",
       "    <tr>\n",
       "      <th>imac</th>\n",
       "      <td>1000.0</td>\n",
       "      <td>NaN</td>\n",
       "      <td>2</td>\n",
       "    </tr>\n",
       "    <tr>\n",
       "      <th>ipad</th>\n",
       "      <td>200.0</td>\n",
       "      <td>110.0</td>\n",
       "      <td>3</td>\n",
       "    </tr>\n",
       "    <tr>\n",
       "      <th>macbook</th>\n",
       "      <td>10.0</td>\n",
       "      <td>55.0</td>\n",
       "      <td>4</td>\n",
       "    </tr>\n",
       "    <tr>\n",
       "      <th>watch</th>\n",
       "      <td>100.0</td>\n",
       "      <td>255.0</td>\n",
       "      <td>5</td>\n",
       "    </tr>\n",
       "  </tbody>\n",
       "</table>\n",
       "</div>"
      ]
     },
     "execution_count": 44,
     "metadata": {},
     "output_type": "execute_result"
    }
   ],
   "source": [
    "shopping_cart['dan'] = [1, 2, 3, 4, 5]\n",
    "shopping_cart"
   ]
  },
  {
   "cell_type": "code",
   "execution_count": 45,
   "metadata": {},
   "outputs": [
    {
     "data": {
      "text/html": [
       "<div>\n",
       "<style scoped>\n",
       "    .dataframe tbody tr th:only-of-type {\n",
       "        vertical-align: middle;\n",
       "    }\n",
       "\n",
       "    .dataframe tbody tr th {\n",
       "        vertical-align: top;\n",
       "    }\n",
       "\n",
       "    .dataframe thead th {\n",
       "        text-align: right;\n",
       "    }\n",
       "</style>\n",
       "<table border=\"1\" class=\"dataframe\">\n",
       "  <thead>\n",
       "    <tr style=\"text-align: right;\">\n",
       "      <th></th>\n",
       "      <th>alice</th>\n",
       "      <th>bob</th>\n",
       "      <th>dan</th>\n",
       "      <th>new_guy</th>\n",
       "    </tr>\n",
       "  </thead>\n",
       "  <tbody>\n",
       "    <tr>\n",
       "      <th>homepod</th>\n",
       "      <td>NaN</td>\n",
       "      <td>350.0</td>\n",
       "      <td>1</td>\n",
       "      <td>NaN</td>\n",
       "    </tr>\n",
       "    <tr>\n",
       "      <th>imac</th>\n",
       "      <td>1000.0</td>\n",
       "      <td>NaN</td>\n",
       "      <td>2</td>\n",
       "      <td>NaN</td>\n",
       "    </tr>\n",
       "    <tr>\n",
       "      <th>ipad</th>\n",
       "      <td>200.0</td>\n",
       "      <td>110.0</td>\n",
       "      <td>3</td>\n",
       "      <td>310.0</td>\n",
       "    </tr>\n",
       "    <tr>\n",
       "      <th>macbook</th>\n",
       "      <td>10.0</td>\n",
       "      <td>55.0</td>\n",
       "      <td>4</td>\n",
       "      <td>65.0</td>\n",
       "    </tr>\n",
       "    <tr>\n",
       "      <th>watch</th>\n",
       "      <td>100.0</td>\n",
       "      <td>255.0</td>\n",
       "      <td>5</td>\n",
       "      <td>355.0</td>\n",
       "    </tr>\n",
       "  </tbody>\n",
       "</table>\n",
       "</div>"
      ],
      "text/plain": [
       "<div>\n",
       "<style scoped>\n",
       "    .dataframe tbody tr th:only-of-type {\n",
       "        vertical-align: middle;\n",
       "    }\n",
       "\n",
       "    .dataframe tbody tr th {\n",
       "        vertical-align: top;\n",
       "    }\n",
       "\n",
       "    .dataframe thead th {\n",
       "        text-align: right;\n",
       "    }\n",
       "</style>\n",
       "<table border=\"1\" class=\"dataframe\">\n",
       "  <thead>\n",
       "    <tr style=\"text-align: right;\">\n",
       "      <th></th>\n",
       "      <th>alice</th>\n",
       "      <th>bob</th>\n",
       "      <th>dan</th>\n",
       "      <th>new_guy</th>\n",
       "    </tr>\n",
       "  </thead>\n",
       "  <tbody>\n",
       "    <tr>\n",
       "      <th>homepod</th>\n",
       "      <td>NaN</td>\n",
       "      <td>350.0</td>\n",
       "      <td>1</td>\n",
       "      <td>NaN</td>\n",
       "    </tr>\n",
       "    <tr>\n",
       "      <th>imac</th>\n",
       "      <td>1000.0</td>\n",
       "      <td>NaN</td>\n",
       "      <td>2</td>\n",
       "      <td>NaN</td>\n",
       "    </tr>\n",
       "    <tr>\n",
       "      <th>ipad</th>\n",
       "      <td>200.0</td>\n",
       "      <td>110.0</td>\n",
       "      <td>3</td>\n",
       "      <td>310.0</td>\n",
       "    </tr>\n",
       "    <tr>\n",
       "      <th>macbook</th>\n",
       "      <td>10.0</td>\n",
       "      <td>55.0</td>\n",
       "      <td>4</td>\n",
       "      <td>65.0</td>\n",
       "    </tr>\n",
       "    <tr>\n",
       "      <th>watch</th>\n",
       "      <td>100.0</td>\n",
       "      <td>255.0</td>\n",
       "      <td>5</td>\n",
       "      <td>355.0</td>\n",
       "    </tr>\n",
       "  </tbody>\n",
       "</table>\n",
       "</div>"
      ]
     },
     "execution_count": 45,
     "metadata": {},
     "output_type": "execute_result"
    }
   ],
   "source": [
    "shopping_cart['new_guy'] = shopping_cart['bob'] + shopping_cart['alice']\n",
    "shopping_cart"
   ]
  },
  {
   "cell_type": "code",
   "execution_count": 46,
   "metadata": {},
   "outputs": [
    {
     "data": {
      "text/plain": [
       "alice      1\nbob        1\ndan        0\nnew_guy    2\ndtype: int64"
      ]
     },
     "execution_count": 46,
     "metadata": {},
     "output_type": "execute_result"
    }
   ],
   "source": [
    "# Dealing with NaN\n",
    "\n",
    "shopping_cart.isnull().sum()  # 1. sum gives us the sum per column"
   ]
  },
  {
   "cell_type": "code",
   "execution_count": 47,
   "metadata": {},
   "outputs": [
    {
     "data": {
      "text/plain": [
       "alice      4\nbob        4\ndan        5\nnew_guy    3\ndtype: int64"
      ]
     },
     "execution_count": 47,
     "metadata": {},
     "output_type": "execute_result"
    }
   ],
   "source": [
    "shopping_cart.count()  # Not NaN values"
   ]
  },
  {
   "cell_type": "code",
   "execution_count": 48,
   "metadata": {},
   "outputs": [
    {
     "data": {
      "text/html": [
       "<div>\n",
       "<style scoped>\n",
       "    .dataframe tbody tr th:only-of-type {\n",
       "        vertical-align: middle;\n",
       "    }\n",
       "\n",
       "    .dataframe tbody tr th {\n",
       "        vertical-align: top;\n",
       "    }\n",
       "\n",
       "    .dataframe thead th {\n",
       "        text-align: right;\n",
       "    }\n",
       "</style>\n",
       "<table border=\"1\" class=\"dataframe\">\n",
       "  <thead>\n",
       "    <tr style=\"text-align: right;\">\n",
       "      <th></th>\n",
       "      <th>alice</th>\n",
       "      <th>bob</th>\n",
       "      <th>dan</th>\n",
       "      <th>new_guy</th>\n",
       "    </tr>\n",
       "  </thead>\n",
       "  <tbody>\n",
       "    <tr>\n",
       "      <th>ipad</th>\n",
       "      <td>200.0</td>\n",
       "      <td>110.0</td>\n",
       "      <td>3</td>\n",
       "      <td>310.0</td>\n",
       "    </tr>\n",
       "    <tr>\n",
       "      <th>macbook</th>\n",
       "      <td>10.0</td>\n",
       "      <td>55.0</td>\n",
       "      <td>4</td>\n",
       "      <td>65.0</td>\n",
       "    </tr>\n",
       "    <tr>\n",
       "      <th>watch</th>\n",
       "      <td>100.0</td>\n",
       "      <td>255.0</td>\n",
       "      <td>5</td>\n",
       "      <td>355.0</td>\n",
       "    </tr>\n",
       "  </tbody>\n",
       "</table>\n",
       "</div>"
      ],
      "text/plain": [
       "<div>\n",
       "<style scoped>\n",
       "    .dataframe tbody tr th:only-of-type {\n",
       "        vertical-align: middle;\n",
       "    }\n",
       "\n",
       "    .dataframe tbody tr th {\n",
       "        vertical-align: top;\n",
       "    }\n",
       "\n",
       "    .dataframe thead th {\n",
       "        text-align: right;\n",
       "    }\n",
       "</style>\n",
       "<table border=\"1\" class=\"dataframe\">\n",
       "  <thead>\n",
       "    <tr style=\"text-align: right;\">\n",
       "      <th></th>\n",
       "      <th>alice</th>\n",
       "      <th>bob</th>\n",
       "      <th>dan</th>\n",
       "      <th>new_guy</th>\n",
       "    </tr>\n",
       "  </thead>\n",
       "  <tbody>\n",
       "    <tr>\n",
       "      <th>ipad</th>\n",
       "      <td>200.0</td>\n",
       "      <td>110.0</td>\n",
       "      <td>3</td>\n",
       "      <td>310.0</td>\n",
       "    </tr>\n",
       "    <tr>\n",
       "      <th>macbook</th>\n",
       "      <td>10.0</td>\n",
       "      <td>55.0</td>\n",
       "      <td>4</td>\n",
       "      <td>65.0</td>\n",
       "    </tr>\n",
       "    <tr>\n",
       "      <th>watch</th>\n",
       "      <td>100.0</td>\n",
       "      <td>255.0</td>\n",
       "      <td>5</td>\n",
       "      <td>355.0</td>\n",
       "    </tr>\n",
       "  </tbody>\n",
       "</table>\n",
       "</div>"
      ]
     },
     "execution_count": 48,
     "metadata": {},
     "output_type": "execute_result"
    }
   ],
   "source": [
    "shopping_cart.dropna(axis=0)  # axis = 0 drops all rows, axis = 1 drops all columns"
   ]
  },
  {
   "cell_type": "code",
   "execution_count": 49,
   "metadata": {},
   "outputs": [
    {
     "data": {
      "text/html": [
       "<div>\n",
       "<style scoped>\n",
       "    .dataframe tbody tr th:only-of-type {\n",
       "        vertical-align: middle;\n",
       "    }\n",
       "\n",
       "    .dataframe tbody tr th {\n",
       "        vertical-align: top;\n",
       "    }\n",
       "\n",
       "    .dataframe thead th {\n",
       "        text-align: right;\n",
       "    }\n",
       "</style>\n",
       "<table border=\"1\" class=\"dataframe\">\n",
       "  <thead>\n",
       "    <tr style=\"text-align: right;\">\n",
       "      <th></th>\n",
       "      <th>alice</th>\n",
       "      <th>bob</th>\n",
       "      <th>dan</th>\n",
       "      <th>new_guy</th>\n",
       "    </tr>\n",
       "  </thead>\n",
       "  <tbody>\n",
       "    <tr>\n",
       "      <th>homepod</th>\n",
       "      <td>0.0</td>\n",
       "      <td>350.0</td>\n",
       "      <td>1</td>\n",
       "      <td>0.0</td>\n",
       "    </tr>\n",
       "    <tr>\n",
       "      <th>imac</th>\n",
       "      <td>1000.0</td>\n",
       "      <td>0.0</td>\n",
       "      <td>2</td>\n",
       "      <td>0.0</td>\n",
       "    </tr>\n",
       "    <tr>\n",
       "      <th>ipad</th>\n",
       "      <td>200.0</td>\n",
       "      <td>110.0</td>\n",
       "      <td>3</td>\n",
       "      <td>310.0</td>\n",
       "    </tr>\n",
       "    <tr>\n",
       "      <th>macbook</th>\n",
       "      <td>10.0</td>\n",
       "      <td>55.0</td>\n",
       "      <td>4</td>\n",
       "      <td>65.0</td>\n",
       "    </tr>\n",
       "    <tr>\n",
       "      <th>watch</th>\n",
       "      <td>100.0</td>\n",
       "      <td>255.0</td>\n",
       "      <td>5</td>\n",
       "      <td>355.0</td>\n",
       "    </tr>\n",
       "  </tbody>\n",
       "</table>\n",
       "</div>"
      ],
      "text/plain": [
       "<div>\n",
       "<style scoped>\n",
       "    .dataframe tbody tr th:only-of-type {\n",
       "        vertical-align: middle;\n",
       "    }\n",
       "\n",
       "    .dataframe tbody tr th {\n",
       "        vertical-align: top;\n",
       "    }\n",
       "\n",
       "    .dataframe thead th {\n",
       "        text-align: right;\n",
       "    }\n",
       "</style>\n",
       "<table border=\"1\" class=\"dataframe\">\n",
       "  <thead>\n",
       "    <tr style=\"text-align: right;\">\n",
       "      <th></th>\n",
       "      <th>alice</th>\n",
       "      <th>bob</th>\n",
       "      <th>dan</th>\n",
       "      <th>new_guy</th>\n",
       "    </tr>\n",
       "  </thead>\n",
       "  <tbody>\n",
       "    <tr>\n",
       "      <th>homepod</th>\n",
       "      <td>0.0</td>\n",
       "      <td>350.0</td>\n",
       "      <td>1</td>\n",
       "      <td>0.0</td>\n",
       "    </tr>\n",
       "    <tr>\n",
       "      <th>imac</th>\n",
       "      <td>1000.0</td>\n",
       "      <td>0.0</td>\n",
       "      <td>2</td>\n",
       "      <td>0.0</td>\n",
       "    </tr>\n",
       "    <tr>\n",
       "      <th>ipad</th>\n",
       "      <td>200.0</td>\n",
       "      <td>110.0</td>\n",
       "      <td>3</td>\n",
       "      <td>310.0</td>\n",
       "    </tr>\n",
       "    <tr>\n",
       "      <th>macbook</th>\n",
       "      <td>10.0</td>\n",
       "      <td>55.0</td>\n",
       "      <td>4</td>\n",
       "      <td>65.0</td>\n",
       "    </tr>\n",
       "    <tr>\n",
       "      <th>watch</th>\n",
       "      <td>100.0</td>\n",
       "      <td>255.0</td>\n",
       "      <td>5</td>\n",
       "      <td>355.0</td>\n",
       "    </tr>\n",
       "  </tbody>\n",
       "</table>\n",
       "</div>"
      ]
     },
     "execution_count": 49,
     "metadata": {},
     "output_type": "execute_result"
    }
   ],
   "source": [
    "shopping_cart.fillna(0)"
   ]
  },
  {
   "cell_type": "code",
   "execution_count": 50,
   "metadata": {},
   "outputs": [
    {
     "data": {
      "text/html": [
       "<div>\n",
       "<style scoped>\n",
       "    .dataframe tbody tr th:only-of-type {\n",
       "        vertical-align: middle;\n",
       "    }\n",
       "\n",
       "    .dataframe tbody tr th {\n",
       "        vertical-align: top;\n",
       "    }\n",
       "\n",
       "    .dataframe thead th {\n",
       "        text-align: right;\n",
       "    }\n",
       "</style>\n",
       "<table border=\"1\" class=\"dataframe\">\n",
       "  <thead>\n",
       "    <tr style=\"text-align: right;\">\n",
       "      <th></th>\n",
       "      <th>alice</th>\n",
       "      <th>bob</th>\n",
       "      <th>dan</th>\n",
       "      <th>new_guy</th>\n",
       "    </tr>\n",
       "  </thead>\n",
       "  <tbody>\n",
       "    <tr>\n",
       "      <th>homepod</th>\n",
       "      <td>NaN</td>\n",
       "      <td>350.0</td>\n",
       "      <td>1.0</td>\n",
       "      <td>1.0</td>\n",
       "    </tr>\n",
       "    <tr>\n",
       "      <th>imac</th>\n",
       "      <td>1000.0</td>\n",
       "      <td>1000.0</td>\n",
       "      <td>2.0</td>\n",
       "      <td>2.0</td>\n",
       "    </tr>\n",
       "    <tr>\n",
       "      <th>ipad</th>\n",
       "      <td>200.0</td>\n",
       "      <td>110.0</td>\n",
       "      <td>3.0</td>\n",
       "      <td>310.0</td>\n",
       "    </tr>\n",
       "    <tr>\n",
       "      <th>macbook</th>\n",
       "      <td>10.0</td>\n",
       "      <td>55.0</td>\n",
       "      <td>4.0</td>\n",
       "      <td>65.0</td>\n",
       "    </tr>\n",
       "    <tr>\n",
       "      <th>watch</th>\n",
       "      <td>100.0</td>\n",
       "      <td>255.0</td>\n",
       "      <td>5.0</td>\n",
       "      <td>355.0</td>\n",
       "    </tr>\n",
       "  </tbody>\n",
       "</table>\n",
       "</div>"
      ],
      "text/plain": [
       "<div>\n",
       "<style scoped>\n",
       "    .dataframe tbody tr th:only-of-type {\n",
       "        vertical-align: middle;\n",
       "    }\n",
       "\n",
       "    .dataframe tbody tr th {\n",
       "        vertical-align: top;\n",
       "    }\n",
       "\n",
       "    .dataframe thead th {\n",
       "        text-align: right;\n",
       "    }\n",
       "</style>\n",
       "<table border=\"1\" class=\"dataframe\">\n",
       "  <thead>\n",
       "    <tr style=\"text-align: right;\">\n",
       "      <th></th>\n",
       "      <th>alice</th>\n",
       "      <th>bob</th>\n",
       "      <th>dan</th>\n",
       "      <th>new_guy</th>\n",
       "    </tr>\n",
       "  </thead>\n",
       "  <tbody>\n",
       "    <tr>\n",
       "      <th>homepod</th>\n",
       "      <td>NaN</td>\n",
       "      <td>350.0</td>\n",
       "      <td>1.0</td>\n",
       "      <td>1.0</td>\n",
       "    </tr>\n",
       "    <tr>\n",
       "      <th>imac</th>\n",
       "      <td>1000.0</td>\n",
       "      <td>1000.0</td>\n",
       "      <td>2.0</td>\n",
       "      <td>2.0</td>\n",
       "    </tr>\n",
       "    <tr>\n",
       "      <th>ipad</th>\n",
       "      <td>200.0</td>\n",
       "      <td>110.0</td>\n",
       "      <td>3.0</td>\n",
       "      <td>310.0</td>\n",
       "    </tr>\n",
       "    <tr>\n",
       "      <th>macbook</th>\n",
       "      <td>10.0</td>\n",
       "      <td>55.0</td>\n",
       "      <td>4.0</td>\n",
       "      <td>65.0</td>\n",
       "    </tr>\n",
       "    <tr>\n",
       "      <th>watch</th>\n",
       "      <td>100.0</td>\n",
       "      <td>255.0</td>\n",
       "      <td>5.0</td>\n",
       "      <td>355.0</td>\n",
       "    </tr>\n",
       "  </tbody>\n",
       "</table>\n",
       "</div>"
      ]
     },
     "execution_count": 50,
     "metadata": {},
     "output_type": "execute_result"
    }
   ],
   "source": [
    "shopping_cart.fillna(method='ffill', axis=1)  # axis = 0 ffills all column, axis = 1 ffills all row"
   ]
  },
  {
   "cell_type": "code",
   "execution_count": 51,
   "metadata": {},
   "outputs": [
    {
     "data": {
      "text/html": [
       "<div>\n",
       "<style scoped>\n",
       "    .dataframe tbody tr th:only-of-type {\n",
       "        vertical-align: middle;\n",
       "    }\n",
       "\n",
       "    .dataframe tbody tr th {\n",
       "        vertical-align: top;\n",
       "    }\n",
       "\n",
       "    .dataframe thead th {\n",
       "        text-align: right;\n",
       "    }\n",
       "</style>\n",
       "<table border=\"1\" class=\"dataframe\">\n",
       "  <thead>\n",
       "    <tr style=\"text-align: right;\">\n",
       "      <th></th>\n",
       "      <th>alice</th>\n",
       "      <th>bob</th>\n",
       "      <th>dan</th>\n",
       "      <th>new_guy</th>\n",
       "    </tr>\n",
       "  </thead>\n",
       "  <tbody>\n",
       "    <tr>\n",
       "      <th>homepod</th>\n",
       "      <td>NaN</td>\n",
       "      <td>350.0</td>\n",
       "      <td>1.0</td>\n",
       "      <td>1.0</td>\n",
       "    </tr>\n",
       "    <tr>\n",
       "      <th>imac</th>\n",
       "      <td>1000.0</td>\n",
       "      <td>501.0</td>\n",
       "      <td>2.0</td>\n",
       "      <td>2.0</td>\n",
       "    </tr>\n",
       "    <tr>\n",
       "      <th>ipad</th>\n",
       "      <td>200.0</td>\n",
       "      <td>110.0</td>\n",
       "      <td>3.0</td>\n",
       "      <td>310.0</td>\n",
       "    </tr>\n",
       "    <tr>\n",
       "      <th>macbook</th>\n",
       "      <td>10.0</td>\n",
       "      <td>55.0</td>\n",
       "      <td>4.0</td>\n",
       "      <td>65.0</td>\n",
       "    </tr>\n",
       "    <tr>\n",
       "      <th>watch</th>\n",
       "      <td>100.0</td>\n",
       "      <td>255.0</td>\n",
       "      <td>5.0</td>\n",
       "      <td>355.0</td>\n",
       "    </tr>\n",
       "  </tbody>\n",
       "</table>\n",
       "</div>"
      ],
      "text/plain": [
       "<div>\n",
       "<style scoped>\n",
       "    .dataframe tbody tr th:only-of-type {\n",
       "        vertical-align: middle;\n",
       "    }\n",
       "\n",
       "    .dataframe tbody tr th {\n",
       "        vertical-align: top;\n",
       "    }\n",
       "\n",
       "    .dataframe thead th {\n",
       "        text-align: right;\n",
       "    }\n",
       "</style>\n",
       "<table border=\"1\" class=\"dataframe\">\n",
       "  <thead>\n",
       "    <tr style=\"text-align: right;\">\n",
       "      <th></th>\n",
       "      <th>alice</th>\n",
       "      <th>bob</th>\n",
       "      <th>dan</th>\n",
       "      <th>new_guy</th>\n",
       "    </tr>\n",
       "  </thead>\n",
       "  <tbody>\n",
       "    <tr>\n",
       "      <th>homepod</th>\n",
       "      <td>NaN</td>\n",
       "      <td>350.0</td>\n",
       "      <td>1.0</td>\n",
       "      <td>1.0</td>\n",
       "    </tr>\n",
       "    <tr>\n",
       "      <th>imac</th>\n",
       "      <td>1000.0</td>\n",
       "      <td>501.0</td>\n",
       "      <td>2.0</td>\n",
       "      <td>2.0</td>\n",
       "    </tr>\n",
       "    <tr>\n",
       "      <th>ipad</th>\n",
       "      <td>200.0</td>\n",
       "      <td>110.0</td>\n",
       "      <td>3.0</td>\n",
       "      <td>310.0</td>\n",
       "    </tr>\n",
       "    <tr>\n",
       "      <th>macbook</th>\n",
       "      <td>10.0</td>\n",
       "      <td>55.0</td>\n",
       "      <td>4.0</td>\n",
       "      <td>65.0</td>\n",
       "    </tr>\n",
       "    <tr>\n",
       "      <th>watch</th>\n",
       "      <td>100.0</td>\n",
       "      <td>255.0</td>\n",
       "      <td>5.0</td>\n",
       "      <td>355.0</td>\n",
       "    </tr>\n",
       "  </tbody>\n",
       "</table>\n",
       "</div>"
      ]
     },
     "execution_count": 51,
     "metadata": {},
     "output_type": "execute_result"
    }
   ],
   "source": [
    "shopping_cart.interpolate(method='linear', axis=1)"
   ]
  },
  {
   "cell_type": "markdown",
   "metadata": {},
   "source": [
    "#### Loading Data into a pandas DataFrame"
   ]
  },
  {
   "cell_type": "code",
   "execution_count": 52,
   "metadata": {},
   "outputs": [
    {
     "name": "stdout",
     "output_type": "stream",
     "text": [
      "            Date        Open        High         Low       Close   Adj Close  \\\n0     2004-08-19   49.676899   51.693783   47.669952   49.845802   49.845802   \n1     2004-08-20   50.178635   54.187561   49.925285   53.805050   53.805050   \n2     2004-08-23   55.017166   56.373344   54.172661   54.346527   54.346527   \n3     2004-08-24   55.260582   55.439419   51.450363   52.096165   52.096165   \n4     2004-08-25   52.140873   53.651051   51.604362   52.657513   52.657513   \n5     2004-08-26   52.135906   53.626213   51.991844   53.606342   53.606342   \n6     2004-08-27   53.700729   53.959049   52.503513   52.732029   52.732029   \n7     2004-08-30   52.299839   52.404160   50.675404   50.675404   50.675404   \n8     2004-08-31   50.819469   51.519913   50.749920   50.854240   50.854240   \n9     2004-09-01   51.018177   51.152302   49.512966   49.801090   49.801090   \n10    2004-09-02   49.274517   50.854240   49.150326   50.427021   50.427021   \n11    2004-09-03   50.148830   50.541279   49.339096   49.681866   49.681866   \n12    2004-09-07   50.178635   50.670437   49.483158   50.461796   50.461796   \n13    2004-09-08   50.044510   51.182110   49.925285   50.819469   50.819469   \n14    2004-09-09   50.933723   51.023144   50.173668   50.824436   50.824436   \n15    2004-09-10   50.471729   52.935703   50.322701   52.324677   52.324677   \n16    2004-09-13   52.970478   53.854729   52.886028   53.402668   53.402668   \n17    2004-09-14   53.377831   55.638126   53.049961   55.384777   55.384777   \n18    2004-09-15   54.922779   56.745922   54.743942   55.638126   55.638126   \n19    2004-09-16   55.807030   57.525848   55.464260   56.616764   56.616764   \n20    2004-09-17   56.840309   58.365391   56.408119   58.365391   58.365391   \n21    2004-09-20   58.097134   60.407108   58.007717   59.294346   59.294346   \n22    2004-09-21   59.517895   59.820923   58.375324   58.539257   58.539257   \n23    2004-09-22   58.320679   59.448345   58.027588   58.807514   58.807514   \n24    2004-09-23   59.036026   60.918781   58.131908   60.019630   60.019630   \n25    2004-09-24   60.079243   61.649033   59.493053   59.527828   59.527828   \n26    2004-09-27   59.393700   60.049435   58.519386   58.747902   58.747902   \n27    2004-09-28   60.258080   63.288372   59.716602   63.020115   63.020115   \n28    2004-09-29   62.940632   67.073753   62.707150   65.116478   65.116478   \n29    2004-09-30   64.530296   65.722542   64.083199   64.381264   64.381264   \n...          ...         ...         ...         ...         ...         ...   \n3283  2017-09-01  941.130005  942.479980  935.150024  937.340027  937.340027   \n3284  2017-09-05  933.080017  937.000000  921.960022  928.450012  928.450012   \n3285  2017-09-06  930.150024  930.914978  919.270020  927.809998  927.809998   \n3286  2017-09-07  931.729980  936.409973  923.619995  935.950012  935.950012   \n3287  2017-09-08  936.489990  936.989990  924.880005  926.500000  926.500000   \n3288  2017-09-11  934.250000  938.380005  926.919983  929.080017  929.080017   \n3289  2017-09-12  932.590027  933.479980  923.861023  932.070007  932.070007   \n3290  2017-09-13  930.659973  937.250000  929.859985  935.090027  935.090027   \n3291  2017-09-14  931.250000  932.770020  924.000000  925.109985  925.109985   \n3292  2017-09-15  924.659973  926.489990  916.359985  920.289978  920.289978   \n3293  2017-09-18  920.010010  922.080017  910.599976  915.000000  915.000000   \n3294  2017-09-19  917.419983  922.419983  912.549988  921.809998  921.809998   \n3295  2017-09-20  922.979980  933.880005  922.000000  931.580017  931.580017   \n3296  2017-09-21  933.000000  936.530029  923.830017  932.450012  932.450012   \n3297  2017-09-22  927.750000  934.729980  926.479980  928.530029  928.530029   \n3298  2017-09-25  925.450012  926.400024  909.700012  920.969971  920.969971   \n3299  2017-09-26  923.719971  930.820007  921.140015  924.859985  924.859985   \n3300  2017-09-27  927.739990  949.900024  927.739990  944.489990  944.489990   \n3301  2017-09-28  941.359985  950.690002  940.549988  949.500000  949.500000   \n3302  2017-09-29  952.000000  959.786011  951.510010  959.109985  959.109985   \n3303  2017-10-02  959.979980  962.539978  947.840027  953.270020  953.270020   \n3304  2017-10-03  954.000000  958.000000  949.140015  957.789978  957.789978   \n3305  2017-10-04  957.000000  960.390015  950.690002  951.679993  951.679993   \n3306  2017-10-05  955.489990  970.909973  955.179993  969.960022  969.960022   \n3307  2017-10-06  966.700012  979.460022  963.359985  978.890015  978.890015   \n3308  2017-10-09  980.000000  985.424988  976.109985  977.000000  977.000000   \n3309  2017-10-10  980.000000  981.570007  966.080017  972.599976  972.599976   \n3310  2017-10-11  973.719971  990.710022  972.250000  989.250000  989.250000   \n3311  2017-10-12  987.450012  994.119995  985.000000  987.830017  987.830017   \n3312  2017-10-13  992.000000  997.210022  989.000000  989.679993  989.679993   \n\n        Volume  \n0     44994500  \n1     23005800  \n2     18393200  \n3     15361800  \n4      9257400  \n5      7148200  \n6      6258300  \n7      5235700  \n8      4954800  \n9      9206800  \n10    15232100  \n11     5191000  \n12     5891300  \n13     5023000  \n14     4092100  \n15     8764200  \n16     7902900  \n17    10910200  \n18    10793500  \n19     9335800  \n20     9543500  \n21    10708500  \n22     7282900  \n23     7638000  \n24     8599600  \n25     9191900  \n26     7119100  \n27    17056100  \n28    30745600  \n29    13861300  \n...        ...  \n3283    947400  \n3284   1326400  \n3285   1527700  \n3286   1212700  \n3287   1011500  \n3288   1267000  \n3289   1134400  \n3290   1102600  \n3291   1397600  \n3292   2505400  \n3293   1306900  \n3294    936700  \n3295   1669800  \n3296   1290600  \n3297   1052700  \n3298   1856800  \n3299   1666900  \n3300   2239400  \n3301   1020300  \n3302   1581000  \n3303   1283400  \n3304    888300  \n3305    952400  \n3306   1213800  \n3307   1173900  \n3308    891400  \n3309    968400  \n3310   1693300  \n3311   1262400  \n3312   1157700  \n\n[3313 rows x 7 columns]\n"
     ]
    }
   ],
   "source": [
    "google_stock = pd.read_csv('AI_Programming_with_Python_Files/goog-1.csv')\n",
    "print(google_stock)"
   ]
  },
  {
   "cell_type": "code",
   "execution_count": 53,
   "metadata": {},
   "outputs": [
    {
     "data": {
      "text/html": [
       "<div>\n",
       "<style scoped>\n",
       "    .dataframe tbody tr th:only-of-type {\n",
       "        vertical-align: middle;\n",
       "    }\n",
       "\n",
       "    .dataframe tbody tr th {\n",
       "        vertical-align: top;\n",
       "    }\n",
       "\n",
       "    .dataframe thead th {\n",
       "        text-align: right;\n",
       "    }\n",
       "</style>\n",
       "<table border=\"1\" class=\"dataframe\">\n",
       "  <thead>\n",
       "    <tr style=\"text-align: right;\">\n",
       "      <th></th>\n",
       "      <th>Open</th>\n",
       "      <th>High</th>\n",
       "      <th>Low</th>\n",
       "      <th>Close</th>\n",
       "      <th>Adj Close</th>\n",
       "      <th>Volume</th>\n",
       "    </tr>\n",
       "  </thead>\n",
       "  <tbody>\n",
       "    <tr>\n",
       "      <th>count</th>\n",
       "      <td>3313.000000</td>\n",
       "      <td>3313.000000</td>\n",
       "      <td>3313.000000</td>\n",
       "      <td>3313.000000</td>\n",
       "      <td>3313.000000</td>\n",
       "      <td>3.313000e+03</td>\n",
       "    </tr>\n",
       "    <tr>\n",
       "      <th>mean</th>\n",
       "      <td>380.186092</td>\n",
       "      <td>383.493740</td>\n",
       "      <td>376.519309</td>\n",
       "      <td>380.072458</td>\n",
       "      <td>380.072458</td>\n",
       "      <td>8.038476e+06</td>\n",
       "    </tr>\n",
       "    <tr>\n",
       "      <th>std</th>\n",
       "      <td>223.818650</td>\n",
       "      <td>224.974534</td>\n",
       "      <td>222.473232</td>\n",
       "      <td>223.853780</td>\n",
       "      <td>223.853780</td>\n",
       "      <td>8.399521e+06</td>\n",
       "    </tr>\n",
       "    <tr>\n",
       "      <th>min</th>\n",
       "      <td>49.274517</td>\n",
       "      <td>50.541279</td>\n",
       "      <td>47.669952</td>\n",
       "      <td>49.681866</td>\n",
       "      <td>49.681866</td>\n",
       "      <td>7.900000e+03</td>\n",
       "    </tr>\n",
       "    <tr>\n",
       "      <th>25%</th>\n",
       "      <td>226.556473</td>\n",
       "      <td>228.394516</td>\n",
       "      <td>224.003082</td>\n",
       "      <td>226.407440</td>\n",
       "      <td>226.407440</td>\n",
       "      <td>2.584900e+06</td>\n",
       "    </tr>\n",
       "    <tr>\n",
       "      <th>50%</th>\n",
       "      <td>293.312286</td>\n",
       "      <td>295.433502</td>\n",
       "      <td>289.929291</td>\n",
       "      <td>293.029114</td>\n",
       "      <td>293.029114</td>\n",
       "      <td>5.281300e+06</td>\n",
       "    </tr>\n",
       "    <tr>\n",
       "      <th>75%</th>\n",
       "      <td>536.650024</td>\n",
       "      <td>540.000000</td>\n",
       "      <td>532.409973</td>\n",
       "      <td>536.690002</td>\n",
       "      <td>536.690002</td>\n",
       "      <td>1.065370e+07</td>\n",
       "    </tr>\n",
       "    <tr>\n",
       "      <th>max</th>\n",
       "      <td>992.000000</td>\n",
       "      <td>997.210022</td>\n",
       "      <td>989.000000</td>\n",
       "      <td>989.679993</td>\n",
       "      <td>989.679993</td>\n",
       "      <td>8.276810e+07</td>\n",
       "    </tr>\n",
       "  </tbody>\n",
       "</table>\n",
       "</div>"
      ],
      "text/plain": [
       "<div>\n",
       "<style scoped>\n",
       "    .dataframe tbody tr th:only-of-type {\n",
       "        vertical-align: middle;\n",
       "    }\n",
       "\n",
       "    .dataframe tbody tr th {\n",
       "        vertical-align: top;\n",
       "    }\n",
       "\n",
       "    .dataframe thead th {\n",
       "        text-align: right;\n",
       "    }\n",
       "</style>\n",
       "<table border=\"1\" class=\"dataframe\">\n",
       "  <thead>\n",
       "    <tr style=\"text-align: right;\">\n",
       "      <th></th>\n",
       "      <th>Open</th>\n",
       "      <th>High</th>\n",
       "      <th>Low</th>\n",
       "      <th>Close</th>\n",
       "      <th>Adj Close</th>\n",
       "      <th>Volume</th>\n",
       "    </tr>\n",
       "  </thead>\n",
       "  <tbody>\n",
       "    <tr>\n",
       "      <th>count</th>\n",
       "      <td>3313.000000</td>\n",
       "      <td>3313.000000</td>\n",
       "      <td>3313.000000</td>\n",
       "      <td>3313.000000</td>\n",
       "      <td>3313.000000</td>\n",
       "      <td>3.313000e+03</td>\n",
       "    </tr>\n",
       "    <tr>\n",
       "      <th>mean</th>\n",
       "      <td>380.186092</td>\n",
       "      <td>383.493740</td>\n",
       "      <td>376.519309</td>\n",
       "      <td>380.072458</td>\n",
       "      <td>380.072458</td>\n",
       "      <td>8.038476e+06</td>\n",
       "    </tr>\n",
       "    <tr>\n",
       "      <th>std</th>\n",
       "      <td>223.818650</td>\n",
       "      <td>224.974534</td>\n",
       "      <td>222.473232</td>\n",
       "      <td>223.853780</td>\n",
       "      <td>223.853780</td>\n",
       "      <td>8.399521e+06</td>\n",
       "    </tr>\n",
       "    <tr>\n",
       "      <th>min</th>\n",
       "      <td>49.274517</td>\n",
       "      <td>50.541279</td>\n",
       "      <td>47.669952</td>\n",
       "      <td>49.681866</td>\n",
       "      <td>49.681866</td>\n",
       "      <td>7.900000e+03</td>\n",
       "    </tr>\n",
       "    <tr>\n",
       "      <th>25%</th>\n",
       "      <td>226.556473</td>\n",
       "      <td>228.394516</td>\n",
       "      <td>224.003082</td>\n",
       "      <td>226.407440</td>\n",
       "      <td>226.407440</td>\n",
       "      <td>2.584900e+06</td>\n",
       "    </tr>\n",
       "    <tr>\n",
       "      <th>50%</th>\n",
       "      <td>293.312286</td>\n",
       "      <td>295.433502</td>\n",
       "      <td>289.929291</td>\n",
       "      <td>293.029114</td>\n",
       "      <td>293.029114</td>\n",
       "      <td>5.281300e+06</td>\n",
       "    </tr>\n",
       "    <tr>\n",
       "      <th>75%</th>\n",
       "      <td>536.650024</td>\n",
       "      <td>540.000000</td>\n",
       "      <td>532.409973</td>\n",
       "      <td>536.690002</td>\n",
       "      <td>536.690002</td>\n",
       "      <td>1.065370e+07</td>\n",
       "    </tr>\n",
       "    <tr>\n",
       "      <th>max</th>\n",
       "      <td>992.000000</td>\n",
       "      <td>997.210022</td>\n",
       "      <td>989.000000</td>\n",
       "      <td>989.679993</td>\n",
       "      <td>989.679993</td>\n",
       "      <td>8.276810e+07</td>\n",
       "    </tr>\n",
       "  </tbody>\n",
       "</table>\n",
       "</div>"
      ]
     },
     "execution_count": 53,
     "metadata": {},
     "output_type": "execute_result"
    }
   ],
   "source": [
    "google_stock.describe()  # For statistical information about the dataset / max,mean,min"
   ]
  },
  {
   "cell_type": "code",
   "execution_count": 54,
   "metadata": {},
   "outputs": [
    {
     "data": {
      "text/html": [
       "<div>\n",
       "<style scoped>\n",
       "    .dataframe tbody tr th:only-of-type {\n",
       "        vertical-align: middle;\n",
       "    }\n",
       "\n",
       "    .dataframe tbody tr th {\n",
       "        vertical-align: top;\n",
       "    }\n",
       "\n",
       "    .dataframe thead th {\n",
       "        text-align: right;\n",
       "    }\n",
       "</style>\n",
       "<table border=\"1\" class=\"dataframe\">\n",
       "  <thead>\n",
       "    <tr style=\"text-align: right;\">\n",
       "      <th></th>\n",
       "      <th>Open</th>\n",
       "      <th>High</th>\n",
       "      <th>Low</th>\n",
       "      <th>Close</th>\n",
       "      <th>Adj Close</th>\n",
       "      <th>Volume</th>\n",
       "    </tr>\n",
       "  </thead>\n",
       "  <tbody>\n",
       "    <tr>\n",
       "      <th>Open</th>\n",
       "      <td>1.000000</td>\n",
       "      <td>0.999904</td>\n",
       "      <td>0.999845</td>\n",
       "      <td>0.999745</td>\n",
       "      <td>0.999745</td>\n",
       "      <td>-0.564258</td>\n",
       "    </tr>\n",
       "    <tr>\n",
       "      <th>High</th>\n",
       "      <td>0.999904</td>\n",
       "      <td>1.000000</td>\n",
       "      <td>0.999834</td>\n",
       "      <td>0.999868</td>\n",
       "      <td>0.999868</td>\n",
       "      <td>-0.562749</td>\n",
       "    </tr>\n",
       "    <tr>\n",
       "      <th>Low</th>\n",
       "      <td>0.999845</td>\n",
       "      <td>0.999834</td>\n",
       "      <td>1.000000</td>\n",
       "      <td>0.999899</td>\n",
       "      <td>0.999899</td>\n",
       "      <td>-0.567007</td>\n",
       "    </tr>\n",
       "    <tr>\n",
       "      <th>Close</th>\n",
       "      <td>0.999745</td>\n",
       "      <td>0.999868</td>\n",
       "      <td>0.999899</td>\n",
       "      <td>1.000000</td>\n",
       "      <td>1.000000</td>\n",
       "      <td>-0.564967</td>\n",
       "    </tr>\n",
       "    <tr>\n",
       "      <th>Adj Close</th>\n",
       "      <td>0.999745</td>\n",
       "      <td>0.999868</td>\n",
       "      <td>0.999899</td>\n",
       "      <td>1.000000</td>\n",
       "      <td>1.000000</td>\n",
       "      <td>-0.564967</td>\n",
       "    </tr>\n",
       "    <tr>\n",
       "      <th>Volume</th>\n",
       "      <td>-0.564258</td>\n",
       "      <td>-0.562749</td>\n",
       "      <td>-0.567007</td>\n",
       "      <td>-0.564967</td>\n",
       "      <td>-0.564967</td>\n",
       "      <td>1.000000</td>\n",
       "    </tr>\n",
       "  </tbody>\n",
       "</table>\n",
       "</div>"
      ],
      "text/plain": [
       "<div>\n",
       "<style scoped>\n",
       "    .dataframe tbody tr th:only-of-type {\n",
       "        vertical-align: middle;\n",
       "    }\n",
       "\n",
       "    .dataframe tbody tr th {\n",
       "        vertical-align: top;\n",
       "    }\n",
       "\n",
       "    .dataframe thead th {\n",
       "        text-align: right;\n",
       "    }\n",
       "</style>\n",
       "<table border=\"1\" class=\"dataframe\">\n",
       "  <thead>\n",
       "    <tr style=\"text-align: right;\">\n",
       "      <th></th>\n",
       "      <th>Open</th>\n",
       "      <th>High</th>\n",
       "      <th>Low</th>\n",
       "      <th>Close</th>\n",
       "      <th>Adj Close</th>\n",
       "      <th>Volume</th>\n",
       "    </tr>\n",
       "  </thead>\n",
       "  <tbody>\n",
       "    <tr>\n",
       "      <th>Open</th>\n",
       "      <td>1.000000</td>\n",
       "      <td>0.999904</td>\n",
       "      <td>0.999845</td>\n",
       "      <td>0.999745</td>\n",
       "      <td>0.999745</td>\n",
       "      <td>-0.564258</td>\n",
       "    </tr>\n",
       "    <tr>\n",
       "      <th>High</th>\n",
       "      <td>0.999904</td>\n",
       "      <td>1.000000</td>\n",
       "      <td>0.999834</td>\n",
       "      <td>0.999868</td>\n",
       "      <td>0.999868</td>\n",
       "      <td>-0.562749</td>\n",
       "    </tr>\n",
       "    <tr>\n",
       "      <th>Low</th>\n",
       "      <td>0.999845</td>\n",
       "      <td>0.999834</td>\n",
       "      <td>1.000000</td>\n",
       "      <td>0.999899</td>\n",
       "      <td>0.999899</td>\n",
       "      <td>-0.567007</td>\n",
       "    </tr>\n",
       "    <tr>\n",
       "      <th>Close</th>\n",
       "      <td>0.999745</td>\n",
       "      <td>0.999868</td>\n",
       "      <td>0.999899</td>\n",
       "      <td>1.000000</td>\n",
       "      <td>1.000000</td>\n",
       "      <td>-0.564967</td>\n",
       "    </tr>\n",
       "    <tr>\n",
       "      <th>Adj Close</th>\n",
       "      <td>0.999745</td>\n",
       "      <td>0.999868</td>\n",
       "      <td>0.999899</td>\n",
       "      <td>1.000000</td>\n",
       "      <td>1.000000</td>\n",
       "      <td>-0.564967</td>\n",
       "    </tr>\n",
       "    <tr>\n",
       "      <th>Volume</th>\n",
       "      <td>-0.564258</td>\n",
       "      <td>-0.562749</td>\n",
       "      <td>-0.567007</td>\n",
       "      <td>-0.564967</td>\n",
       "      <td>-0.564967</td>\n",
       "      <td>1.000000</td>\n",
       "    </tr>\n",
       "  </tbody>\n",
       "</table>\n",
       "</div>"
      ]
     },
     "execution_count": 54,
     "metadata": {},
     "output_type": "execute_result"
    }
   ],
   "source": [
    "google_stock.corr()"
   ]
  },
  {
   "cell_type": "code",
   "execution_count": 56,
   "metadata": {},
   "outputs": [
    {
     "data": {
      "text/html": [
       "<div>\n",
       "<style scoped>\n",
       "    .dataframe tbody tr th:only-of-type {\n",
       "        vertical-align: middle;\n",
       "    }\n",
       "\n",
       "    .dataframe tbody tr th {\n",
       "        vertical-align: top;\n",
       "    }\n",
       "\n",
       "    .dataframe thead th {\n",
       "        text-align: right;\n",
       "    }\n",
       "</style>\n",
       "<table border=\"1\" class=\"dataframe\">\n",
       "  <thead>\n",
       "    <tr style=\"text-align: right;\">\n",
       "      <th></th>\n",
       "      <th>Date</th>\n",
       "      <th>Open</th>\n",
       "      <th>High</th>\n",
       "      <th>Low</th>\n",
       "      <th>Close</th>\n",
       "      <th>Adj Close</th>\n",
       "      <th>Volume</th>\n",
       "    </tr>\n",
       "  </thead>\n",
       "  <tbody>\n",
       "    <tr>\n",
       "      <th>0</th>\n",
       "      <td>2004-08-19</td>\n",
       "      <td>49.676899</td>\n",
       "      <td>51.693783</td>\n",
       "      <td>47.669952</td>\n",
       "      <td>49.845802</td>\n",
       "      <td>49.845802</td>\n",
       "      <td>44994500</td>\n",
       "    </tr>\n",
       "    <tr>\n",
       "      <th>1</th>\n",
       "      <td>2004-08-20</td>\n",
       "      <td>50.178635</td>\n",
       "      <td>54.187561</td>\n",
       "      <td>49.925285</td>\n",
       "      <td>53.805050</td>\n",
       "      <td>53.805050</td>\n",
       "      <td>23005800</td>\n",
       "    </tr>\n",
       "    <tr>\n",
       "      <th>2</th>\n",
       "      <td>2004-08-23</td>\n",
       "      <td>55.017166</td>\n",
       "      <td>56.373344</td>\n",
       "      <td>54.172661</td>\n",
       "      <td>54.346527</td>\n",
       "      <td>54.346527</td>\n",
       "      <td>18393200</td>\n",
       "    </tr>\n",
       "    <tr>\n",
       "      <th>3</th>\n",
       "      <td>2004-08-24</td>\n",
       "      <td>55.260582</td>\n",
       "      <td>55.439419</td>\n",
       "      <td>51.450363</td>\n",
       "      <td>52.096165</td>\n",
       "      <td>52.096165</td>\n",
       "      <td>15361800</td>\n",
       "    </tr>\n",
       "    <tr>\n",
       "      <th>4</th>\n",
       "      <td>2004-08-25</td>\n",
       "      <td>52.140873</td>\n",
       "      <td>53.651051</td>\n",
       "      <td>51.604362</td>\n",
       "      <td>52.657513</td>\n",
       "      <td>52.657513</td>\n",
       "      <td>9257400</td>\n",
       "    </tr>\n",
       "  </tbody>\n",
       "</table>\n",
       "</div>"
      ],
      "text/plain": [
       "<div>\n",
       "<style scoped>\n",
       "    .dataframe tbody tr th:only-of-type {\n",
       "        vertical-align: middle;\n",
       "    }\n",
       "\n",
       "    .dataframe tbody tr th {\n",
       "        vertical-align: top;\n",
       "    }\n",
       "\n",
       "    .dataframe thead th {\n",
       "        text-align: right;\n",
       "    }\n",
       "</style>\n",
       "<table border=\"1\" class=\"dataframe\">\n",
       "  <thead>\n",
       "    <tr style=\"text-align: right;\">\n",
       "      <th></th>\n",
       "      <th>Date</th>\n",
       "      <th>Open</th>\n",
       "      <th>High</th>\n",
       "      <th>Low</th>\n",
       "      <th>Close</th>\n",
       "      <th>Adj Close</th>\n",
       "      <th>Volume</th>\n",
       "    </tr>\n",
       "  </thead>\n",
       "  <tbody>\n",
       "    <tr>\n",
       "      <th>0</th>\n",
       "      <td>2004-08-19</td>\n",
       "      <td>49.676899</td>\n",
       "      <td>51.693783</td>\n",
       "      <td>47.669952</td>\n",
       "      <td>49.845802</td>\n",
       "      <td>49.845802</td>\n",
       "      <td>44994500</td>\n",
       "    </tr>\n",
       "    <tr>\n",
       "      <th>1</th>\n",
       "      <td>2004-08-20</td>\n",
       "      <td>50.178635</td>\n",
       "      <td>54.187561</td>\n",
       "      <td>49.925285</td>\n",
       "      <td>53.805050</td>\n",
       "      <td>53.805050</td>\n",
       "      <td>23005800</td>\n",
       "    </tr>\n",
       "    <tr>\n",
       "      <th>2</th>\n",
       "      <td>2004-08-23</td>\n",
       "      <td>55.017166</td>\n",
       "      <td>56.373344</td>\n",
       "      <td>54.172661</td>\n",
       "      <td>54.346527</td>\n",
       "      <td>54.346527</td>\n",
       "      <td>18393200</td>\n",
       "    </tr>\n",
       "    <tr>\n",
       "      <th>3</th>\n",
       "      <td>2004-08-24</td>\n",
       "      <td>55.260582</td>\n",
       "      <td>55.439419</td>\n",
       "      <td>51.450363</td>\n",
       "      <td>52.096165</td>\n",
       "      <td>52.096165</td>\n",
       "      <td>15361800</td>\n",
       "    </tr>\n",
       "    <tr>\n",
       "      <th>4</th>\n",
       "      <td>2004-08-25</td>\n",
       "      <td>52.140873</td>\n",
       "      <td>53.651051</td>\n",
       "      <td>51.604362</td>\n",
       "      <td>52.657513</td>\n",
       "      <td>52.657513</td>\n",
       "      <td>9257400</td>\n",
       "    </tr>\n",
       "  </tbody>\n",
       "</table>\n",
       "</div>"
      ]
     },
     "execution_count": 56,
     "metadata": {},
     "output_type": "execute_result"
    }
   ],
   "source": [
    "google_stock.head()"
   ]
  },
  {
   "cell_type": "code",
   "execution_count": 58,
   "metadata": {},
   "outputs": [
    {
     "data": {
      "text/plain": [
       "Date         False\nOpen         False\nHigh         False\nLow          False\nClose        False\nAdj Close    False\nVolume       False\ndtype: bool"
      ]
     },
     "execution_count": 58,
     "metadata": {},
     "output_type": "execute_result"
    }
   ],
   "source": [
    "google_stock.isnull().any()"
   ]
  },
  {
   "cell_type": "markdown",
   "metadata": {},
   "source": [
    "#### Functions\n",
    "\n",
    "* data.groupby(['Year'])['Salary'].sum()\n"
   ]
  },
  {
   "cell_type": "code",
   "execution_count": null,
   "metadata": {},
   "outputs": [],
   "source": []
  }
 ],
 "metadata": {
  "colab": {
   "name": "AI Programming with Python.ipynb",
   "version": "0.3.2",
   "provenance": [],
   "collapsed_sections": []
  },
  "kernelspec": {
   "name": "python3",
   "display_name": "Python 3"
  }
 },
 "nbformat": 4,
 "nbformat_minor": 0
}
