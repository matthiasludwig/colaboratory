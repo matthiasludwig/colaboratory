{
 "cells": [
  {
   "cell_type": "markdown",
   "metadata": {
    "id": "SwADN9G2lK9u",
    "colab_type": "text"
   },
   "source": [
    "# 1. Introduction AI Programming\n",
    "The program focuses on Python Programming and three main frameworks:\n",
    "\n",
    "*   Numpy - Data Input and Handling\n",
    "*   Pandas - Data Manipulation\n",
    "*   Matplotlib - Data Visualization"
   ]
  },
  {
   "cell_type": "markdown",
   "metadata": {
    "id": "PshFBxWdBx6y",
    "colab_type": "text"
   },
   "source": [
    "# 2. Intro to Python Programming\n",
    "\n",
    "Python Tips:\n",
    "\n",
    "*   Python is case sensitive\n",
    "*   Spacing is important (not very heavy on syntax)\n",
    "*   Use Error messages"
   ]
  },
  {
   "cell_type": "code",
   "execution_count": 1,
   "metadata": {
    "id": "xzYz5sDgEGuM",
    "colab_type": "code",
    "colab": {
     "base_uri": "https://localhost:8080/",
     "height": 52.0
    },
    "outputId": "d4477e0f-d059-4a7f-e692-09c397d2a629"
   },
   "outputs": [
    {
     "name": "stdout",
     "output_type": "stream",
     "text": [
      "0\n0.30000000000000004\n"
     ]
    }
   ],
   "source": [
    "mv_population = 74728 # Assignment operator\n",
    "\n",
    "# Both statements are equal\n",
    "\n",
    "x = 2\n",
    "y = 3\n",
    "z = 5\n",
    "\n",
    "x, y, z = 2, 3, 5\n",
    "\n",
    "int(x)  # int\n",
    "float(x/y)  # float\n",
    "\n",
    "print(int(x/y))\n",
    "print(0.1 + 0.1 + 0.1)  # float is an approximation"
   ]
  },
  {
   "cell_type": "markdown",
   "metadata": {
    "id": "NYBILlmlBy_A",
    "colab_type": "text"
   },
   "source": [
    "## Data Types and Operators\n",
    "### Arithmetic Operators\n",
    "\n",
    "** Exponentiation\n",
    "// Divides and rounds **down** to the nearest integer\n",
    "\n",
    "^ is *bitwise XOR*\n",
    "\n",
    "**Naming** of variables:\n",
    "* Only use ordinary letters, numbers and underscores. Needs to start with an underscore or letter.\n",
    "* Can't use reserved words or built-in identifiers.\n",
    "* The pythonic way to name variables is to use all lowercase letters and underscores to seperate words.\n",
    "\n",
    "**[PEP 8](https://www.python.org/dev/peps/pep-0008/)** are part of the Python Developer's Guide and the style guidlines"
   ]
  },
  {
   "cell_type": "code",
   "execution_count": 2,
   "metadata": {
    "id": "NSaXQuwnHFGm",
    "colab_type": "code",
    "colab": {}
   },
   "outputs": [
    {
     "name": "stdout",
     "output_type": "stream",
     "text": [
      "447627500.0\n"
     ]
    }
   ],
   "source": [
    "# Exercise to Assignment Operator\n",
    "\n",
    "# The current volume of a water reservoir (in cubic metres)\n",
    "reservoir_volume = 4.445e8\n",
    "# The amount of rainfall from a storm (in cubic metres)\n",
    "rainfall = 5e6\n",
    "\n",
    "# decrease the rainfall variable by 10% to account for runoff\n",
    "rainfall *= 0.9\n",
    "# add the rainfall variable to the reservoir_volume variable\n",
    "reservoir_volume += rainfall\n",
    "# increase reservoir_volume by 5% to account for storm water that flows\n",
    "# into the reservoir in the days following the storm\n",
    "reservoir_volume *= 1.05\n",
    "# decrease reservoir_volume by 5% to account for evaporation\n",
    "reservoir_volume *= 0.95\n",
    "# subtract 2.5e5 cubic metres from reservoir_volume to account for water\n",
    "# that's piped to arid regions.\n",
    "reservoir_volume -= 2.5e5\n",
    "# print the new value of the reservoir_volume variable\n",
    "print(reservoir_volume)"
   ]
  },
  {
   "cell_type": "markdown",
   "metadata": {},
   "source": [
    "Exceptions = Happens with the execution of the code\n",
    "\n",
    "Syntax Errors = Checked by python before execution"
   ]
  },
  {
   "cell_type": "code",
   "execution_count": 3,
   "metadata": {},
   "outputs": [
    {
     "name": "stdout",
     "output_type": "stream",
     "text": [
      "This is a string with 2 two variables matthias\n"
     ]
    }
   ],
   "source": [
    "number = 2\n",
    "name = \"matthias\"\n",
    "\n",
    "print(\"This is a string with {} two variables {}\".format(number, name))"
   ]
  },
  {
   "cell_type": "markdown",
   "metadata": {},
   "source": [
    "### Lists\n",
    "\n",
    "* Lists are mutable ordered list of elements\n",
    "* Lists can contain any mix of different data types\n",
    "\n",
    "#### Slicing and dicing\n",
    "\n",
    "* example_List[6:9] - lower bound is inclusive. upper bound is exclusive.\n",
    "* example_list[:9] - to include the beginning (also works for end)\n",
    "* \"String\" (not) in example_List - Output is true or false\n"
   ]
  },
  {
   "cell_type": "code",
   "execution_count": 6,
   "metadata": {},
   "outputs": [
    {
     "name": "stdout",
     "output_type": "stream",
     "text": [
      "True\ndecember\n"
     ]
    }
   ],
   "source": [
    "example_List = ['january', 'february', 'march', 'april', 'may', 'june', 'july', 'august', 'september', 'october',\n",
    "                'november', 'december']\n",
    "print('January' not in example_List)  # in or not in\n",
    "print(example_List[-1])  # Indexing also works backwards with negative numbers\n"
   ]
  },
  {
   "cell_type": "markdown",
   "metadata": {},
   "source": [
    "#### List functions\n",
    "\n",
    "* max()\n",
    "* len()\n",
    "* min()\n",
    "* sorted(list, reverse=False) - creates a sorted copy\n",
    "* append() - appends an element at the end of the list"
   ]
  },
  {
   "cell_type": "code",
   "execution_count": 9,
   "metadata": {},
   "outputs": [
    {
     "name": "stdout",
     "output_type": "stream",
     "text": [
      "Carol\nBen\nhello\nworld\nwhat\nhappens\n"
     ]
    }
   ],
   "source": [
    "names = [\"Albert\", \"Carol\", \"Ben\", \"Eugenia\"]\n",
    "print(names[1])\n",
    "names = sorted(names)\n",
    "print(names[1])\n",
    "\n",
    "new_str = \"\\n\".join([\"hello\", \"world\", \"what\", \"happens\"])\n",
    "print(new_str)"
   ]
  },
  {
   "cell_type": "markdown",
   "metadata": {},
   "source": [
    "### Tuples\n",
    "\n",
    "* immutable ordered sequence of elements (for example: latitude, longitude)\n",
    "\n",
    "``\n",
    "Ankor_Wat = 1.2102, 10491\n",
    "``"
   ]
  },
  {
   "cell_type": "markdown",
   "metadata": {},
   "source": [
    "### Sets\n",
    "\n",
    "* unique elements without any particular ordering\n",
    "* supports (not) in operator\n",
    "* .add(\"Something\")\n",
    "* .pop() - random elements is removed"
   ]
  },
  {
   "cell_type": "markdown",
   "metadata": {},
   "source": [
    "### Dictionaries and Identy Operators\n",
    "\n",
    "* Mutable objects that contains a mapping of unique keys to values\n",
    "\n",
    "#### Dictionaries functions\n",
    "* in/not in\n",
    "* elements.get('key') - If you don't know if a key is in the dictionary\n",
    "\n",
    "is/is not : Identity Operator"
   ]
  },
  {
   "cell_type": "code",
   "execution_count": 12,
   "metadata": {},
   "outputs": [
    {
     "data": {
      "text/plain": [
       "'Error Message to be displayed'"
      ]
     },
     "execution_count": 12,
     "metadata": {},
     "output_type": "execute_result"
    }
   ],
   "source": [
    "elements = {'hydrogen' : 1, 'helium' : 2}\n",
    "elements['hydrogen']  # 1\n",
    "elements.get('kryptonite', \"Error Message to be displayed\")"
   ]
  },
  {
   "cell_type": "code",
   "execution_count": 13,
   "metadata": {},
   "outputs": [
    {
     "name": "stdout",
     "output_type": "stream",
     "text": [
      "False\nTrue\n"
     ]
    }
   ],
   "source": [
    "# Nested Dictionaries\n",
    "elements = {'hydrogen': {'number': 1, 'weight': 1.00794, 'symbol': 'H', 'is_noble_gas': False},\n",
    "            'helium': {'number': 2, 'weight': 4.002602, 'symbol': 'He', 'is_noble_gas': True}}\n",
    "# hint: helium is a noble gas, hydrogen isn't\n",
    "\n",
    "print(elements['hydrogen']['is_noble_gas'])\n",
    "print(elements['helium']['is_noble_gas'])"
   ]
  },
  {
   "cell_type": "markdown",
   "metadata": {
    "id": "zxcJOoC6B3BG",
    "colab_type": "text"
   },
   "source": [
    "## Control Flow"
   ]
  },
  {
   "cell_type": "markdown",
   "metadata": {
    "id": "nWiCYfo8B63I",
    "colab_type": "text"
   },
   "source": [
    "## Functions"
   ]
  },
  {
   "cell_type": "markdown",
   "metadata": {
    "id": "F2xS7iRKB8Xu",
    "colab_type": "text"
   },
   "source": [
    "## Scripting"
   ]
  }
 ],
 "metadata": {
  "colab": {
   "name": "AI Programming with Python.ipynb",
   "version": "0.3.2",
   "provenance": [],
   "collapsed_sections": []
  },
  "kernelspec": {
   "name": "python3",
   "display_name": "Python 3"
  }
 },
 "nbformat": 4,
 "nbformat_minor": 0
}
