{
  "nbformat": 4,
  "nbformat_minor": 0,
  "metadata": {
    "colab": {
      "name": "AI Programming with Python.ipynb",
      "version": "0.3.2",
      "provenance": [],
      "collapsed_sections": []
    },
    "kernelspec": {
      "name": "python3",
      "display_name": "Python 3"
    }
  },
  "cells": [
    {
      "metadata": {
        "id": "SwADN9G2lK9u",
        "colab_type": "text"
      },
      "cell_type": "markdown",
      "source": [
        "# 1. Introduction AI Programming\n",
        "The program focuses on Python Programming and three main frameworks:\n",
        "\n",
        "\n",
        "*   Numpy - Data Input and Handling\n",
        "*   Pandas - Data Manipulation\n",
        "*   Matplotlib - Data Visualization"
      ]
    },
    {
      "metadata": {
        "id": "PshFBxWdBx6y",
        "colab_type": "text"
      },
      "cell_type": "markdown",
      "source": [
        "# 2. Intro to Python Programming\n",
        "\n",
        "Python Tips:\n",
        "\n",
        "*   Python is case sensitive\n",
        "*   Spacing is important (not very heavy on syntax)\n",
        "*   Use Error messages"
      ]
    },
    {
      "metadata": {
        "id": "NYBILlmlBy_A",
        "colab_type": "text"
      },
      "cell_type": "markdown",
      "source": [
        "## Data Types and Operators\n",
        "### Arithmetic Operators\n",
        "\n",
        "** Exponentiation\n",
        "// Divides and rounds **down** to the nearest integer\n",
        "^ bitwise XOR\n",
        "\n",
        "**Naming** of variables:\n",
        "* Only use ordinary letters, numbers and underscores. Needs to start with an underscore or letter.\n",
        "* Can't use reserved words or built-in identifiers.\n",
        "* The pythonic way to name variables is to use all lowercase letters and underscores to seperate words.\n",
        "\n",
        "**[PEP 8](https://www.python.org/dev/peps/pep-0008/)** are part of the Python Developer's Guide and the style guidlines"
      ]
    },
    {
      "metadata": {
        "id": "xzYz5sDgEGuM",
        "colab_type": "code",
        "colab": {
          "base_uri": "https://localhost:8080/",
          "height": 52
        },
        "outputId": "d4477e0f-d059-4a7f-e692-09c397d2a629"
      },
      "cell_type": "code",
      "source": [
        "mv_population = 74728 # Assignment operator\n",
        "\n",
        "# Both statements are equal\n",
        "\n",
        "x = 2\n",
        "y = 3\n",
        "z = 5\n",
        "\n",
        "x, y, z = 2, 3, 5\n",
        "\n",
        "type(x) # int\n",
        "type(x/y) # float\n",
        "\n",
        "print(int(x/y))\n",
        "print(0.1 + 0.1 + 0.1)"
      ],
      "execution_count": 4,
      "outputs": [
        {
          "output_type": "stream",
          "text": [
            "0\n",
            "0.30000000000000004\n"
          ],
          "name": "stdout"
        }
      ]
    },
    {
      "metadata": {
        "id": "NSaXQuwnHFGm",
        "colab_type": "code",
        "colab": {}
      },
      "cell_type": "code",
      "source": [
        ""
      ],
      "execution_count": 0,
      "outputs": []
    },
    {
      "metadata": {
        "id": "zxcJOoC6B3BG",
        "colab_type": "text"
      },
      "cell_type": "markdown",
      "source": [
        "## Control Flow"
      ]
    },
    {
      "metadata": {
        "id": "nWiCYfo8B63I",
        "colab_type": "text"
      },
      "cell_type": "markdown",
      "source": [
        "## Functions"
      ]
    },
    {
      "metadata": {
        "id": "F2xS7iRKB8Xu",
        "colab_type": "text"
      },
      "cell_type": "markdown",
      "source": [
        "## Scripting"
      ]
    }
  ]
}